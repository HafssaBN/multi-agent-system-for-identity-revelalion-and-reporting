{
 "cells": [
  {
   "cell_type": "code",
   "execution_count": 2,
   "id": "447e67be",
   "metadata": {},
   "outputs": [],
   "source": [
    "import asyncio\n",
    "from typing import List, Dict, Optional, Union, Any\n",
    "from pydantic import BaseModel, Field\n",
    "from langchain_core.tools import tool\n",
    "import random\n",
    "import time\n",
    "\n",
    "from crawl4ai import AsyncWebCrawler, CrawlerRunConfig, LLMExtractionStrategy, LLMConfig, BrowserConfig\n",
    "from multi_agents.constants.constants import Constants\n",
    "\n",
    "# Keep all your existing Pydantic models\n",
    "class ListingSummary(BaseModel):\n",
    "    url: Optional[str] = Field(description=\"Direct link to the listing page\")\n",
    "    title: str = Field(description=\"Property listing title/name\")\n",
    "    type: str = Field(description=\"Property type (e.g., 'Rental unit', 'Riad')\")\n",
    "    rating_text: Optional[str] = Field(description=\"Rating information (e.g., '4.85 out of 5')\")\n",
    "\n",
    "class HostResponse(BaseModel):\n",
    "    responder_name: str = Field(description=\"Name of the person who responded (usually the host)\")\n",
    "    date: str = Field(description=\"Date of the host's response\")\n",
    "    text: str = Field(description=\"The content of the host's response\")\n",
    "\n",
    "class Review(BaseModel):\n",
    "    reviewer_name: str = Field(description=\"Name of the guest who left the review\")\n",
    "    reviewer_location: Optional[str] = Field(description=\"Guest's location or 'N/A'\")\n",
    "    date: str = Field(description=\"Date the review was posted\")\n",
    "    text: str = Field(description=\"The full content/message of the review\")\n",
    "    host_response: Optional[HostResponse] = Field(description=\"The host's response to the review, if available\")\n",
    "\n",
    "class PlaceVisited(BaseModel):\n",
    "    place: str = Field(description=\"Location name (e.g., 'London, United Kingdom')\")\n",
    "    details: str = Field(description=\"Visit information (e.g., 'June 2025', '4 trips')\")\n",
    "\n",
    "class AirbnbHostProfile(BaseModel):\n",
    "    name: str = Field(description=\"The host's display name.\")\n",
    "    profile_picture_url: Optional[str] = Field(description=\"URL of the host's profile picture.\")\n",
    "    bio: Optional[str] = Field(description=\"The host's personal bio or description text.\")\n",
    "    about_details: List[str] = Field(description=\"A list of structured details from the 'About' section (work, pets, etc.).\")\n",
    "    places_visited: List[PlaceVisited] = Field(description=\"List of places the host has visited.\")\n",
    "    listings: List[ListingSummary] = Field(description=\"A list of all property listings by the host.\")\n",
    "    reviews: List[Review] = Field(description=\"A list of all reviews left for the host.\")\n",
    "\n",
    "class PriceDetails(BaseModel):\n",
    "    display_price: Optional[str] = Field(description=\"The main price displayed for the listing (e.g., '$150 / night').\")\n",
    "    breakdown: Optional[Dict[str, Any]] = Field(description=\"A dictionary of the detailed price breakdown if available.\")\n",
    "\n",
    "class HostInfo(BaseModel):\n",
    "    name: str = Field(description=\"The host's name.\")\n",
    "    details: Optional[str] = Field(description=\"Host status and experience (e.g., 'Superhost | 3 years hosting').\")\n",
    "    profile_url: Optional[str] = Field(description=\"Link to the host's profile page.\")\n",
    "\n",
    "class AirbnbListingDetails(BaseModel):\n",
    "    apartment_name: str = Field(description=\"The title or name of the property listing.\")\n",
    "    listing_summary: str = Field(description=\"A brief summary including number of guests, bedrooms, beds, and baths.\")\n",
    "    rating: Optional[str] = Field(description=\"The overall rating score (e.g., '4.89').\")\n",
    "    reviews_count: Optional[str] = Field(description=\"The total number of reviews.\")\n",
    "    image_urls: List[str] = Field(description=\"A list of up to 5 URLs for the property's images.\")\n",
    "    description: str = Field(description=\"The full text description of the property.\")\n",
    "    host_info: HostInfo = Field(description=\"Information about the host of the listing.\")\n",
    "    amenities: List[str] = Field(description=\"A list of up to 10 key amenities available.\")\n",
    "    location_details: Dict[str, str] = Field(description=\"Location details, including address and neighborhood description.\")\n",
    "    price_details: Optional[PriceDetails] = Field(description=\"Detailed pricing information for the listing.\")\n",
    "\n",
    "# Session management\n",
    "_last_request_time = {}\n",
    "_session_count = 0\n",
    "\n",
    "def run_async_tool(tool_coro):\n",
    "    \"\"\"Execute an async tool from a synchronous context.\"\"\"\n",
    "    try:\n",
    "        loop = asyncio.get_running_loop()\n",
    "    except RuntimeError:\n",
    "        loop = None\n",
    "\n",
    "    if loop and loop.is_running():\n",
    "        return asyncio.ensure_future(tool_coro)\n",
    "    else:\n",
    "        return asyncio.run(tool_coro)\n",
    "\n",
    "def get_rotating_user_agent():\n",
    "    \"\"\"Get a different user agent for each request\"\"\"\n",
    "    user_agents = [\n",
    "        \"Mozilla/5.0 (Windows NT 10.0; Win64; x64) AppleWebKit/537.36 (KHTML, like Gecko) Chrome/121.0.0.0 Safari/537.36\",\n",
    "        \"Mozilla/5.0 (Macintosh; Intel Mac OS X 10_15_7) AppleWebKit/537.36 (KHTML, like Gecko) Chrome/121.0.0.0 Safari/537.36\",\n",
    "        \"Mozilla/5.0 (X11; Linux x86_64) AppleWebKit/537.36 (KHTML, like Gecko) Chrome/121.0.0.0 Safari/537.36\",\n",
    "        \"Mozilla/5.0 (Windows NT 10.0; Win64; x64) AppleWebKit/537.36 (KHTML, like Gecko) Chrome/120.0.0.0 Safari/537.36 Edg/120.0.0.0\",\n",
    "        \"Mozilla/5.0 (Macintosh; Intel Mac OS X 10_15_7) AppleWebKit/605.1.15 (KHTML, like Gecko) Version/17.2.1 Safari/605.1.15\",\n",
    "        \"Mozilla/5.0 (Windows NT 10.0; Win64; x64; rv:121.0) Gecko/20100101 Firefox/121.0\"\n",
    "    ]\n",
    "    global _session_count\n",
    "    _session_count += 1\n",
    "    return user_agents[_session_count % len(user_agents)]\n",
    "\n",
    "async def enforce_rate_limiting(min_delay=45):\n",
    "    \"\"\"Enforce delays between requests\"\"\"\n",
    "    global _last_request_time\n",
    "    \n",
    "    current_time = time.time()\n",
    "    domain = \"airbnb.com\"\n",
    "    \n",
    "    if domain in _last_request_time:\n",
    "        time_since_last = current_time - _last_request_time[domain]\n",
    "        if time_since_last < min_delay:\n",
    "            delay = min_delay - time_since_last + random.uniform(10, 20)\n",
    "            print(f\"⏳ Rate limiting: waiting {delay:.1f} seconds...\")\n",
    "            await asyncio.sleep(delay)\n",
    "    \n",
    "    _last_request_time[domain] = current_time\n",
    "\n",
    "def create_stealth_browser_config():\n",
    "    \"\"\"Create browser config with anti-detection measures\"\"\"\n",
    "    user_agent = get_rotating_user_agent()\n",
    "    \n",
    "    # Enhanced stealth arguments\n",
    "    stealth_args = [\n",
    "        \"--no-sandbox\",\n",
    "        \"--disable-dev-shm-usage\",\n",
    "        \"--disable-blink-features=AutomationControlled\",\n",
    "        \"--disable-extensions\",\n",
    "        \"--disable-plugins\",\n",
    "        \"--disable-web-security\",\n",
    "        \"--disable-features=VizDisplayCompositor\",\n",
    "        \"--disable-background-timer-throttling\",\n",
    "        \"--disable-renderer-backgrounding\",\n",
    "        \"--disable-backgrounding-occluded-windows\",\n",
    "        \"--disable-ipc-flooding-protection\",\n",
    "        \"--disable-client-side-phishing-detection\",\n",
    "        \"--disable-component-extensions-with-background-pages\",\n",
    "        \"--disable-default-apps\",\n",
    "        \"--disable-domain-reliability\",\n",
    "        \"--disable-sync\",\n",
    "        \"--no-default-browser-check\",\n",
    "        \"--no-first-run\",\n",
    "        \"--no-pings\",\n",
    "        \"--password-store=basic\",\n",
    "        \"--use-mock-keychain\",\n",
    "        \"--disable-gpu\",\n",
    "        \"--disable-software-rasterizer\",\n",
    "        f\"--user-agent={user_agent}\",\n",
    "        f\"--window-size={random.randint(1200, 1920)},{random.randint(800, 1080)}\",\n",
    "        f\"--window-position={random.randint(0, 200)},{random.randint(0, 200)}\"\n",
    "    ]\n",
    "    \n",
    "    return BrowserConfig(\n",
    "        headless=True,  # Set to False for debugging\n",
    "        extra_args=stealth_args\n",
    "    )\n",
    "\n",
    "@tool\n",
    "def get_airbnb_profile_data_fixed(profile_url: str, max_retries: int = 3) -> Dict[str, Any]:\n",
    "    \"\"\"\n",
    "    Fixed Airbnb profile scraper that works with current Crawl4AI API.\n",
    "    Uses session isolation and rate limiting to avoid detection.\n",
    "    \n",
    "    Args:\n",
    "        profile_url (str): The complete URL to the Airbnb host's profile page.\n",
    "        max_retries (int): Maximum number of retry attempts\n",
    "    \n",
    "    Returns:\n",
    "        Dict[str, Any]: Structured profile data or error information\n",
    "    \"\"\"\n",
    "    async def scrape_with_isolation():\n",
    "        # Enforce rate limiting before each request\n",
    "        await enforce_rate_limiting()\n",
    "        \n",
    "        for attempt in range(max_retries):\n",
    "            try:\n",
    "                if attempt > 0:\n",
    "                    delay = random.uniform(60, 120)  # Long delays between retries\n",
    "                    print(f\"🔄 Retry attempt {attempt + 1} after {delay:.1f}s delay...\")\n",
    "                    await asyncio.sleep(delay)\n",
    "                \n",
    "                print(f\"🚀 Attempting to scrape {profile_url} (attempt {attempt + 1}/{max_retries})\")\n",
    "                \n",
    "                # Enhanced JavaScript with better timing\n",
    "                js_click_reviews = \"\"\"\n",
    "                (async () => {\n",
    "                    try {\n",
    "                        // Wait for page to fully load\n",
    "                        await new Promise(resolve => setTimeout(resolve, 4000));\n",
    "                        \n",
    "                        const selectors = [\n",
    "                            'button:has-text(\"Show all\")',\n",
    "                            'button:has-text(\"See all\")',\n",
    "                            'a:has-text(\"Show all reviews\")',\n",
    "                            'button[aria-label*=\"review\"]',\n",
    "                            'button[data-testid*=\"review\"]'\n",
    "                        ];\n",
    "                        \n",
    "                        for (const selector of selectors) {\n",
    "                            try {\n",
    "                                const elements = document.querySelectorAll('button, a, div[role=\"button\"]');\n",
    "                                for (const el of elements) {\n",
    "                                    const text = (el.textContent || '').toLowerCase();\n",
    "                                    if ((text.includes('show all') || text.includes('see all')) && \n",
    "                                        text.includes('review')) {\n",
    "                                        console.log('Clicking review button:', text);\n",
    "                                        el.click();\n",
    "                                        return true;\n",
    "                                    }\n",
    "                                }\n",
    "                            } catch (e) {\n",
    "                                console.log('Error with selector:', selector, e);\n",
    "                            }\n",
    "                        }\n",
    "                        console.log('No review button found');\n",
    "                        return false;\n",
    "                    } catch (e) {\n",
    "                        console.log('Error in review click script:', e);\n",
    "                        return false;\n",
    "                    }\n",
    "                })();\n",
    "                \"\"\"\n",
    "\n",
    "                js_scroll_modal = \"\"\"\n",
    "                (async () => {\n",
    "                    try {\n",
    "                        // Wait for modal to open\n",
    "                        await new Promise(resolve => setTimeout(resolve, 6000));\n",
    "                        \n",
    "                        const modalSelectors = [\n",
    "                            \"div[role='dialog']\",\n",
    "                            \"div[aria-modal='true']\",\n",
    "                            \".modal\",\n",
    "                            \"div[data-testid*='modal']\",\n",
    "                            \"div[data-testid*='reviews-modal']\"\n",
    "                        ];\n",
    "                        \n",
    "                        let modal = null;\n",
    "                        for (const selector of modalSelectors) {\n",
    "                            modal = document.querySelector(selector);\n",
    "                            if (modal) break;\n",
    "                        }\n",
    "                        \n",
    "                        if (!modal) {\n",
    "                            console.log('No modal found for scrolling');\n",
    "                            return;\n",
    "                        }\n",
    "                        \n",
    "                        console.log('Modal found, starting scroll process');\n",
    "                        \n",
    "                        // Find scrollable container\n",
    "                        const scrollableElements = modal.querySelectorAll('div');\n",
    "                        let scrollableDiv = null;\n",
    "                        \n",
    "                        for (const div of scrollableElements) {\n",
    "                            if (div.scrollHeight > div.clientHeight && \n",
    "                                getComputedStyle(div).overflow !== 'visible') {\n",
    "                                scrollableDiv = div;\n",
    "                                break;\n",
    "                            }\n",
    "                        }\n",
    "                        \n",
    "                        if (!scrollableDiv) {\n",
    "                            console.log('No scrollable div found');\n",
    "                            return;\n",
    "                        }\n",
    "\n",
    "                        let lastHeight = 0;\n",
    "                        let scrollAttempts = 0;\n",
    "                        const maxScrolls = 6;\n",
    "                        \n",
    "                        while (scrollAttempts < maxScrolls) {\n",
    "                            scrollableDiv.scrollTop = scrollableDiv.scrollHeight;\n",
    "                            await new Promise(resolve => setTimeout(resolve, 3000));\n",
    "                            \n",
    "                            const currentHeight = scrollableDiv.scrollHeight;\n",
    "                            console.log(`Scroll ${scrollAttempts + 1}: height ${currentHeight}`);\n",
    "                            \n",
    "                            if (currentHeight === lastHeight) {\n",
    "                                console.log('No new content loaded');\n",
    "                                break;\n",
    "                            }\n",
    "                            \n",
    "                            lastHeight = currentHeight;\n",
    "                            scrollAttempts++;\n",
    "                        }\n",
    "                        \n",
    "                        console.log('Scrolling complete');\n",
    "                    } catch (e) {\n",
    "                        console.log('Error in scroll script:', e);\n",
    "                    }\n",
    "                })();\n",
    "                \"\"\"\n",
    "\n",
    "                browser_config = create_stealth_browser_config()\n",
    "                \n",
    "                llm_config = LLMConfig(\n",
    "                    provider=f\"groq/{Constants.MODEL}\",\n",
    "                    api_token=Constants.GROQ_API_KEY,\n",
    "                    temperature=0.05\n",
    "                )\n",
    "\n",
    "                config = CrawlerRunConfig(\n",
    "                    js_code=[js_click_reviews, js_scroll_modal],\n",
    "                    wait_until=\"load\",\n",
    "                    page_timeout=120000,  # 2 minutes timeout\n",
    "                    delay_before_return_html=8.0,  # Wait 8 seconds before extraction\n",
    "                    extraction_strategy=LLMExtractionStrategy(\n",
    "                        llm_config=llm_config,\n",
    "                        schema=AirbnbHostProfile.model_json_schema(),\n",
    "                        extraction_type=\"schema\",\n",
    "                        instruction=(\n",
    "                            \"Extract all information from this Airbnb host profile page. \"\n",
    "                            \"Include: host name, bio, profile picture URL, about details, \"\n",
    "                            \"places visited, property listings, and all reviews with responses. \"\n",
    "                            \"Be comprehensive and accurate. If data is missing, use null/empty values.\"\n",
    "                        )\n",
    "                    )\n",
    "                )\n",
    "\n",
    "                # Create a fresh crawler instance for each attempt\n",
    "                async with AsyncWebCrawler(config=browser_config) as crawler:\n",
    "                    result = await crawler.arun(url=profile_url, config=config)\n",
    "                    \n",
    "                    if result.success and result.extracted_content:\n",
    "                        print(\"✅ Successfully extracted content!\")\n",
    "                        return result.extracted_content\n",
    "                    else:\n",
    "                        error_msg = getattr(result, 'error_message', 'Unknown error')\n",
    "                        print(f\"❌ Attempt {attempt + 1} failed: {error_msg}\")\n",
    "                        \n",
    "                        if attempt == max_retries - 1:\n",
    "                            return {\n",
    "                                \"error\": f\"Failed after {max_retries} attempts. Last error: {error_msg}\",\n",
    "                                \"url\": profile_url,\n",
    "                                \"attempts\": max_retries,\n",
    "                                \"suggestion\": \"Try again later, check URL accessibility, or use a VPN\"\n",
    "                            }\n",
    "\n",
    "            except Exception as e:\n",
    "                error_msg = str(e)\n",
    "                print(f\"💥 Attempt {attempt + 1} failed with exception: {error_msg}\")\n",
    "                \n",
    "                if attempt == max_retries - 1:\n",
    "                    return {\n",
    "                        \"error\": f\"Scraping failed: {error_msg}\",\n",
    "                        \"url\": profile_url,\n",
    "                        \"attempts\": max_retries,\n",
    "                        \"suggestion\": \"Check network connection and Crawl4AI installation\"\n",
    "                    }\n",
    "\n",
    "        return {\"error\": \"Unexpected end of retry loop\"}\n",
    "\n",
    "    return run_async_tool(scrape_with_isolation())\n",
    "\n",
    "\n",
    "@tool\n",
    "def reset_airbnb_session() -> Dict[str, str]:\n",
    "    \"\"\"Reset the scraper session to start fresh\"\"\"\n",
    "    global _last_request_time, _session_count\n",
    "    _last_request_time.clear()\n",
    "    _session_count = 0\n",
    "    \n",
    "    return {\n",
    "        \"status\": \"success\", \n",
    "        \"message\": \"Session reset successfully\",\n",
    "        \"timestamp\": str(time.time())\n",
    "    }\n",
    "\n",
    "\n",
    "@tool\n",
    "def quick_airbnb_test(profile_url: str) -> Dict[str, Any]:\n",
    "    \"\"\"\n",
    "    Quick test to check if Airbnb URL is accessible without full scraping\n",
    "    \"\"\"\n",
    "    async def quick_test():\n",
    "        try:\n",
    "            browser_config = create_stealth_browser_config()\n",
    "            \n",
    "            config = CrawlerRunConfig(\n",
    "                wait_until=\"domcontentloaded\",\n",
    "                page_timeout=30000,\n",
    "                delay_before_return_html=3.0\n",
    "            )\n",
    "\n",
    "            async with AsyncWebCrawler(config=browser_config) as crawler:\n",
    "                result = await crawler.arun(url=profile_url, config=config)\n",
    "                \n",
    "                return {\n",
    "                    \"accessible\": result.success,\n",
    "                    \"status_code\": getattr(result, 'status_code', 'unknown'),\n",
    "                    \"title\": getattr(result, 'title', 'No title'),\n",
    "                    \"content_length\": len(result.html) if result.html else 0,\n",
    "                    \"url\": profile_url,\n",
    "                    \"error\": getattr(result, 'error_message', None) if not result.success else None\n",
    "                }\n",
    "                \n",
    "        except Exception as e:\n",
    "            return {\n",
    "                \"accessible\": False,\n",
    "                \"error\": str(e),\n",
    "                \"url\": profile_url\n",
    "            }\n",
    "    \n",
    "    return run_async_tool(quick_test())"
   ]
  },
  {
   "cell_type": "code",
   "execution_count": 3,
   "id": "dc85775a",
   "metadata": {},
   "outputs": [
    {
     "name": "stdout",
     "output_type": "stream",
     "text": [
      "🚀 Attempting to scrape https://www.airbnb.com/users/show/532236013 (attempt 1/3)\n"
     ]
    },
    {
     "data": {
      "text/html": [
       "<pre style=\"white-space:pre;overflow-x:auto;line-height:normal;font-family:Menlo,'DejaVu Sans Mono',consolas,'Courier New',monospace\"><span style=\"color: #008080; text-decoration-color: #008080; font-weight: bold\">[</span><span style=\"color: #008080; text-decoration-color: #008080\">INIT</span><span style=\"color: #008080; text-decoration-color: #008080; font-weight: bold\">]</span><span style=\"color: #008080; text-decoration-color: #008080\">.... → Crawl4AI </span><span style=\"color: #008080; text-decoration-color: #008080; font-weight: bold\">0.7</span><span style=\"color: #008080; text-decoration-color: #008080\">.</span><span style=\"color: #008080; text-decoration-color: #008080; font-weight: bold\">2</span><span style=\"color: #008080; text-decoration-color: #008080\"> </span>\n",
       "</pre>\n"
      ],
      "text/plain": [
       "\u001b[1;36m[\u001b[0m\u001b[36mINIT\u001b[0m\u001b[1;36m]\u001b[0m\u001b[36m...\u001b[0m\u001b[36m. → Crawl4AI \u001b[0m\u001b[1;36m0.7\u001b[0m\u001b[36m.\u001b[0m\u001b[1;36m2\u001b[0m\u001b[36m \u001b[0m\n"
      ]
     },
     "metadata": {},
     "output_type": "display_data"
    },
    {
     "data": {
      "text/html": [
       "<pre style=\"white-space:pre;overflow-x:auto;line-height:normal;font-family:Menlo,'DejaVu Sans Mono',consolas,'Courier New',monospace\"><span style=\"color: #008000; text-decoration-color: #008000; font-weight: bold\">[</span><span style=\"color: #008000; text-decoration-color: #008000\">FETCH</span><span style=\"color: #008000; text-decoration-color: #008000; font-weight: bold\">]</span><span style=\"color: #008000; text-decoration-color: #008000\">... ↓ </span><span style=\"color: #008000; text-decoration-color: #008000; text-decoration: underline\">https://www.airbnb.com/users/show/532236013</span><span style=\"color: #008000; text-decoration-color: #008000\">                                                          |</span>\n",
       "<span style=\"color: #008000; text-decoration-color: #008000\">✓ | ⏱: </span><span style=\"color: #008000; text-decoration-color: #008000; font-weight: bold\">42.</span><span style=\"color: #008000; text-decoration-color: #008000\">92s </span>\n",
       "</pre>\n"
      ],
      "text/plain": [
       "\u001b[1;32m[\u001b[0m\u001b[32mFETCH\u001b[0m\u001b[1;32m]\u001b[0m\u001b[32m...\u001b[0m\u001b[32m ↓ \u001b[0m\u001b[4;32mhttps://www.airbnb.com/users/show/532236013\u001b[0m\u001b[32m                                                          |\u001b[0m\n",
       "\u001b[32m✓\u001b[0m\u001b[32m | ⏱: \u001b[0m\u001b[1;32m42.\u001b[0m\u001b[32m92s \u001b[0m\n"
      ]
     },
     "metadata": {},
     "output_type": "display_data"
    },
    {
     "data": {
      "text/html": [
       "<pre style=\"white-space:pre;overflow-x:auto;line-height:normal;font-family:Menlo,'DejaVu Sans Mono',consolas,'Courier New',monospace\"><span style=\"color: #008000; text-decoration-color: #008000; font-weight: bold\">[</span><span style=\"color: #008000; text-decoration-color: #008000\">SCRAPE</span><span style=\"color: #008000; text-decoration-color: #008000; font-weight: bold\">]</span><span style=\"color: #008000; text-decoration-color: #008000\">.. ◆ </span><span style=\"color: #008000; text-decoration-color: #008000; text-decoration: underline\">https://www.airbnb.com/users/show/532236013</span><span style=\"color: #008000; text-decoration-color: #008000\">                                                          |</span>\n",
       "<span style=\"color: #008000; text-decoration-color: #008000\">✓ | ⏱: </span><span style=\"color: #008000; text-decoration-color: #008000; font-weight: bold\">0.</span><span style=\"color: #008000; text-decoration-color: #008000\">12s </span>\n",
       "</pre>\n"
      ],
      "text/plain": [
       "\u001b[1;32m[\u001b[0m\u001b[32mSCRAPE\u001b[0m\u001b[1;32m]\u001b[0m\u001b[32m.. ◆ \u001b[0m\u001b[4;32mhttps://www.airbnb.com/users/show/532236013\u001b[0m\u001b[32m                                                          |\u001b[0m\n",
       "\u001b[32m✓\u001b[0m\u001b[32m | ⏱: \u001b[0m\u001b[1;32m0.\u001b[0m\u001b[32m12s \u001b[0m\n"
      ]
     },
     "metadata": {},
     "output_type": "display_data"
    },
    {
     "data": {
      "text/html": [
       "<pre style=\"white-space:pre;overflow-x:auto;line-height:normal;font-family:Menlo,'DejaVu Sans Mono',consolas,'Courier New',monospace\"><span style=\"color: #008000; text-decoration-color: #008000; font-weight: bold\">[</span><span style=\"color: #008000; text-decoration-color: #008000\">EXTRACT</span><span style=\"color: #008000; text-decoration-color: #008000; font-weight: bold\">]</span><span style=\"color: #008000; text-decoration-color: #008000\">. ■ </span><span style=\"color: #008000; text-decoration-color: #008000; text-decoration: underline\">https://www.airbnb.com/users/show/532236013</span><span style=\"color: #008000; text-decoration-color: #008000\">                                                          |</span>\n",
       "<span style=\"color: #008000; text-decoration-color: #008000\">✓ | ⏱: </span><span style=\"color: #008000; text-decoration-color: #008000; font-weight: bold\">6.</span><span style=\"color: #008000; text-decoration-color: #008000\">43s </span>\n",
       "</pre>\n"
      ],
      "text/plain": [
       "\u001b[1;32m[\u001b[0m\u001b[32mEXTRACT\u001b[0m\u001b[1;32m]\u001b[0m\u001b[32m. ■ \u001b[0m\u001b[4;32mhttps://www.airbnb.com/users/show/532236013\u001b[0m\u001b[32m                                                          |\u001b[0m\n",
       "\u001b[32m✓\u001b[0m\u001b[32m | ⏱: \u001b[0m\u001b[1;32m6.\u001b[0m\u001b[32m43s \u001b[0m\n"
      ]
     },
     "metadata": {},
     "output_type": "display_data"
    },
    {
     "data": {
      "text/html": [
       "<pre style=\"white-space:pre;overflow-x:auto;line-height:normal;font-family:Menlo,'DejaVu Sans Mono',consolas,'Courier New',monospace\"><span style=\"color: #008000; text-decoration-color: #008000; font-weight: bold\">[</span><span style=\"color: #008000; text-decoration-color: #008000\">COMPLETE</span><span style=\"color: #008000; text-decoration-color: #008000; font-weight: bold\">]</span><span style=\"color: #008000; text-decoration-color: #008000\"> ● </span><span style=\"color: #008000; text-decoration-color: #008000; text-decoration: underline\">https://www.airbnb.com/users/show/532236013</span><span style=\"color: #008000; text-decoration-color: #008000\">                                                          |</span>\n",
       "<span style=\"color: #008000; text-decoration-color: #008000\">✓ | ⏱: </span><span style=\"color: #008000; text-decoration-color: #008000; font-weight: bold\">49.</span><span style=\"color: #008000; text-decoration-color: #008000\">49s </span>\n",
       "</pre>\n"
      ],
      "text/plain": [
       "\u001b[1;32m[\u001b[0m\u001b[32mCOMPLETE\u001b[0m\u001b[1;32m]\u001b[0m\u001b[32m ● \u001b[0m\u001b[4;32mhttps://www.airbnb.com/users/show/532236013\u001b[0m\u001b[32m                                                          |\u001b[0m\n",
       "\u001b[32m✓\u001b[0m\u001b[32m | ⏱: \u001b[0m\u001b[1;32m49.\u001b[0m\u001b[32m49s \u001b[0m\n"
      ]
     },
     "metadata": {},
     "output_type": "display_data"
    },
    {
     "name": "stdout",
     "output_type": "stream",
     "text": [
      "✅ Successfully extracted content!\n",
      "[\n",
      "    {\n",
      "        \"name\": \"Abdel\",\n",
      "        \"profile_picture_url\": \"https://a0.muscache.com/im/pictures/user/User/original/213a678f-2d3c-4b11-886e-df873b318aa4.jpeg?im_w=720\",\n",
      "        \"bio\": \"I'm Abdel, a passionate entrepreneur and Airbnb host in Marrakech. I offer apartments and riad ideally located (Izdihar, Gueliz, Medina, Palmeraie), combining modern comfort and Moroccan authenticity for a unique experience of the city.\",\n",
      "        \"about_details\": [\n",
      "            \"Where I've always wanted to go: The Moon\",\n",
      "            \"My work: Entrepreneur\",\n",
      "            \"What makes my home unique: Premium comfort, Local Experiences.\",\n",
      "            \"Pets: Enzo, Malinois\",\n",
      "            \"Identity verified\"\n",
      "        ],\n",
      "        \"places_visited\": [\n",
      "            {\n",
      "                \"place\": null,\n",
      "                \"details\": \"0 of 0 items showing\"\n",
      "            }\n",
      "        ],\n",
      "        \"listings\": [\n",
      "            {\n",
      "                \"url\": \"https://www.airbnb.com/rooms/1168655512551259276\",\n",
      "                \"title\": \"Cozy Flat near the city center, 2BR w/Netflix & AC\",\n",
      "                \"type\": \"Rental unit\",\n",
      "                \"rating_text\": \"4.77 out of 5\"\n",
      "            },\n",
      "            {\n",
      "                \"url\": \"https://www.airbnb.com/rooms/1238311445228997747\",\n",
      "                \"title\": \"Cozy Flat near the city center, 2 Rooms w/ A/C\",\n",
      "                \"type\": \"Rental unit\",\n",
      "                \"rating_text\": \"4.77 out of 5\"\n",
      "            },\n",
      "            {\n",
      "                \"url\": \"https://www.airbnb.com/rooms/1445689129766894859\",\n",
      "                \"title\": \"Relax Stay - Cosy 2BR, A/C, Terrace & Netflix\",\n",
      "                \"type\": \"Rental unit\",\n",
      "                \"rating_text\": \"5.0 out of 5\"\n",
      "            },\n",
      "            {\n",
      "                \"url\": \"https://www.airbnb.com/rooms/1430288794722556873\",\n",
      "                \"title\": \"Luxury Private Riad, Air-Conditioned and Pool\",\n",
      "                \"type\": \"Riad\",\n",
      "                \"rating_text\": null\n",
      "            },\n",
      "            {\n",
      "                \"url\": \"https://www.airbnb.com/rooms/1370331468964838238\",\n",
      "                \"title\": \"3 Bedroom Flat w/ Pool, Netflix and A/C\",\n",
      "                \"type\": \"Condo\",\n",
      "                \"rating_text\": \"4.5 out of 5\"\n",
      "            },\n",
      "            {\n",
      "                \"url\": \"https://www.airbnb.com/rooms/1199118327355501751\",\n",
      "                \"title\": \"Charming Room in Riad, Just 2 mn from Jama el-Fna!\",\n",
      "                \"type\": \"Bed and breakfast\",\n",
      "                \"rating_text\": \"4.93 out of 5\"\n",
      "            },\n",
      "            {\n",
      "                \"url\": \"https://www.airbnb.com/rooms/1414517507728935918\",\n",
      "                \"title\": \"Mykonos Apartment, Air-Conditioned, Netflix, Small Pool\",\n",
      "                \"type\": \"Rental unit\",\n",
      "                \"rating_text\": \"5.0 out of 5\"\n",
      "            },\n",
      "            {\n",
      "                \"url\": \"https://www.airbnb.com/rooms/1362312529416292062\",\n",
      "                \"title\": \"Cosy Appartment w/ Pool, A/C, Tennis\",\n",
      "                \"type\": \"Condo\",\n",
      "                \"rating_text\": \"4.44 out of 5\"\n",
      "            },\n",
      "            {\n",
      "                \"url\": \"https://www.airbnb.com/rooms/1471660459697865832\",\n",
      "                \"title\": \"Suite Prestige au Riad, 5 min from Jamaa El Fna\",\n",
      "                \"type\": \"Bed and breakfast\",\n",
      "                \"rating_text\": null\n",
      "            },\n",
      "            {\n",
      "                \"url\": \"https://www.airbnb.com/rooms/1471588431390978827\",\n",
      "                \"title\": \"Medina Prestige Suite, 5 min from Jamaa El Fna\",\n",
      "                \"type\": \"Bed and breakfast\",\n",
      "                \"rating_text\": null\n",
      "            }\n",
      "        ],\n",
      "        \"reviews\": [\n",
      "            {\n",
      "                \"reviewer_name\": \"Aya\",\n",
      "                \"reviewer_location\": \"null\",\n",
      "                \"date\": \"2 days ago\",\n",
      "                \"text\": \"Everything was as described and the location was accessible to transport and restaurants/shops.\",\n",
      "                \"host_response\": null\n",
      "            },\n",
      "            {\n",
      "                \"reviewer_name\": \"Tariq\",\n",
      "                \"reviewer_location\": \"Roquemaure, France\",\n",
      "                \"date\": \"1 week ago\",\n",
      "                \"text\": \"Apparently horrible. I don't recommend going there. I came back with a horrible smell. I quickly left to get a hotel room. Hair in the bathroom Traces in the toilet!!\",\n",
      "                \"host_response\": null\n",
      "            },\n",
      "            {\n",
      "                \"reviewer_name\": \"Othmane\",\n",
      "                \"reviewer_location\": \"Antwerp, Belgium\",\n",
      "                \"date\": \"2 weeks ago\",\n",
      "                \"text\": \"Excellent location and stay, with clear communication. Thank you, Abdel!\",\n",
      "                \"host_response\": null\n",
      "            },\n",
      "            {\n",
      "                \"reviewer_name\": \"Yousra\",\n",
      "                \"reviewer_location\": \"Bagnolet, France\",\n",
      "                \"date\": \"2 weeks ago\",\n",
      "                \"text\": \"Nice apartment, very clean, thank you for hosting us Abdel.\",\n",
      "                \"host_response\": null\n",
      "            },\n",
      "            {\n",
      "                \"reviewer_name\": \"Oussama\",\n",
      "                \"reviewer_location\": \"null\",\n",
      "                \"date\": \"2 weeks ago\",\n",
      "                \"text\": \"Moussa was very welcoming and attentive as soon as we arrived. He made sure everything went smoothly during our stay and was always available when needed. The accommodation was exactly as described in the listing: clean, well-equipped, comfortable and very conveniently located. We immediately felt comfortable there. The environment is quiet, which allows you to rest well. Thanks to the hospitality and quality of the accommodation, our stay went perfectly. I highly recommend this place to anyone looking for a pleasant and hassle-free experience.\",\n",
      "                \"host_response\": null\n",
      "            }\n",
      "        ],\n",
      "        \"error\": false\n",
      "    }\n",
      "]\n"
     ]
    }
   ],
   "source": [
    "# Example profile to test\n",
    "profile_url = \"https://www.airbnb.com/users/show/532236013\"\n",
    "\n",
    "# CORRECTED: Use .ainvoke() for async calls in Jupyter\n",
    "result = await get_airbnb_profile_data_fixed.ainvoke({\"profile_url\": profile_url})\n",
    "print(result)"
   ]
  },
  {
   "cell_type": "code",
   "execution_count": 2,
   "id": "2716c8bb",
   "metadata": {},
   "outputs": [
    {
     "name": "stdout",
     "output_type": "stream",
     "text": [
      "🚀 Attempting to scrape https://www.airbnb.com/users/show/532236013 (attempt 1/3)\n"
     ]
    },
    {
     "data": {
      "text/html": [
       "<pre style=\"white-space:pre;overflow-x:auto;line-height:normal;font-family:Menlo,'DejaVu Sans Mono',consolas,'Courier New',monospace\"><span style=\"color: #008080; text-decoration-color: #008080; font-weight: bold\">[</span><span style=\"color: #008080; text-decoration-color: #008080\">INIT</span><span style=\"color: #008080; text-decoration-color: #008080; font-weight: bold\">]</span><span style=\"color: #008080; text-decoration-color: #008080\">.... → Crawl4AI </span><span style=\"color: #008080; text-decoration-color: #008080; font-weight: bold\">0.7</span><span style=\"color: #008080; text-decoration-color: #008080\">.</span><span style=\"color: #008080; text-decoration-color: #008080; font-weight: bold\">2</span><span style=\"color: #008080; text-decoration-color: #008080\"> </span>\n",
       "</pre>\n"
      ],
      "text/plain": [
       "\u001b[1;36m[\u001b[0m\u001b[36mINIT\u001b[0m\u001b[1;36m]\u001b[0m\u001b[36m...\u001b[0m\u001b[36m. → Crawl4AI \u001b[0m\u001b[1;36m0.7\u001b[0m\u001b[36m.\u001b[0m\u001b[1;36m2\u001b[0m\u001b[36m \u001b[0m\n"
      ]
     },
     "metadata": {},
     "output_type": "display_data"
    },
    {
     "data": {
      "text/html": [
       "<pre style=\"white-space:pre;overflow-x:auto;line-height:normal;font-family:Menlo,'DejaVu Sans Mono',consolas,'Courier New',monospace\"><span style=\"color: #008000; text-decoration-color: #008000; font-weight: bold\">[</span><span style=\"color: #008000; text-decoration-color: #008000\">FETCH</span><span style=\"color: #008000; text-decoration-color: #008000; font-weight: bold\">]</span><span style=\"color: #008000; text-decoration-color: #008000\">... ↓ </span><span style=\"color: #008000; text-decoration-color: #008000; text-decoration: underline\">https://www.airbnb.com/users/show/532236013</span><span style=\"color: #008000; text-decoration-color: #008000\">                                                          |</span>\n",
       "<span style=\"color: #008000; text-decoration-color: #008000\">✓ | ⏱: </span><span style=\"color: #008000; text-decoration-color: #008000; font-weight: bold\">54.</span><span style=\"color: #008000; text-decoration-color: #008000\">54s </span>\n",
       "</pre>\n"
      ],
      "text/plain": [
       "\u001b[1;32m[\u001b[0m\u001b[32mFETCH\u001b[0m\u001b[1;32m]\u001b[0m\u001b[32m...\u001b[0m\u001b[32m ↓ \u001b[0m\u001b[4;32mhttps://www.airbnb.com/users/show/532236013\u001b[0m\u001b[32m                                                          |\u001b[0m\n",
       "\u001b[32m✓\u001b[0m\u001b[32m | ⏱: \u001b[0m\u001b[1;32m54.\u001b[0m\u001b[32m54s \u001b[0m\n"
      ]
     },
     "metadata": {},
     "output_type": "display_data"
    },
    {
     "data": {
      "text/html": [
       "<pre style=\"white-space:pre;overflow-x:auto;line-height:normal;font-family:Menlo,'DejaVu Sans Mono',consolas,'Courier New',monospace\"><span style=\"color: #008000; text-decoration-color: #008000; font-weight: bold\">[</span><span style=\"color: #008000; text-decoration-color: #008000\">SCRAPE</span><span style=\"color: #008000; text-decoration-color: #008000; font-weight: bold\">]</span><span style=\"color: #008000; text-decoration-color: #008000\">.. ◆ </span><span style=\"color: #008000; text-decoration-color: #008000; text-decoration: underline\">https://www.airbnb.com/users/show/532236013</span><span style=\"color: #008000; text-decoration-color: #008000\">                                                          |</span>\n",
       "<span style=\"color: #008000; text-decoration-color: #008000\">✓ | ⏱: </span><span style=\"color: #008000; text-decoration-color: #008000; font-weight: bold\">0.</span><span style=\"color: #008000; text-decoration-color: #008000\">08s </span>\n",
       "</pre>\n"
      ],
      "text/plain": [
       "\u001b[1;32m[\u001b[0m\u001b[32mSCRAPE\u001b[0m\u001b[1;32m]\u001b[0m\u001b[32m.. ◆ \u001b[0m\u001b[4;32mhttps://www.airbnb.com/users/show/532236013\u001b[0m\u001b[32m                                                          |\u001b[0m\n",
       "\u001b[32m✓\u001b[0m\u001b[32m | ⏱: \u001b[0m\u001b[1;32m0.\u001b[0m\u001b[32m08s \u001b[0m\n"
      ]
     },
     "metadata": {},
     "output_type": "display_data"
    },
    {
     "data": {
      "text/html": [
       "<pre style=\"white-space:pre;overflow-x:auto;line-height:normal;font-family:Menlo,'DejaVu Sans Mono',consolas,'Courier New',monospace\"><span style=\"color: #008000; text-decoration-color: #008000; font-weight: bold\">[</span><span style=\"color: #008000; text-decoration-color: #008000\">EXTRACT</span><span style=\"color: #008000; text-decoration-color: #008000; font-weight: bold\">]</span><span style=\"color: #008000; text-decoration-color: #008000\">. ■ </span><span style=\"color: #008000; text-decoration-color: #008000; text-decoration: underline\">https://www.airbnb.com/users/show/532236013</span><span style=\"color: #008000; text-decoration-color: #008000\">                                                          |</span>\n",
       "<span style=\"color: #008000; text-decoration-color: #008000\">✓ | ⏱: </span><span style=\"color: #008000; text-decoration-color: #008000; font-weight: bold\">9.</span><span style=\"color: #008000; text-decoration-color: #008000\">63s </span>\n",
       "</pre>\n"
      ],
      "text/plain": [
       "\u001b[1;32m[\u001b[0m\u001b[32mEXTRACT\u001b[0m\u001b[1;32m]\u001b[0m\u001b[32m. ■ \u001b[0m\u001b[4;32mhttps://www.airbnb.com/users/show/532236013\u001b[0m\u001b[32m                                                          |\u001b[0m\n",
       "\u001b[32m✓\u001b[0m\u001b[32m | ⏱: \u001b[0m\u001b[1;32m9.\u001b[0m\u001b[32m63s \u001b[0m\n"
      ]
     },
     "metadata": {},
     "output_type": "display_data"
    },
    {
     "data": {
      "text/html": [
       "<pre style=\"white-space:pre;overflow-x:auto;line-height:normal;font-family:Menlo,'DejaVu Sans Mono',consolas,'Courier New',monospace\"><span style=\"color: #008000; text-decoration-color: #008000; font-weight: bold\">[</span><span style=\"color: #008000; text-decoration-color: #008000\">COMPLETE</span><span style=\"color: #008000; text-decoration-color: #008000; font-weight: bold\">]</span><span style=\"color: #008000; text-decoration-color: #008000\"> ● </span><span style=\"color: #008000; text-decoration-color: #008000; text-decoration: underline\">https://www.airbnb.com/users/show/532236013</span><span style=\"color: #008000; text-decoration-color: #008000\">                                                          |</span>\n",
       "<span style=\"color: #008000; text-decoration-color: #008000\">✓ | ⏱: </span><span style=\"color: #008000; text-decoration-color: #008000; font-weight: bold\">64.</span><span style=\"color: #008000; text-decoration-color: #008000\">27s </span>\n",
       "</pre>\n"
      ],
      "text/plain": [
       "\u001b[1;32m[\u001b[0m\u001b[32mCOMPLETE\u001b[0m\u001b[1;32m]\u001b[0m\u001b[32m ● \u001b[0m\u001b[4;32mhttps://www.airbnb.com/users/show/532236013\u001b[0m\u001b[32m                                                          |\u001b[0m\n",
       "\u001b[32m✓\u001b[0m\u001b[32m | ⏱: \u001b[0m\u001b[1;32m64.\u001b[0m\u001b[32m27s \u001b[0m\n"
      ]
     },
     "metadata": {},
     "output_type": "display_data"
    },
    {
     "name": "stdout",
     "output_type": "stream",
     "text": [
      "✅ Successfully extracted content!\n",
      "[\n",
      "    {\n",
      "        \"name\": \"Abdel\",\n",
      "        \"profile_picture_url\": \"https://a0.muscache.com/im/pictures/user/User/original/213a678f-2d3c-4b11-886e-df873b318aa4.jpeg?im_w=720\",\n",
      "        \"bio\": \"I'm Abdel, a passionate entrepreneur and Airbnb host in Marrakech. I offer apartments and riad ideally located (Izdihar, Gueliz, Medina, Palmeraie), combining modern comfort and Moroccan authenticity for a unique experience of the city.\",\n",
      "        \"about_details\": [\n",
      "            \"My work: Entrepreneur\",\n",
      "            \"Where I've always wanted to go: The Moon\",\n",
      "            \"For guests, I always: Receive them in person\",\n",
      "            \"Pets: Enzo, Malinois\",\n",
      "            \"Identity verified\"\n",
      "        ],\n",
      "        \"places_visited\": [],\n",
      "        \"listings\": [\n",
      "            {\n",
      "                \"url\": \"https://www.airbnb.com/rooms/1168655512551259276\",\n",
      "                \"title\": \"Cozy Flat near the city center, 2BR w/Netflix & AC\",\n",
      "                \"type\": \"Rental unit\",\n",
      "                \"rating_text\": \"4.77 out of 5\"\n",
      "            },\n",
      "            {\n",
      "                \"url\": \"https://www.airbnb.com/rooms/1238311445228997747\",\n",
      "                \"title\": \"Cozy Flat near the city center, 2 Rooms w/ A/C\",\n",
      "                \"type\": \"Rental unit\",\n",
      "                \"rating_text\": \"4.77 out of 5\"\n",
      "            },\n",
      "            {\n",
      "                \"url\": \"https://www.airbnb.com/rooms/1445689129766894859\",\n",
      "                \"title\": \"Relax Stay - Cosy 2BR, A/C, Terrace & Netflix\",\n",
      "                \"type\": \"Rental unit\",\n",
      "                \"rating_text\": \"5.0 out of 5\"\n",
      "            },\n",
      "            {\n",
      "                \"url\": \"https://www.airbnb.com/rooms/1430288794722556873\",\n",
      "                \"title\": \"Luxury Private Riad, Air-Conditioned and Pool\",\n",
      "                \"type\": \"Riad\",\n",
      "                \"rating_text\": null\n",
      "            },\n",
      "            {\n",
      "                \"url\": \"https://www.airbnb.com/rooms/1370331468964838238\",\n",
      "                \"title\": \"3 Bedroom Flat w/ Pool, Netflix and A/C\",\n",
      "                \"type\": \"Condo\",\n",
      "                \"rating_text\": \"4.5 out of 5\"\n",
      "            },\n",
      "            {\n",
      "                \"url\": \"https://www.airbnb.com/rooms/1199118327355501751\",\n",
      "                \"title\": \"Charming Room in Riad, Just 2 mn from Jama el-Fna!\",\n",
      "                \"type\": \"Bed and breakfast\",\n",
      "                \"rating_text\": \"4.93 out of 5\"\n",
      "            },\n",
      "            {\n",
      "                \"url\": \"https://www.airbnb.com/rooms/1414517507728935918\",\n",
      "                \"title\": \"Mykonos Apartment, Air-Conditioned, Netflix, Small Pool\",\n",
      "                \"type\": \"Rental unit\",\n",
      "                \"rating_text\": \"5.0 out of 5\"\n",
      "            },\n",
      "            {\n",
      "                \"url\": \"https://www.airbnb.com/rooms/1362312529416292062\",\n",
      "                \"title\": \"Cosy Appartment w/ Pool, A/C, Tennis\",\n",
      "                \"type\": \"Condo\",\n",
      "                \"rating_text\": \"4.44 out of 5\"\n",
      "            },\n",
      "            {\n",
      "                \"url\": \"https://www.airbnb.com/rooms/1471660459697865832\",\n",
      "                \"title\": \"Suite Prestige au Riad, 5 min from Jamaa El Fna\",\n",
      "                \"type\": \"Bed and breakfast\",\n",
      "                \"rating_text\": null\n",
      "            },\n",
      "            {\n",
      "                \"url\": \"https://www.airbnb.com/rooms/1471588431390978827\",\n",
      "                \"title\": \"Medina Prestige Suite, 5 min from Jamaa El Fna\",\n",
      "                \"type\": \"Bed and breakfast\",\n",
      "                \"rating_text\": null\n",
      "            }\n",
      "        ],\n",
      "        \"reviews\": [\n",
      "            {\n",
      "                \"reviewer_name\": \"Aya\",\n",
      "                \"reviewer_location\": null,\n",
      "                \"date\": \"2 days ago\",\n",
      "                \"text\": \"Everything was as described and the location was accessible to transport and restaurants/shops.\",\n",
      "                \"host_response\": null\n",
      "            },\n",
      "            {\n",
      "                \"reviewer_name\": \"Tariq\",\n",
      "                \"reviewer_location\": \"Roquemaure, France\",\n",
      "                \"date\": \"1 week ago\",\n",
      "                \"text\": \"Apparently horrible. I don't recommend going there. I came back with a horrible smell. I quickly left to get a hotel room. Hair in the bathroom Traces in the toilet!!\",\n",
      "                \"host_response\": null\n",
      "            },\n",
      "            {\n",
      "                \"reviewer_name\": \"Othmane\",\n",
      "                \"reviewer_location\": \"Antwerp, Belgium\",\n",
      "                \"date\": \"2 weeks ago\",\n",
      "                \"text\": \"Excellent location and stay, with clear communication. Thank you, Abdel!\",\n",
      "                \"host_response\": null\n",
      "            },\n",
      "            {\n",
      "                \"reviewer_name\": \"Yousra\",\n",
      "                \"reviewer_location\": \"Bagnolet, France\",\n",
      "                \"date\": \"2 weeks ago\",\n",
      "                \"text\": \"Nice apartment, very clean, thank you for hosting us Abdel.\",\n",
      "                \"host_response\": null\n",
      "            },\n",
      "            {\n",
      "                \"reviewer_name\": \"Oussama\",\n",
      "                \"reviewer_location\": null,\n",
      "                \"date\": \"2 weeks ago\",\n",
      "                \"text\": \"Moussa was very welcoming and attentive as soon as we arrived. He made sure everything went smoothly during our stay and was always available when needed. The accommodation was exactly as described in the listing: clean, well-equipped, comfortable and very conveniently located. We immediately felt comfortable there. The environment is quiet, which allows you to rest well. Thanks to the hospitality and quality of the accommodation, our stay went perfectly. I highly recommend this place to anyone looking for a pleasant and hassle-free experience.\",\n",
      "                \"host_response\": null\n",
      "            }\n",
      "        ],\n",
      "        \"error\": false\n",
      "    }\n",
      "]\n"
     ]
    }
   ],
   "source": [
    "# Example profile to test\n",
    "profile_url = \"https://www.airbnb.com/users/show/532236013\"\n",
    "\n",
    "# CORRECTED: Use .ainvoke() for async calls in Jupyter\n",
    "result = await get_airbnb_profile_data_fixed.ainvoke({\"profile_url\": profile_url})\n",
    "print(result)"
   ]
  },
  {
   "cell_type": "code",
   "execution_count": null,
   "id": "3b66de28",
   "metadata": {},
   "outputs": [
    {
     "name": "stdout",
     "output_type": "stream",
     "text": [
      "🚀 Attempting to scrape https://www.airbnb.com/users/show/532236013 (attempt 1/3)\n"
     ]
    },
    {
     "data": {
      "text/html": [
       "<pre style=\"white-space:pre;overflow-x:auto;line-height:normal;font-family:Menlo,'DejaVu Sans Mono',consolas,'Courier New',monospace\"><span style=\"color: #008080; text-decoration-color: #008080; font-weight: bold\">[</span><span style=\"color: #008080; text-decoration-color: #008080\">INIT</span><span style=\"color: #008080; text-decoration-color: #008080; font-weight: bold\">]</span><span style=\"color: #008080; text-decoration-color: #008080\">.... → Crawl4AI </span><span style=\"color: #008080; text-decoration-color: #008080; font-weight: bold\">0.7</span><span style=\"color: #008080; text-decoration-color: #008080\">.</span><span style=\"color: #008080; text-decoration-color: #008080; font-weight: bold\">2</span><span style=\"color: #008080; text-decoration-color: #008080\"> </span>\n",
       "</pre>\n"
      ],
      "text/plain": [
       "\u001b[1;36m[\u001b[0m\u001b[36mINIT\u001b[0m\u001b[1;36m]\u001b[0m\u001b[36m...\u001b[0m\u001b[36m. → Crawl4AI \u001b[0m\u001b[1;36m0.7\u001b[0m\u001b[36m.\u001b[0m\u001b[1;36m2\u001b[0m\u001b[36m \u001b[0m\n"
      ]
     },
     "metadata": {},
     "output_type": "display_data"
    }
   ],
   "source": [
    "# Example profile to test\n",
    "profile_url = \"https://www.airbnb.com/users/show/532236013\"\n",
    "\n",
    "# CORRECTED: Use .ainvoke() for async calls in Jupyter\n",
    "result = await get_airbnb_profile_data_fixed.ainvoke({\"profile_url\": profile_url})\n",
    "print(result)"
   ]
  },
  {
   "cell_type": "code",
   "execution_count": 4,
   "id": "2deb3ce2",
   "metadata": {},
   "outputs": [
    {
     "name": "stdout",
     "output_type": "stream",
     "text": [
      "\n",
      "=== Testing get_listing_details ===\n"
     ]
    },
    {
     "data": {
      "text/html": [
       "<pre style=\"white-space:pre;overflow-x:auto;line-height:normal;font-family:Menlo,'DejaVu Sans Mono',consolas,'Courier New',monospace\"><span style=\"color: #008080; text-decoration-color: #008080; font-weight: bold\">[</span><span style=\"color: #008080; text-decoration-color: #008080\">INIT</span><span style=\"color: #008080; text-decoration-color: #008080; font-weight: bold\">]</span><span style=\"color: #008080; text-decoration-color: #008080\">.... → Crawl4AI </span><span style=\"color: #008080; text-decoration-color: #008080; font-weight: bold\">0.7</span><span style=\"color: #008080; text-decoration-color: #008080\">.</span><span style=\"color: #008080; text-decoration-color: #008080; font-weight: bold\">2</span><span style=\"color: #008080; text-decoration-color: #008080\"> </span>\n",
       "</pre>\n"
      ],
      "text/plain": [
       "\u001b[1;36m[\u001b[0m\u001b[36mINIT\u001b[0m\u001b[1;36m]\u001b[0m\u001b[36m...\u001b[0m\u001b[36m. → Crawl4AI \u001b[0m\u001b[1;36m0.7\u001b[0m\u001b[36m.\u001b[0m\u001b[1;36m2\u001b[0m\u001b[36m \u001b[0m\n"
      ]
     },
     "metadata": {},
     "output_type": "display_data"
    },
    {
     "name": "stdout",
     "output_type": "stream",
     "text": [
      "Attempting to scrape listing https://www.airbnb.com/rooms/1430288794722556873?source_impression_id=p3_1754183708_P3MvB73ec_TnOnG7 (attempt 1/3)\n"
     ]
    },
    {
     "data": {
      "text/html": [
       "<pre style=\"white-space:pre;overflow-x:auto;line-height:normal;font-family:Menlo,'DejaVu Sans Mono',consolas,'Courier New',monospace\"><span style=\"color: #008000; text-decoration-color: #008000; font-weight: bold\">[</span><span style=\"color: #008000; text-decoration-color: #008000\">FETCH</span><span style=\"color: #008000; text-decoration-color: #008000; font-weight: bold\">]</span><span style=\"color: #008000; text-decoration-color: #008000\">... ↓ </span><span style=\"color: #008000; text-decoration-color: #008000; text-decoration: underline\">https://www.airbnb.com/rooms/1430288794722556873?source_impression_id=p3_1754183708_P3MvB73ec_TnOnG7</span><span style=\"color: #008000; text-decoration-color: #008000\"> |</span>\n",
       "<span style=\"color: #008000; text-decoration-color: #008000\">✓ | ⏱: </span><span style=\"color: #008000; text-decoration-color: #008000; font-weight: bold\">4.</span><span style=\"color: #008000; text-decoration-color: #008000\">91s </span>\n",
       "</pre>\n"
      ],
      "text/plain": [
       "\u001b[1;32m[\u001b[0m\u001b[32mFETCH\u001b[0m\u001b[1;32m]\u001b[0m\u001b[32m...\u001b[0m\u001b[32m ↓ \u001b[0m\u001b[4;32mhttps://www.airbnb.com/rooms/1430288794722556873?\u001b[0m\u001b[4;32msource_impression_id\u001b[0m\u001b[4;32m=\u001b[0m\u001b[4;32mp3_1754183708_P3MvB73ec_TnOnG7\u001b[0m\u001b[32m |\u001b[0m\n",
       "\u001b[32m✓\u001b[0m\u001b[32m | ⏱: \u001b[0m\u001b[1;32m4.\u001b[0m\u001b[32m91s \u001b[0m\n"
      ]
     },
     "metadata": {},
     "output_type": "display_data"
    },
    {
     "data": {
      "text/html": [
       "<pre style=\"white-space:pre;overflow-x:auto;line-height:normal;font-family:Menlo,'DejaVu Sans Mono',consolas,'Courier New',monospace\"><span style=\"color: #008000; text-decoration-color: #008000; font-weight: bold\">[</span><span style=\"color: #008000; text-decoration-color: #008000\">SCRAPE</span><span style=\"color: #008000; text-decoration-color: #008000; font-weight: bold\">]</span><span style=\"color: #008000; text-decoration-color: #008000\">.. ◆ </span><span style=\"color: #008000; text-decoration-color: #008000; text-decoration: underline\">https://www.airbnb.com/rooms/1430288794722556873?source_impression_id=p3_1754183708_P3MvB73ec_TnOnG7</span><span style=\"color: #008000; text-decoration-color: #008000\"> |</span>\n",
       "<span style=\"color: #008000; text-decoration-color: #008000\">✓ | ⏱: </span><span style=\"color: #008000; text-decoration-color: #008000; font-weight: bold\">0.</span><span style=\"color: #008000; text-decoration-color: #008000\">06s </span>\n",
       "</pre>\n"
      ],
      "text/plain": [
       "\u001b[1;32m[\u001b[0m\u001b[32mSCRAPE\u001b[0m\u001b[1;32m]\u001b[0m\u001b[32m.. ◆ \u001b[0m\u001b[4;32mhttps://www.airbnb.com/rooms/1430288794722556873?\u001b[0m\u001b[4;32msource_impression_id\u001b[0m\u001b[4;32m=\u001b[0m\u001b[4;32mp3_1754183708_P3MvB73ec_TnOnG7\u001b[0m\u001b[32m |\u001b[0m\n",
       "\u001b[32m✓\u001b[0m\u001b[32m | ⏱: \u001b[0m\u001b[1;32m0.\u001b[0m\u001b[32m06s \u001b[0m\n"
      ]
     },
     "metadata": {},
     "output_type": "display_data"
    },
    {
     "data": {
      "text/html": [
       "<pre style=\"white-space:pre;overflow-x:auto;line-height:normal;font-family:Menlo,'DejaVu Sans Mono',consolas,'Courier New',monospace\"><span style=\"color: #008000; text-decoration-color: #008000; font-weight: bold\">[</span><span style=\"color: #008000; text-decoration-color: #008000\">EXTRACT</span><span style=\"color: #008000; text-decoration-color: #008000; font-weight: bold\">]</span><span style=\"color: #008000; text-decoration-color: #008000\">. ■ </span><span style=\"color: #008000; text-decoration-color: #008000; text-decoration: underline\">https://www.airbnb.com/rooms/1430288794722556873?source_impression_id=p3_1754183708_P3MvB73ec_TnOnG7</span><span style=\"color: #008000; text-decoration-color: #008000\"> |</span>\n",
       "<span style=\"color: #008000; text-decoration-color: #008000\">✓ | ⏱: </span><span style=\"color: #008000; text-decoration-color: #008000; font-weight: bold\">58.</span><span style=\"color: #008000; text-decoration-color: #008000\">93s </span>\n",
       "</pre>\n"
      ],
      "text/plain": [
       "\u001b[1;32m[\u001b[0m\u001b[32mEXTRACT\u001b[0m\u001b[1;32m]\u001b[0m\u001b[32m. ■ \u001b[0m\u001b[4;32mhttps://www.airbnb.com/rooms/1430288794722556873?\u001b[0m\u001b[4;32msource_impression_id\u001b[0m\u001b[4;32m=\u001b[0m\u001b[4;32mp3_1754183708_P3MvB73ec_TnOnG7\u001b[0m\u001b[32m |\u001b[0m\n",
       "\u001b[32m✓\u001b[0m\u001b[32m | ⏱: \u001b[0m\u001b[1;32m58.\u001b[0m\u001b[32m93s \u001b[0m\n"
      ]
     },
     "metadata": {},
     "output_type": "display_data"
    },
    {
     "data": {
      "text/html": [
       "<pre style=\"white-space:pre;overflow-x:auto;line-height:normal;font-family:Menlo,'DejaVu Sans Mono',consolas,'Courier New',monospace\"><span style=\"color: #008000; text-decoration-color: #008000; font-weight: bold\">[</span><span style=\"color: #008000; text-decoration-color: #008000\">COMPLETE</span><span style=\"color: #008000; text-decoration-color: #008000; font-weight: bold\">]</span><span style=\"color: #008000; text-decoration-color: #008000\"> ● </span><span style=\"color: #008000; text-decoration-color: #008000; text-decoration: underline\">https://www.airbnb.com/rooms/1430288794722556873?source_impression_id=p3_1754183708_P3MvB73ec_TnOnG7</span><span style=\"color: #008000; text-decoration-color: #008000\"> |</span>\n",
       "<span style=\"color: #008000; text-decoration-color: #008000\">✓ | ⏱: </span><span style=\"color: #008000; text-decoration-color: #008000; font-weight: bold\">63.</span><span style=\"color: #008000; text-decoration-color: #008000\">93s </span>\n",
       "</pre>\n"
      ],
      "text/plain": [
       "\u001b[1;32m[\u001b[0m\u001b[32mCOMPLETE\u001b[0m\u001b[1;32m]\u001b[0m\u001b[32m ● \u001b[0m\u001b[4;32mhttps://www.airbnb.com/rooms/1430288794722556873?\u001b[0m\u001b[4;32msource_impression_id\u001b[0m\u001b[4;32m=\u001b[0m\u001b[4;32mp3_1754183708_P3MvB73ec_TnOnG7\u001b[0m\u001b[32m |\u001b[0m\n",
       "\u001b[32m✓\u001b[0m\u001b[32m | ⏱: \u001b[0m\u001b[1;32m63.\u001b[0m\u001b[32m93s \u001b[0m\n"
      ]
     },
     "metadata": {},
     "output_type": "display_data"
    },
    {
     "name": "stdout",
     "output_type": "stream",
     "text": [
      "Successfully extracted listing content!\n",
      "[]\n"
     ]
    }
   ],
   "source": [
    "# Test listing scraping\n",
    "listing_url = 'https://www.airbnb.com/rooms/1430288794722556873?source_impression_id=p3_1754183708_P3MvB73ec_TnOnG7'\n",
    "\n",
    "print(\"\\n=== Testing get_listing_details ===\")\n",
    "# CORRECTED: Use .ainvoke() here as well\n",
    "listing_result = await get_listing_details.ainvoke({\"listing_url\": listing_url})\n",
    "print(listing_result)"
   ]
  },
  {
   "cell_type": "code",
   "execution_count": null,
   "id": "dd363a73",
   "metadata": {},
   "outputs": [
    {
     "name": "stdout",
     "output_type": "stream",
     "text": [
      "Running in Jupyter notebook environment\n"
     ]
    }
   ],
   "source": []
  },
  {
   "cell_type": "code",
   "execution_count": null,
   "id": "f7f92ddd",
   "metadata": {},
   "outputs": [],
   "source": []
  }
 ],
 "metadata": {
  "kernelspec": {
   "display_name": ".venv",
   "language": "python",
   "name": "python3"
  },
  "language_info": {
   "codemirror_mode": {
    "name": "ipython",
    "version": 3
   },
   "file_extension": ".py",
   "mimetype": "text/x-python",
   "name": "python",
   "nbconvert_exporter": "python",
   "pygments_lexer": "ipython3",
   "version": "3.12.3"
  }
 },
 "nbformat": 4,
 "nbformat_minor": 5
}
