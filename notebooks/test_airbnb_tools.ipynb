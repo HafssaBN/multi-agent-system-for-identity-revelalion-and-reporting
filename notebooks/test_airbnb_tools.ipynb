{
 "cells": [
  {
   "cell_type": "code",
   "execution_count": 14,
   "id": "f0deaf04",
   "metadata": {},
   "outputs": [],
   "source": [
    "from multi_agents.tools.airbnb_tools import (\n",
    "    get_airbnb_profile_details,\n",
    "    get_airbnb_profile_places_visited,\n",
    "    get_airbnb_profile_listings,\n",
    "    get_airbnb_profile_reviews,\n",
    "    get_listing_details\n",
    ") "
   ]
  },
  {
   "cell_type": "code",
   "execution_count": 15,
   "id": "d2c9f99a",
   "metadata": {},
   "outputs": [],
   "source": [
    "profile_url = \"https://www.airbnb.com/users/show/532236013\""
   ]
  },
  {
   "cell_type": "markdown",
   "id": "1b2df196",
   "metadata": {},
   "source": [
    "get_airbnb_profile_details"
   ]
  },
  {
   "cell_type": "code",
   "execution_count": 18,
   "id": "46f86577",
   "metadata": {},
   "outputs": [
    {
     "name": "stdout",
     "output_type": "stream",
     "text": [
      "An error occurred with the 'Show all reviews' button/modal: Message: no such element: Unable to locate element: {\"method\":\"css selector\",\"selector\":\"div[role='dialog'] section > div\"}\n",
      "  (Session info: chrome=138.0.7204.157); For documentation on this error, please visit: https://www.selenium.dev/documentation/webdriver/troubleshooting/errors#nosuchelementexception\n",
      "Stacktrace:\n",
      "#0 0x63bc7a7c27da <unknown>\n",
      "#1 0x63bc7a2672e0 <unknown>\n",
      "#2 0x63bc7a2b8e00 <unknown>\n",
      "#3 0x63bc7a2b8ff1 <unknown>\n",
      "#4 0x63bc7a307324 <unknown>\n",
      "#5 0x63bc7a2de8dd <unknown>\n",
      "#6 0x63bc7a30471c <unknown>\n",
      "#7 0x63bc7a2de683 <unknown>\n",
      "#8 0x63bc7a2aab5b <unknown>\n",
      "#9 0x63bc7a2abf31 <unknown>\n",
      "#10 0x63bc7a78772b <unknown>\n",
      "#11 0x63bc7a78b534 <unknown>\n",
      "#12 0x63bc7a76e229 <unknown>\n",
      "#13 0x63bc7a78c0d8 <unknown>\n",
      "#14 0x63bc7a75261f <unknown>\n",
      "#15 0x63bc7a7afdd8 <unknown>\n",
      "#16 0x63bc7a7affb6 <unknown>\n",
      "#17 0x63bc7a7c1af6 <unknown>\n",
      "#18 0x717dd7708aa4 <unknown>\n",
      "#19 0x717dd7795a34 __clone\n",
      "\n"
     ]
    }
   ],
   "source": [
    "profile_details = get_airbnb_profile_details(profile_url)"
   ]
  },
  {
   "cell_type": "code",
   "execution_count": 19,
   "id": "17ca6a09",
   "metadata": {},
   "outputs": [
    {
     "data": {
      "text/plain": [
       "{'name': 'Abdel',\n",
       " 'about_details': ['My work: Entrepreneur',\n",
       "  \"Where I've always wanted to go: The Moon\",\n",
       "  'What makes my home unique: Premium comfort, Local Experiences.',\n",
       "  'Pets: Enzo, Malinois',\n",
       "  'Identity verified'],\n",
       " 'bio': \"I'm Abdel, a passionate entrepreneur and Airbnb host in Marrakech. I offer apartments and riad ideally located (Izdihar, Gueliz, Medina, Palmeraie), combining modern comfort and Moroccan authenticity for a unique experience of the city.\",\n",
       " 'profile_picture_url': 'https://a0.muscache.com/im/pictures/user/User/original/213a678f-2d3c-4b11-886e-df873b318aa4.jpeg?im_w=720'}"
      ]
     },
     "execution_count": 19,
     "metadata": {},
     "output_type": "execute_result"
    }
   ],
   "source": [
    "profile_details"
   ]
  },
  {
   "cell_type": "markdown",
   "id": "a67e57dd",
   "metadata": {},
   "source": [
    "get_airbnb_profile_places_visited"
   ]
  },
  {
   "cell_type": "code",
   "execution_count": 20,
   "id": "4ebd3589",
   "metadata": {},
   "outputs": [
    {
     "name": "stdout",
     "output_type": "stream",
     "text": [
      "An error occurred with the 'Show all reviews' button/modal: Message: no such element: Unable to locate element: {\"method\":\"css selector\",\"selector\":\"div[role='dialog'] section > div\"}\n",
      "  (Session info: chrome=138.0.7204.157); For documentation on this error, please visit: https://www.selenium.dev/documentation/webdriver/troubleshooting/errors#nosuchelementexception\n",
      "Stacktrace:\n",
      "#0 0x6345c23f97da <unknown>\n",
      "#1 0x6345c1e9e2e0 <unknown>\n",
      "#2 0x6345c1eefe00 <unknown>\n",
      "#3 0x6345c1eefff1 <unknown>\n",
      "#4 0x6345c1f3e324 <unknown>\n",
      "#5 0x6345c1f158dd <unknown>\n",
      "#6 0x6345c1f3b71c <unknown>\n",
      "#7 0x6345c1f15683 <unknown>\n",
      "#8 0x6345c1ee1b5b <unknown>\n",
      "#9 0x6345c1ee2f31 <unknown>\n",
      "#10 0x6345c23be72b <unknown>\n",
      "#11 0x6345c23c2534 <unknown>\n",
      "#12 0x6345c23a5229 <unknown>\n",
      "#13 0x6345c23c30d8 <unknown>\n",
      "#14 0x6345c238961f <unknown>\n",
      "#15 0x6345c23e6dd8 <unknown>\n",
      "#16 0x6345c23e6fb6 <unknown>\n",
      "#17 0x6345c23f8af6 <unknown>\n",
      "#18 0x79596e4deaa4 <unknown>\n",
      "#19 0x79596e56ba34 __clone\n",
      "\n"
     ]
    }
   ],
   "source": [
    "places_visited = get_airbnb_profile_places_visited(profile_url)"
   ]
  },
  {
   "cell_type": "code",
   "execution_count": 21,
   "id": "ab160737",
   "metadata": {},
   "outputs": [
    {
     "data": {
      "text/plain": [
       "[{'place': 'London, United Kingdom', 'details': 'June 2025'},\n",
       " {'place': 'Casablanca, Morocco', 'details': '4 trips'},\n",
       " {'place': 'Denpasar, Indonesia', 'details': 'September 2024'},\n",
       " {'place': 'Nusa Penida, Indonesia', 'details': 'September 2024'},\n",
       " {'place': 'Sukasada, Indonesia', 'details': 'September 2024'},\n",
       " {'place': 'Ubud, Indonesia', 'details': '2 trips'},\n",
       " {'place': 'Oujda, Morocco', 'details': 'September 2024'},\n",
       " {'place': 'Imi Quaddar, Morocco', 'details': 'August 2024'}]"
      ]
     },
     "execution_count": 21,
     "metadata": {},
     "output_type": "execute_result"
    }
   ],
   "source": [
    "places_visited"
   ]
  },
  {
   "cell_type": "markdown",
   "id": "87cf4887",
   "metadata": {},
   "source": [
    "get_airbnb_profile_listings"
   ]
  },
  {
   "cell_type": "code",
   "execution_count": 22,
   "id": "1c3972e2",
   "metadata": {},
   "outputs": [],
   "source": [
    "listings = get_airbnb_profile_listings(profile_url)"
   ]
  },
  {
   "cell_type": "code",
   "execution_count": 23,
   "id": "2c06a467",
   "metadata": {},
   "outputs": [
    {
     "data": {
      "text/plain": [
       "[{'url': 'https://www.airbnb.com/rooms/1430288794722556873?source_impression_id=p3_1753367006_P3xZLGVIcFW_AlrW',\n",
       "  'type': 'Riad',\n",
       "  'title': 'Luxury Private Riad, Air-Conditioned and Pool',\n",
       "  'rating_text': 'N/A'},\n",
       " {'url': 'https://www.airbnb.com/rooms/1471660459697865832?source_impression_id=p3_1753367006_P3SVkQncr7WVis_r',\n",
       "  'type': 'Bed and breakfast',\n",
       "  'title': 'Suite Prestige au Riad, 5 min from Jamaa El Fna',\n",
       "  'rating_text': 'N/A'},\n",
       " {'url': 'https://www.airbnb.com/rooms/1471588431390978827?source_impression_id=p3_1753367006_P3FD9w6uU8v0KQpU',\n",
       "  'type': 'Bed and breakfast',\n",
       "  'title': 'Medina Prestige Suite, 5 min from Jamaa El Fna',\n",
       "  'rating_text': 'N/A'},\n",
       " {'url': 'https://www.airbnb.com/rooms/1445689129766894859?source_impression_id=p3_1753367006_P3ZqbaZzxFrp_z-Q',\n",
       "  'type': 'Rental unit',\n",
       "  'title': 'Relax Stay - Cosy 2BR, A/C, Terrace & Netflix',\n",
       "  'rating_text': '5.0 out of 5 average rating 5.0 , · 5 reviews'},\n",
       " {'url': 'https://www.airbnb.com/rooms/1138999185890900352?source_impression_id=p3_1753367006_P3u44hMIGA_pzPSe',\n",
       "  'type': 'Rental unit',\n",
       "  'title': 'Cozy Flat near the city center, 1 Bedroom w/ A/C',\n",
       "  'rating_text': '4.84 out of 5 average rating 4.84 , · 90 reviews'},\n",
       " {'url': 'https://www.airbnb.com/rooms/1414517507728935918?source_impression_id=p3_1753367006_P3bOVqOx8MuIXPXQ',\n",
       "  'type': 'Rental unit',\n",
       "  'title': 'Mykonos Apartment, Air-Conditioned, Netflix, Small Pool',\n",
       "  'rating_text': '5.0 out of 5 average rating 5.0 , · 8 reviews'},\n",
       " {'url': 'https://www.airbnb.com/rooms/1168655512551259276?source_impression_id=p3_1753367006_P3UCF2ny52yA1q33',\n",
       "  'type': 'Rental unit',\n",
       "  'title': 'Cozy Flat near the city center, 2BR w/Netflix & AC',\n",
       "  'rating_text': '4.76 out of 5 average rating 4.76 , · 74 reviews'},\n",
       " {'url': 'https://www.airbnb.com/rooms/1370331468964838238?source_impression_id=p3_1753367006_P3l7CzJ6STot8HbI',\n",
       "  'type': 'Condo',\n",
       "  'title': '3 Bedroom Flat w/ Pool, Netflix and A/C',\n",
       "  'rating_text': '5.0 out of 5 average rating 5.0 , · 6 reviews'},\n",
       " {'url': 'https://www.airbnb.com/rooms/1362312529416292062?source_impression_id=p3_1753367006_P3mRQhgtxr5I1k0w',\n",
       "  'type': 'Condo',\n",
       "  'title': 'Cosy Appartment w/ Pool, A/C, Tennis',\n",
       "  'rating_text': '4.88 out of 5 average rating 4.88 , · 8 reviews'},\n",
       " {'url': 'https://www.airbnb.com/rooms/1238311445228997747?source_impression_id=p3_1753367006_P3gumD0hJ1_2rPq4',\n",
       "  'type': 'Rental unit',\n",
       "  'title': 'Cozy Flat near the city center, 2 Rooms w/ A/C',\n",
       "  'rating_text': '4.75 out of 5 average rating 4.75 , · 57 reviews'}]"
      ]
     },
     "execution_count": 23,
     "metadata": {},
     "output_type": "execute_result"
    }
   ],
   "source": [
    "listings"
   ]
  },
  {
   "cell_type": "markdown",
   "id": "4f704896",
   "metadata": {},
   "source": [
    "get_airbnb_profile_reviews"
   ]
  },
  {
   "cell_type": "code",
   "execution_count": 24,
   "id": "6a6ad690",
   "metadata": {},
   "outputs": [],
   "source": [
    "reviews = get_airbnb_profile_reviews(profile_url)"
   ]
  },
  {
   "cell_type": "code",
   "execution_count": 25,
   "id": "20c187b3",
   "metadata": {},
   "outputs": [
    {
     "data": {
      "text/plain": [
       "[{'reviewer_name': 'Zouheir',\n",
       "  'reviewer_location': 'Casablanca, Morocco',\n",
       "  'date': '2 days ago',\n",
       "  'rating': 'Rating 5 out of 5',\n",
       "  'text': 'Clean and helpful instructions',\n",
       "  'host_response': None},\n",
       " {'reviewer_name': 'Hayat',\n",
       "  'reviewer_location': 'N/A',\n",
       "  'date': '4 days ago',\n",
       "  'rating': 'Rating 5 out of 5',\n",
       "  'text': 'The apartment corresponds exactly to the description. Abdel is super kind and is very helpful. Perfect communication. I will gladly return. Thank you for everything.\\n🙏\\n🙏',\n",
       "  'host_response': None},\n",
       " {'reviewer_name': 'Shazmara',\n",
       "  'reviewer_location': 'N/A',\n",
       "  'date': '4 days ago',\n",
       "  'rating': 'Rating 5 out of 5',\n",
       "  'text': 'We had a fantastic stay at this Airbnb in Marrakech. The apartment was spotless, easy to locate, and access was completely hassle-free. The host’s communication was truly exceptional he was available around the clock, consistently checking in to make sure everything was going well for me and my husband.\\nAlthough there was no washing machine, the host went above and beyond by personally washing, drying, and even folding our clothes something he absolutely didn’t have to do, but we really appreciated the extra care.\\nThe location is also perfect  just a short walk (under 2 minutes) to shops and cafés, and very close to the city center. We couldn’t have asked for a better spot. We’ll 100% be booking this place again on our next visit to Marrakech!\\n20 Mins from the AIRPORT!!',\n",
       "  'host_response': None},\n",
       " {'reviewer_name': 'Eloise',\n",
       "  'reviewer_location': 'N/A',\n",
       "  'date': '5 days ago',\n",
       "  'rating': 'Rating 5 out of 5',\n",
       "  'text': 'Great hosting!\\nThanks',\n",
       "  'host_response': None},\n",
       " {'reviewer_name': 'Sam',\n",
       "  'reviewer_location': 'N/A',\n",
       "  'date': '5 days ago',\n",
       "  'rating': 'Rating 5 out of 5',\n",
       "  'text': 'Very prompt response.  Very good host.',\n",
       "  'host_response': None},\n",
       " {'reviewer_name': 'City Relay',\n",
       "  'reviewer_location': 'London, United Kingdom',\n",
       "  'date': 'June 2025',\n",
       "  'rating': 'N/A',\n",
       "  'text': 'Thanks for staying at our place! You took great care of my space, left it clean and tidy. It was a real pleasure hosting you and we hope to see you again soon!',\n",
       "  'host_response': None},\n",
       " {'reviewer_name': 'Abdou',\n",
       "  'reviewer_location': 'Casablanca, Morocco',\n",
       "  'date': 'December 2024',\n",
       "  'rating': 'N/A',\n",
       "  'text': 'Perfect',\n",
       "  'host_response': None},\n",
       " {'reviewer_name': 'Amine',\n",
       "  'reviewer_location': 'Casablanca, Morocco',\n",
       "  'date': 'October 2024',\n",
       "  'rating': 'N/A',\n",
       "  'text': 'Hosting Abdel was a wonderful experience. They followed all house rules and were very easy to communicate with. I would highly recommend them to any host. Hope to see you again at Modern & Cosy Condos!',\n",
       "  'host_response': None},\n",
       " {'reviewer_name': 'Joshua',\n",
       "  'reviewer_location': 'N/A',\n",
       "  'date': 'September 2024',\n",
       "  'rating': 'N/A',\n",
       "  'text': 'A very wonderful and lovely guest, hope to keep hosting them again in the future.',\n",
       "  'host_response': None},\n",
       " {'reviewer_name': 'Ronald',\n",
       "  'reviewer_location': 'Denpasar, Indonesia',\n",
       "  'date': 'September 2024',\n",
       "  'rating': 'N/A',\n",
       "  'text': 'Thankyou for staying in Aloka Penida',\n",
       "  'host_response': None}]"
      ]
     },
     "execution_count": 25,
     "metadata": {},
     "output_type": "execute_result"
    }
   ],
   "source": [
    "reviews"
   ]
  },
  {
   "cell_type": "markdown",
   "id": "ca419b5f",
   "metadata": {},
   "source": [
    "get_listing_details"
   ]
  },
  {
   "cell_type": "code",
   "execution_count": 27,
   "id": "d49e7396",
   "metadata": {},
   "outputs": [],
   "source": [
    "listing_url = \"https://www.airbnb.com/rooms/742635361588435382?check_in=2025-07-25&check_out=2025-07-27&photo_id=1771668200&source_impression_id=p3_1753321612_P3c3Rt254k8Ttijf&previous_page_section_name=1000\""
   ]
  },
  {
   "cell_type": "code",
   "execution_count": 28,
   "id": "ad3a3de9",
   "metadata": {},
   "outputs": [
    {
     "name": "stdout",
     "output_type": "stream",
     "text": [
      "INFO: No pop-up modal found to close.\n"
     ]
    }
   ],
   "source": [
    "listing_details = get_listing_details(listing_url)"
   ]
  },
  {
   "cell_type": "code",
   "execution_count": 13,
   "id": "41bd0e11",
   "metadata": {},
   "outputs": [
    {
     "data": {
      "text/plain": [
       "{'apartment_name': 'Premium corniche apartment, parking',\n",
       " 'listing_summary': '4 guests · 1 bedroom · 1 bed · 1 bath',\n",
       " 'rating': '4.89',\n",
       " 'reviews_count': '93 reviews Rated 4.89 out of 5 from 93 reviews.',\n",
       " 'price_details': {'error': \"Could not parse price details - 'NoneType' object has no attribute 'get_text'\"},\n",
       " 'image_urls': ['https://a0.muscache.com/im/pictures/8c8668aa-94ab-44fc-9b89-604b94750924.jpg',\n",
       "  'https://a0.muscache.com/im/pictures/7a2b39dc-8b16-4dce-bcd8-b718f0696f1e.jpg',\n",
       "  'https://a0.muscache.com/im/pictures/a6065bab-a924-4e35-80c8-82f903b264de.jpg',\n",
       "  'https://a0.muscache.com/im/pictures/7943613a-0dc2-4f9e-b0f9-33f60e6fbbee.jpg',\n",
       "  'https://a0.muscache.com/im/pictures/c049cc5b-4590-4573-9fcd-5dfcf6ab23d7.jpg'],\n",
       " 'description': 'Enjoy elegant and central accommodation on Boulevard de la Corniche. My apartment is located in the best neighborhood of Casablanca on the new Promenade de la Corniche and close to the Grand Mosque Hassan 2. It is composed of a large living room , beautiful American kitchen, bedroom room, bathroom with shower and 2 terraces. A basement parking spot is offered for you to book.\\nThe space\\nThe apartment is 80m with a beautiful terrace of 12m where you can enjoy your coffee in the morning or your aperitif in the evening in the quiet of the residence. The living room is spacious and can accommodate 4 to 6 people, sofas are comfortable for 2 sleeping places.\\nThe kitchen is fully equipped in terms of appliances and dishes and overlooks the living room. A second small terrace is in front of the kitchen could serve you in case of barbecue.\\nThe bedroom overlooks the interior garden of the residence, furnished with a large queen size bed for 2 people, the built-in closet is bulky and has several types of storage.\\nThe bathroom is spacious fully marbled with Italian shower, toilet and bidet, a hair dryer as well as hygiene products and towels. Everything has been put at your disposal for more comfort: summer and winter duvets, sheets, covers, pillows and cases.\\nGuest access\\nOnce in the apartment, you have access to all the spaces, enjoy the comfort.',\n",
       " 'host_info': {'name': 'Nadia',\n",
       "  'details': 'Superhost | 3 years hosting',\n",
       "  'profile_url': 'https://www.airbnb.com/users/show/298782794'},\n",
       " 'amenities': ['Garden view',\n",
       "  'Beach access – Beachfront',\n",
       "  'Kitchen',\n",
       "  'Wifi',\n",
       "  'Dedicated workspace',\n",
       "  'Free parking on premises',\n",
       "  '55 inch HDTV with Netflix',\n",
       "  'Elevator',\n",
       "  'Free washer – In unit',\n",
       "  'Unavailable: Carbon monoxide alarm'],\n",
       " 'location_details': {'address': 'Casablanca, Casablanca-Settat, Morocco',\n",
       "  'neighborhood_description': 'Casablanca, Casablanca-Settat, Morocco\\nCentral area on Boulevard de la Corniche, several shops, restaurants and amenities in the vicinity.'}}"
      ]
     },
     "execution_count": 13,
     "metadata": {},
     "output_type": "execute_result"
    }
   ],
   "source": [
    "listing_details"
   ]
  },
  {
   "cell_type": "code",
   "execution_count": null,
   "id": "b0aa034b",
   "metadata": {},
   "outputs": [],
   "source": []
  },
  {
   "cell_type": "code",
   "execution_count": null,
   "id": "34288b6f",
   "metadata": {},
   "outputs": [],
   "source": []
  }
 ],
 "metadata": {
  "kernelspec": {
   "display_name": "agent-env",
   "language": "python",
   "name": "python3"
  },
  "language_info": {
   "codemirror_mode": {
    "name": "ipython",
    "version": 3
   },
   "file_extension": ".py",
   "mimetype": "text/x-python",
   "name": "python",
   "nbconvert_exporter": "python",
   "pygments_lexer": "ipython3",
   "version": "3.11.5"
  }
 },
 "nbformat": 4,
 "nbformat_minor": 5
}
