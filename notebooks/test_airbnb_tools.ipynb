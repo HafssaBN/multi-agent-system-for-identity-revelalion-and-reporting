{
 "cells": [
  {
   "cell_type": "code",
   "execution_count": 1,
   "id": "f0deaf04",
   "metadata": {},
   "outputs": [
    {
     "name": "stderr",
     "output_type": "stream",
     "text": [
      "python-dotenv could not parse statement starting at line 8\n",
      "python-dotenv could not parse statement starting at line 13\n"
     ]
    }
   ],
   "source": [
    "from multi_agents.tools.airbnb_tools import (\n",
    "    get_airbnb_profile_details,\n",
    "    get_airbnb_profile_places_visited,\n",
    "    get_airbnb_profile_listings,\n",
    "    get_airbnb_profile_reviews,\n",
    "    get_listing_details\n",
    ") "
   ]
  },
  {
   "cell_type": "code",
   "execution_count": 2,
   "id": "d2c9f99a",
   "metadata": {},
   "outputs": [],
   "source": [
    "profile_url = \"https://www.airbnb.com/users/show/400255197\""
   ]
  },
  {
   "cell_type": "markdown",
   "id": "1b2df196",
   "metadata": {},
   "source": [
    "get_airbnb_profile_details"
   ]
  },
  {
   "cell_type": "code",
   "execution_count": 3,
   "id": "d51c34d5",
   "metadata": {},
   "outputs": [
    {
     "name": "stdout",
     "output_type": "stream",
     "text": [
      "Driver: <selenium.webdriver.chrome.webdriver.WebDriver (session=\"ee297610b1f85bbdf68fced27debb3bf\")>\n",
      "Page title: Google\n"
     ]
    }
   ],
   "source": [
    "from multi_agents.utils.airbnb_utils import initialize_driver\n",
    "driver = initialize_driver()\n",
    "print(\"Driver:\", driver)\n",
    "if driver:\n",
    "    driver.get(\"https://www.google.com\")\n",
    "    print(\"Page title:\", driver.title)\n",
    "    driver.quit()\n"
   ]
  },
  {
   "cell_type": "code",
   "execution_count": 4,
   "id": "46f86577",
   "metadata": {},
   "outputs": [
    {
     "name": "stderr",
     "output_type": "stream",
     "text": [
      "C:\\Users\\hafss\\AppData\\Local\\Temp\\ipykernel_15140\\603425976.py:1: LangChainDeprecationWarning: The method `BaseTool.__call__` was deprecated in langchain-core 0.1.47 and will be removed in 1.0. Use :meth:`~invoke` instead.\n",
      "  profile_details = get_airbnb_profile_details(profile_url)\n",
      "Failed to multipart ingest runs: langsmith.utils.LangSmithRateLimitError: Rate limit exceeded for https://api.smith.langchain.com/runs/multipart. HTTPError('429 Client Error: Too Many Requests for url: https://api.smith.langchain.com/runs/multipart', '{\"error\":\"Too many requests: tenant exceeded usage limits: Monthly unique traces usage limit exceeded\"}\\n')trace=d5d40fa7-e71e-4d94-9540-b13fe6e2ce1b,id=d5d40fa7-e71e-4d94-9540-b13fe6e2ce1b\n"
     ]
    },
    {
     "name": "stderr",
     "output_type": "stream",
     "text": [
      "Failed to send compressed multipart ingest: langsmith.utils.LangSmithRateLimitError: Rate limit exceeded for https://api.smith.langchain.com/runs/multipart. HTTPError('429 Client Error: Too Many Requests for url: https://api.smith.langchain.com/runs/multipart', '{\"error\":\"Too many requests: tenant exceeded usage limits: Monthly unique traces usage limit exceeded\"}\\n')trace=d5d40fa7-e71e-4d94-9540-b13fe6e2ce1b,id=d5d40fa7-e71e-4d94-9540-b13fe6e2ce1b\n",
      "Failed to send compressed multipart ingest: langsmith.utils.LangSmithRateLimitError: Rate limit exceeded for https://api.smith.langchain.com/runs/multipart. HTTPError('429 Client Error: Too Many Requests for url: https://api.smith.langchain.com/runs/multipart', '{\"error\":\"Too many requests: tenant exceeded usage limits: Monthly unique traces usage limit exceeded\"}\\n')trace=0631957a-4a2b-48fe-b096-f384f3e342f4,id=0631957a-4a2b-48fe-b096-f384f3e342f4\n",
      "Failed to send compressed multipart ingest: langsmith.utils.LangSmithRateLimitError: Rate limit exceeded for https://api.smith.langchain.com/runs/multipart. HTTPError('429 Client Error: Too Many Requests for url: https://api.smith.langchain.com/runs/multipart', '{\"error\":\"Too many requests: tenant exceeded usage limits: Monthly unique traces usage limit exceeded\"}\\n')trace=0631957a-4a2b-48fe-b096-f384f3e342f4,id=0631957a-4a2b-48fe-b096-f384f3e342f4\n",
      "Failed to send compressed multipart ingest: langsmith.utils.LangSmithRateLimitError: Rate limit exceeded for https://api.smith.langchain.com/runs/multipart. HTTPError('429 Client Error: Too Many Requests for url: https://api.smith.langchain.com/runs/multipart', '{\"error\":\"Too many requests: tenant exceeded usage limits: Monthly unique traces usage limit exceeded\"}\\n')trace=809c9791-c738-4d58-ab28-431b7b75d008,id=809c9791-c738-4d58-ab28-431b7b75d008\n",
      "Failed to send compressed multipart ingest: langsmith.utils.LangSmithRateLimitError: Rate limit exceeded for https://api.smith.langchain.com/runs/multipart. HTTPError('429 Client Error: Too Many Requests for url: https://api.smith.langchain.com/runs/multipart', '{\"error\":\"Too many requests: tenant exceeded usage limits: Monthly unique traces usage limit exceeded\"}\\n')trace=809c9791-c738-4d58-ab28-431b7b75d008,id=809c9791-c738-4d58-ab28-431b7b75d008\n",
      "Failed to send compressed multipart ingest: langsmith.utils.LangSmithRateLimitError: Rate limit exceeded for https://api.smith.langchain.com/runs/multipart. HTTPError('429 Client Error: Too Many Requests for url: https://api.smith.langchain.com/runs/multipart', '{\"error\":\"Too many requests: tenant exceeded usage limits: Monthly unique traces usage limit exceeded\"}\\n')trace=ae81592a-cb8d-4d4c-aaa2-ab41bb7e134a,id=ae81592a-cb8d-4d4c-aaa2-ab41bb7e134a\n",
      "Failed to send compressed multipart ingest: langsmith.utils.LangSmithRateLimitError: Rate limit exceeded for https://api.smith.langchain.com/runs/multipart. HTTPError('429 Client Error: Too Many Requests for url: https://api.smith.langchain.com/runs/multipart', '{\"error\":\"Too many requests: tenant exceeded usage limits: Monthly unique traces usage limit exceeded\"}\\n')trace=ae81592a-cb8d-4d4c-aaa2-ab41bb7e134a,id=ae81592a-cb8d-4d4c-aaa2-ab41bb7e134a\n",
      "Failed to send compressed multipart ingest: langsmith.utils.LangSmithRateLimitError: Rate limit exceeded for https://api.smith.langchain.com/runs/multipart. HTTPError('429 Client Error: Too Many Requests for url: https://api.smith.langchain.com/runs/multipart', '{\"error\":\"Too many requests: tenant exceeded usage limits: Monthly unique traces usage limit exceeded\"}\\n')trace=012dec3d-0dfa-4c8c-b3d6-3ba3cc633bdb,id=012dec3d-0dfa-4c8c-b3d6-3ba3cc633bdb\n",
      "Failed to send compressed multipart ingest: langsmith.utils.LangSmithRateLimitError: Rate limit exceeded for https://api.smith.langchain.com/runs/multipart. HTTPError('429 Client Error: Too Many Requests for url: https://api.smith.langchain.com/runs/multipart', '{\"error\":\"Too many requests: tenant exceeded usage limits: Monthly unique traces usage limit exceeded\"}\\n')trace=012dec3d-0dfa-4c8c-b3d6-3ba3cc633bdb,id=012dec3d-0dfa-4c8c-b3d6-3ba3cc633bdb\n",
      "Failed to send compressed multipart ingest: langsmith.utils.LangSmithRateLimitError: Rate limit exceeded for https://api.smith.langchain.com/runs/multipart. HTTPError('429 Client Error: Too Many Requests for url: https://api.smith.langchain.com/runs/multipart', '{\"error\":\"Too many requests: tenant exceeded usage limits: Monthly unique traces usage limit exceeded\"}\\n')trace=d30c92ba-a621-4494-8307-e8371921f4d4,id=d30c92ba-a621-4494-8307-e8371921f4d4\n",
      "Failed to send compressed multipart ingest: langsmith.utils.LangSmithRateLimitError: Rate limit exceeded for https://api.smith.langchain.com/runs/multipart. HTTPError('429 Client Error: Too Many Requests for url: https://api.smith.langchain.com/runs/multipart', '{\"error\":\"Too many requests: tenant exceeded usage limits: Monthly unique traces usage limit exceeded\"}\\n')trace=d30c92ba-a621-4494-8307-e8371921f4d4,id=d30c92ba-a621-4494-8307-e8371921f4d4; trace=53c0e075-b01d-4218-8c2a-74ba0dbb5333,id=53c0e075-b01d-4218-8c2a-74ba0dbb5333\n",
      "Failed to send compressed multipart ingest: langsmith.utils.LangSmithRateLimitError: Rate limit exceeded for https://api.smith.langchain.com/runs/multipart. HTTPError('429 Client Error: Too Many Requests for url: https://api.smith.langchain.com/runs/multipart', '{\"error\":\"Too many requests: tenant exceeded usage limits: Monthly unique traces usage limit exceeded\"}\\n')trace=53c0e075-b01d-4218-8c2a-74ba0dbb5333,id=53c0e075-b01d-4218-8c2a-74ba0dbb5333\n",
      "Failed to send compressed multipart ingest: langsmith.utils.LangSmithRateLimitError: Rate limit exceeded for https://api.smith.langchain.com/runs/multipart. HTTPError('429 Client Error: Too Many Requests for url: https://api.smith.langchain.com/runs/multipart', '{\"error\":\"Too many requests: tenant exceeded usage limits: Monthly unique traces usage limit exceeded\"}\\n')trace=842ff22b-d146-47cf-95f2-90560dd85328,id=842ff22b-d146-47cf-95f2-90560dd85328\n",
      "Failed to send compressed multipart ingest: langsmith.utils.LangSmithRateLimitError: Rate limit exceeded for https://api.smith.langchain.com/runs/multipart. HTTPError('429 Client Error: Too Many Requests for url: https://api.smith.langchain.com/runs/multipart', '{\"error\":\"Too many requests: tenant exceeded usage limits: Monthly unique traces usage limit exceeded\"}\\n')trace=842ff22b-d146-47cf-95f2-90560dd85328,id=842ff22b-d146-47cf-95f2-90560dd85328; trace=621f4208-5900-46e1-961c-bcdba9ec2c02,id=621f4208-5900-46e1-961c-bcdba9ec2c02\n",
      "Failed to send compressed multipart ingest: langsmith.utils.LangSmithRateLimitError: Rate limit exceeded for https://api.smith.langchain.com/runs/multipart. HTTPError('429 Client Error: Too Many Requests for url: https://api.smith.langchain.com/runs/multipart', '{\"error\":\"Too many requests: tenant exceeded usage limits: Monthly unique traces usage limit exceeded\"}\\n')trace=621f4208-5900-46e1-961c-bcdba9ec2c02,id=621f4208-5900-46e1-961c-bcdba9ec2c02\n"
     ]
    }
   ],
   "source": [
    "profile_details = get_airbnb_profile_details(profile_url)"
   ]
  },
  {
   "cell_type": "code",
   "execution_count": 5,
   "id": "17ca6a09",
   "metadata": {},
   "outputs": [
    {
     "data": {
      "text/plain": [
       "{'name': 'Yahya',\n",
       " 'about_details': ['Where I went to school: Strasbourg',\n",
       "  'My work: Master G mechanics',\n",
       "  'What makes my home unique: is its cozy and warm atmosphere.',\n",
       "  'Pets: chihua. Luna.',\n",
       "  'Identity verified'],\n",
       " 'bio': 'If you have been looking for a stay in Marrakech, the search is over! Welcome to your second home in the “Red City”.\\r\\n\\r\\nCurrently, I am an ambitious student completing my master’s degree in engineering in France and your host! I can guarantee that you will feel the clean and cozy energy right away at my properties, which I have furnished with great care and decorated with taste. \\r\\n\\r\\nI am quite well traveled and have booked many properties on Airbnb myself. Every time I am abroad, I carefully…',\n",
       " 'profile_picture_url': 'https://a0.muscache.com/im/pictures/user/User/original/4e061e37-b7e7-4a21-8eaf-330f28ef6200.jpeg?im_w=720'}"
      ]
     },
     "execution_count": 5,
     "metadata": {},
     "output_type": "execute_result"
    }
   ],
   "source": [
    "profile_details"
   ]
  },
  {
   "cell_type": "markdown",
   "id": "a67e57dd",
   "metadata": {},
   "source": [
    "get_airbnb_profile_places_visited"
   ]
  },
  {
   "cell_type": "code",
   "execution_count": 6,
   "id": "4ebd3589",
   "metadata": {},
   "outputs": [],
   "source": [
    "places_visited = get_airbnb_profile_places_visited(profile_url)"
   ]
  },
  {
   "cell_type": "code",
   "execution_count": 7,
   "id": "ab160737",
   "metadata": {},
   "outputs": [
    {
     "data": {
      "text/plain": [
       "[{'place': 'Montreal, Canada', 'details': 'September 2024'},\n",
       " {'place': 'Marrakesh, Morocco', 'details': '2 trips'},\n",
       " {'place': 'Balearic Islands, Spain', 'details': 'August 2023'},\n",
       " {'place': 'Marseille, France', 'details': 'September 2022'}]"
      ]
     },
     "execution_count": 7,
     "metadata": {},
     "output_type": "execute_result"
    }
   ],
   "source": [
    "places_visited"
   ]
  },
  {
   "cell_type": "markdown",
   "id": "87cf4887",
   "metadata": {},
   "source": [
    "get_airbnb_profile_listings"
   ]
  },
  {
   "cell_type": "code",
   "execution_count": 8,
   "id": "1c3972e2",
   "metadata": {},
   "outputs": [],
   "source": [
    "listings = get_airbnb_profile_listings(profile_url)"
   ]
  },
  {
   "cell_type": "code",
   "execution_count": 9,
   "id": "2c06a467",
   "metadata": {},
   "outputs": [
    {
     "data": {
      "text/plain": [
       "[{'url': 'https://www.airbnb.com/rooms/1439197510227886402?source_impression_id=p3_1756261046_P3WtCVjsgf3iJlnk',\n",
       "  'type': 'Rental unit',\n",
       "  'title': 'Marra-Hugo l comfy & cozy in the heart of Gueliz',\n",
       "  'rating_text': '5.0 out of 5 average rating 5.0 , · 7 reviews'},\n",
       " {'url': 'https://www.airbnb.com/rooms/1400070928920254698?source_impression_id=p3_1756261046_P3xqljW6kPmfFcEZ',\n",
       "  'type': 'Rental unit',\n",
       "  'title': 'Marra-Eden II | chic & comfy in heart of Marrakech',\n",
       "  'rating_text': '5.0 out of 5 average rating 5.0 , · 12 reviews'},\n",
       " {'url': 'https://www.airbnb.com/rooms/639019477496281318?source_impression_id=p3_1756261046_P3ZJ33FB8auPOJcY',\n",
       "  'type': 'Rental unit',\n",
       "  'title': 'Marra-Olive | Calm & charm en plein Gueliz',\n",
       "  'rating_text': '4.97 out of 5 average rating 4.97 , · 149 reviews'},\n",
       " {'url': 'https://www.airbnb.com/rooms/1380003632130082939?source_impression_id=p3_1756261046_P39WJ7IDY43hz9Li',\n",
       "  'type': 'Rental unit',\n",
       "  'title': 'Marra-Cozy | Comfort & Style in Gueliz',\n",
       "  'rating_text': '5.0 out of 5 average rating 5.0 , · 17 reviews'},\n",
       " {'url': 'https://www.airbnb.com/rooms/1296988983358659588?source_impression_id=p3_1756261046_P3izmMmF7bFJlkAb',\n",
       "  'type': 'Home',\n",
       "  'title': 'Villa Tazrart | Pool & Garden in Marrakesh',\n",
       "  'rating_text': '4.93 out of 5 average rating 4.93 , · 30 reviews'},\n",
       " {'url': 'https://www.airbnb.com/rooms/1458859134718874678?source_impression_id=p3_1756261046_P35sB91qtU2WGgxA',\n",
       "  'type': 'Home',\n",
       "  'title': 'Villa Agathe I private Pool in Marrakech',\n",
       "  'rating_text': '5.0 out of 5 average rating 5.0 , · 4 reviews'},\n",
       " {'url': 'https://www.airbnb.com/rooms/1470541456476394534?source_impression_id=p3_1756261046_P3NQUCv-qMgU1Agy',\n",
       "  'type': 'Rental unit',\n",
       "  'title': 'Marra-escape 2 minutes from the center',\n",
       "  'rating_text': 'N/A'},\n",
       " {'url': 'https://www.airbnb.com/rooms/1189858011596016101?source_impression_id=p3_1756261046_P3fd0YEBUOEBzzov',\n",
       "  'type': 'Riad',\n",
       "  'title': 'Riad Elkhouda with heated rooftop pool',\n",
       "  'rating_text': '4.97 out of 5 average rating 4.97 , · 62 reviews'},\n",
       " {'url': 'https://www.airbnb.com/rooms/1177069864073823963?source_impression_id=p3_1756261046_P352StISiIb45cw-',\n",
       "  'type': 'Rental unit',\n",
       "  'title': 'Marra-Renoir in the center of Marrakech',\n",
       "  'rating_text': '4.9 out of 5 average rating 4.9 , · 20 reviews'},\n",
       " {'url': 'https://www.airbnb.com/rooms/673355017918393250?source_impression_id=p3_1756261046_P3QtcNVZUmFzSMXr',\n",
       "  'type': 'Rental unit',\n",
       "  'title': 'Marra-Chic | Chic & luxurious in the center of Marrakech',\n",
       "  'rating_text': '4.94 out of 5 average rating 4.94 , · 172 reviews'}]"
      ]
     },
     "execution_count": 9,
     "metadata": {},
     "output_type": "execute_result"
    }
   ],
   "source": [
    "listings"
   ]
  },
  {
   "cell_type": "markdown",
   "id": "4f704896",
   "metadata": {},
   "source": [
    "get_airbnb_profile_reviews"
   ]
  },
  {
   "cell_type": "code",
   "execution_count": 10,
   "id": "6a6ad690",
   "metadata": {},
   "outputs": [],
   "source": [
    "reviews = get_airbnb_profile_reviews(profile_url)"
   ]
  },
  {
   "cell_type": "code",
   "execution_count": 11,
   "id": "20c187b3",
   "metadata": {},
   "outputs": [
    {
     "data": {
      "text/plain": [
       "[{'reviewer_name': 'Aicha',\n",
       "  'reviewer_location': 'N/A',\n",
       "  'date': '2 days ago',\n",
       "  'rating': 'Rating 5 out of 5',\n",
       "  'text': 'My stay at Yahya’s apartment was absolutely fantastic! From the very first interaction, Yahya and Mourad were incredibly friendly, clear, and responsive. They answered all my questions promptly, which made everything so smooth and reassuring.\\nThe apartment itself is a gem. The Japandi-style decor creates a calm, modern, and cozy atmosphere that instantly makes you feel at home. Everything was spotless, comfortable, and beautifully designed. The location is perfect—central, vibrant, yet peaceful enough to unwind.\\nWhen one of the air conditioners stopped working, Yahya and Mourad handled it with incredible speed and professionalism, arranging for someone to fix it right away. This level of service truly sets them apart. Plus, you get so much quality for such a great price!\\nIn short, an outstanding experience with top-notch hosts, a stunning apartment, and service that’s hard to match. I highly recommend Yahya’s apartment to anyone looking for an amazing place to stay!',\n",
       "  'host_response': None},\n",
       " {'reviewer_name': 'Hanane',\n",
       "  'reviewer_location': 'N/A',\n",
       "  'date': '2 weeks ago',\n",
       "  'rating': 'Rating 5 out of 5',\n",
       "  'text': 'A very clean apartment and close to everything',\n",
       "  'host_response': None},\n",
       " {'reviewer_name': 'Abdelhak',\n",
       "  'reviewer_location': 'N/A',\n",
       "  'date': '2 weeks ago',\n",
       "  'rating': 'Rating 5 out of 5',\n",
       "  'text': 'Complete apartment, with amenities. Very responsive and flexible host. I highly recommend it.',\n",
       "  'host_response': None},\n",
       " {'reviewer_name': 'Marouane',\n",
       "  'reviewer_location': 'Bordeaux, France',\n",
       "  'date': '2 weeks ago',\n",
       "  'rating': 'Rating 5 out of 5',\n",
       "  'text': 'Fantastic stay! The place was spotless, comfortable, and in an unbeatable location — walking distance to everything we needed. Host was responsive and welcoming. Highly recommend!',\n",
       "  'host_response': None},\n",
       " {'reviewer_name': 'Daoud',\n",
       "  'reviewer_location': 'Paris, France',\n",
       "  'date': '2 weeks ago',\n",
       "  'rating': 'Rating 5 out of 5',\n",
       "  'text': 'Stay at the top,\\nBeautiful and spacious riad in an authentic neighborhood,\\nHelpful and attentive host,\\nI recommend,',\n",
       "  'host_response': None},\n",
       " {'reviewer_name': 'Jona',\n",
       "  'reviewer_location': 'N/A',\n",
       "  'date': 'September 2024',\n",
       "  'rating': 'N/A',\n",
       "  'text': 'Exceptional guests welcome back anytime!',\n",
       "  'host_response': None},\n",
       " {'reviewer_name': 'Elitegestion',\n",
       "  'reviewer_location': 'N/A',\n",
       "  'date': 'August 2024',\n",
       "  'rating': 'N/A',\n",
       "  'text': 'I recommend',\n",
       "  'host_response': None},\n",
       " {'reviewer_name': 'Priority Villas',\n",
       "  'reviewer_location': 'Palma, Spain',\n",
       "  'date': 'August 2023',\n",
       "  'rating': 'N/A',\n",
       "  'text': 'Everything was great! Thank you very much for being a good guest; welcome back anytime!',\n",
       "  'host_response': None},\n",
       " {'reviewer_name': 'Mehdi',\n",
       "  'reviewer_location': 'Marrakesh, Morocco',\n",
       "  'date': 'October 2022',\n",
       "  'rating': 'N/A',\n",
       "  'text': 'Great guest. I recommend it.\\n👍🏽',\n",
       "  'host_response': None}]"
      ]
     },
     "execution_count": 11,
     "metadata": {},
     "output_type": "execute_result"
    }
   ],
   "source": [
    "reviews"
   ]
  },
  {
   "cell_type": "markdown",
   "id": "ca419b5f",
   "metadata": {},
   "source": [
    "get_listing_details"
   ]
  },
  {
   "cell_type": "code",
   "execution_count": 12,
   "id": "d49e7396",
   "metadata": {},
   "outputs": [],
   "source": [
    "listing_url = \"https://www.airbnb.com/rooms/742635361588435382?check_in=2025-07-25&check_out=2025-07-27&photo_id=1771668200&source_impression_id=p3_1753321612_P3c3Rt254k8Ttijf&previous_page_section_name=1000\""
   ]
  },
  {
   "cell_type": "code",
   "execution_count": 13,
   "id": "ad3a3de9",
   "metadata": {},
   "outputs": [
    {
     "name": "stdout",
     "output_type": "stream",
     "text": [
      "WARNING: Could not click price breakdown. Price details may be incomplete. Error: Message: \n",
      "Stacktrace:\n",
      "\tGetHandleVerifier [0x0x7ff7a285e925+77845]\n",
      "\tGetHandleVerifier [0x0x7ff7a285e980+77936]\n",
      "\t(No symbol) [0x0x7ff7a2619cda]\n",
      "\t(No symbol) [0x0x7ff7a26706aa]\n",
      "\t(No symbol) [0x0x7ff7a267095c]\n",
      "\t(No symbol) [0x0x7ff7a26c3d07]\n",
      "\t(No symbol) [0x0x7ff7a269890f]\n",
      "\t(No symbol) [0x0x7ff7a26c0b07]\n",
      "\t(No symbol) [0x0x7ff7a26986a3]\n",
      "\t(No symbol) [0x0x7ff7a2661791]\n",
      "\t(No symbol) [0x0x7ff7a2662523]\n",
      "\tGetHandleVerifier [0x0x7ff7a2b3683d+3059501]\n",
      "\tGetHandleVerifier [0x0x7ff7a2b30bfd+3035885]\n",
      "\tGetHandleVerifier [0x0x7ff7a2b503f0+3164896]\n",
      "\tGetHandleVerifier [0x0x7ff7a2878c2e+185118]\n",
      "\tGetHandleVerifier [0x0x7ff7a288053f+216111]\n",
      "\tGetHandleVerifier [0x0x7ff7a28672d4+113092]\n",
      "\tGetHandleVerifier [0x0x7ff7a2867489+113529]\n",
      "\tGetHandleVerifier [0x0x7ff7a284e288+10616]\n",
      "\tBaseThreadInitThunk [0x0x7ffe505ce8d7+23]\n",
      "\tRtlUserThreadStart [0x0x7ffe510bc34c+44]\n",
      "\n"
     ]
    }
   ],
   "source": [
    "listing_details = get_listing_details(listing_url)"
   ]
  },
  {
   "cell_type": "code",
   "execution_count": 14,
   "id": "67e3178e",
   "metadata": {},
   "outputs": [
    {
     "data": {
      "text/plain": [
       "{'apartment_name': 'Premium corniche apartment, parking',\n",
       " 'listing_summary': '4 guests · 1 bedroom · 1 bed · 1 bath',\n",
       " 'rating': 'Not Found',\n",
       " 'reviews_count': 'Not Found',\n",
       " 'price_details': {'error': \"Could not parse price details - 'NoneType' object has no attribute 'get_text'\"},\n",
       " 'image_urls': ['https://a0.muscache.com/im/pictures/7943613a-0dc2-4f9e-b0f9-33f60e6fbbee.jpg',\n",
       "  'https://a0.muscache.com/im/pictures/a6065bab-a924-4e35-80c8-82f903b264de.jpg',\n",
       "  'https://a0.muscache.com/im/pictures/8c8668aa-94ab-44fc-9b89-604b94750924.jpg',\n",
       "  'https://a0.muscache.com/im/pictures/7a2b39dc-8b16-4dce-bcd8-b718f0696f1e.jpg',\n",
       "  'https://a0.muscache.com/im/pictures/c049cc5b-4590-4573-9fcd-5dfcf6ab23d7.jpg'],\n",
       " 'description': 'Enjoy elegant and central accommodation on Boulevard de la Corniche. My apartment is located in the best neighborhood of Casablanca on the new Promenade de la Corniche and close to the Grand Mosque Hassan 2. It is composed of a large living room , beautiful American kitchen, bedroom room, bathroom with shower and 2 terraces. A basement parking spot is offered for you to book.\\nThe space\\nThe apartment is 80m with a beautiful terrace of 12m where you can enjoy your coffee in the morning or your aperitif in the evening in the quiet of the residence. The living room is spacious and can accommodate 4 to 6 people, sofas are comfortable for 2 sleeping places.\\nThe kitchen is fully equipped in terms of appliances and dishes and overlooks the living room. A second small terrace is in front of the kitchen could serve you in case of barbecue.\\nThe bedroom overlooks the interior garden of the residence, furnished with a large queen size bed for 2 people, the built-in closet is bulky and has several types of storage.\\nThe bathroom is spacious fully marbled with Italian shower, toilet and bidet, a hair dryer as well as hygiene products and towels. Everything has been put at your disposal for more comfort: summer and winter duvets, sheets, covers, pillows and cases.\\nGuest access\\nOnce in the apartment, you have access to all the spaces, enjoy the comfort.',\n",
       " 'host_info': {'name': 'Nadia',\n",
       "  'details': 'Superhost | 3 years hosting',\n",
       "  'profile_url': 'https://www.airbnb.com/users/show/298782794'},\n",
       " 'amenities': ['Garden view',\n",
       "  'Beach access – Beachfront',\n",
       "  'Kitchen',\n",
       "  'Wifi',\n",
       "  'Dedicated workspace',\n",
       "  'Free parking on premises',\n",
       "  '55 inch HDTV with Netflix',\n",
       "  'Elevator',\n",
       "  'Free washer – In unit',\n",
       "  'Unavailable: Carbon monoxide alarm'],\n",
       " 'location_details': {'address': 'Casablanca, Casablanca-Settat, Morocco',\n",
       "  'neighborhood_description': 'Casablanca, Casablanca-Settat, Morocco\\nCentral area on Boulevard de la Corniche, several shops, restaurants and amenities in the vicinity.'}}"
      ]
     },
     "execution_count": 14,
     "metadata": {},
     "output_type": "execute_result"
    }
   ],
   "source": [
    "listing_details"
   ]
  },
  {
   "cell_type": "code",
   "execution_count": 14,
   "id": "b0aa034b",
   "metadata": {},
   "outputs": [
    {
     "name": "stdout",
     "output_type": "stream",
     "text": [
      "profile_details: {'name': 'Yahya', 'about_details': ['My work: Master G mechanics', 'Most useless skill: is to be able to whistle in harmony', 'For guests, I always: offer a comfortable and unique stay.', 'Pets: chihua. Luna.', 'Identity verified'], 'bio': 'If you have been looking for a stay in Marrakech, the search is over! Welcome to your second home in the “Red City”.\\r\\n\\r\\nCurrently, I am an ambitious student completing my master’s degree in engineering in France and your host! I can guarantee that you will feel the clean and cozy energy right away at my properties, which I have furnished with great care and decorated with taste. \\r\\n\\r\\nI am quite well traveled and have booked many properties on Airbnb myself. Every time I am abroad, I carefully…', 'profile_picture_url': 'https://a0.muscache.com/im/pictures/user/User/original/4e061e37-b7e7-4a21-8eaf-330f28ef6200.jpeg?im_w=720'}\n",
      "places: [{'place': 'Montreal, Canada', 'details': 'September 2024'}, {'place': 'Marrakesh, Morocco', 'details': '2 trips'}, {'place': 'Balearic Islands, Spain', 'details': 'August 2023'}, {'place': 'Marseille, France', 'details': 'September 2022'}]\n",
      "'Show all reviews' button not found or modal did not open. Scraping visible reviews.\n",
      "listings: [{'url': 'https://www.airbnb.com/rooms/1439197510227886402?source_impression_id=p3_1756261119_P3H4KbkW529Ef-2-', 'type': 'Rental unit', 'title': 'Marra-Hugo l comfy & cozy in the heart of Gueliz', 'rating_text': '5.0 out of 5 average rating 5.0 , · 7 reviews'}, {'url': 'https://www.airbnb.com/rooms/1400070928920254698?source_impression_id=p3_1756261119_P3Sh3kPQAD44dpMs', 'type': 'Rental unit', 'title': 'Marra-Eden II | chic & comfy in heart of Marrakech', 'rating_text': '5.0 out of 5 average rating 5.0 , · 12 reviews'}, {'url': 'https://www.airbnb.com/rooms/639019477496281318?source_impression_id=p3_1756261119_P3TziypHk9ueXR2H', 'type': 'Rental unit', 'title': 'Marra-Olive | Calm & charm en plein Gueliz', 'rating_text': '4.97 out of 5 average rating 4.97 , · 149 reviews'}, {'url': 'https://www.airbnb.com/rooms/1380003632130082939?source_impression_id=p3_1756261119_P32U-EAmvX_z7oLS', 'type': 'Rental unit', 'title': 'Marra-Cozy | Comfort & Style in Gueliz', 'rating_text': '5.0 out of 5 average rating 5.0 , · 17 reviews'}, {'url': 'https://www.airbnb.com/rooms/1296988983358659588?source_impression_id=p3_1756261119_P3Jloqj_PTz2Mjo7', 'type': 'Home', 'title': 'Villa Tazrart | Pool & Garden in Marrakesh', 'rating_text': '4.93 out of 5 average rating 4.93 , · 30 reviews'}, {'url': 'https://www.airbnb.com/rooms/1458859134718874678?source_impression_id=p3_1756261119_P31am4TA218lyuVg', 'type': 'Home', 'title': 'Villa Agathe I private Pool in Marrakech', 'rating_text': '5.0 out of 5 average rating 5.0 , · 4 reviews'}, {'url': 'https://www.airbnb.com/rooms/1470541456476394534?source_impression_id=p3_1756261119_P35P7aB3yAt2sB3A', 'type': 'Rental unit', 'title': 'Marra-escape 2 minutes from the center', 'rating_text': 'N/A'}, {'url': 'https://www.airbnb.com/rooms/1189858011596016101?source_impression_id=p3_1756261119_P35mJtXb4sicjuN5', 'type': 'Riad', 'title': 'Riad Elkhouda with heated rooftop pool', 'rating_text': '4.97 out of 5 average rating 4.97 , · 62 reviews'}, {'url': 'https://www.airbnb.com/rooms/1177069864073823963?source_impression_id=p3_1756261119_P3HK9U4EOcAC2BJi', 'type': 'Rental unit', 'title': 'Marra-Renoir in the center of Marrakech', 'rating_text': '4.9 out of 5 average rating 4.9 , · 20 reviews'}, {'url': 'https://www.airbnb.com/rooms/673355017918393250?source_impression_id=p3_1756261119_P3Olx5TL8X_2STUo', 'type': 'Rental unit', 'title': 'Marra-Chic | Chic & luxurious in the center of Marrakech', 'rating_text': '4.94 out of 5 average rating 4.94 , · 172 reviews'}]\n",
      "reviews: [{'reviewer_name': 'Aicha', 'reviewer_location': 'N/A', 'date': '2 days ago', 'rating': 'Rating 5 out of 5', 'text': 'My stay at Yahya’s apartment was absolutely fantastic! From the very first interaction, Yahya and Mourad were incredibly friendly, clear, and responsive. They answered all my questions promptly, which made everything so smooth and reassuring.\\nThe apartment itself is a gem. The Japandi-style decor creates a calm, modern, and cozy atmosphere that instantly makes you feel at home. Everything was spotless, comfortable, and beautifully designed. The location is perfect—central, vibrant, yet peaceful enough to unwind.\\nWhen one of the air conditioners stopped working, Yahya and Mourad handled it with incredible speed and professionalism, arranging for someone to fix it right away. This level of service truly sets them apart. Plus, you get so much quality for such a great price!\\nIn short, an outstanding experience with top-notch hosts, a stunning apartment, and service that’s hard to match. I highly recommend Yahya’s apartment to anyone looking for an amazing place to stay!', 'host_response': None}, {'reviewer_name': 'Hanane', 'reviewer_location': 'N/A', 'date': '2 weeks ago', 'rating': 'Rating 5 out of 5', 'text': 'A very clean apartment and close to everything', 'host_response': None}]\n"
     ]
    }
   ],
   "source": [
    "from multi_agents.tools.airbnb_tools import (\n",
    "    get_airbnb_profile_details,\n",
    "    get_airbnb_profile_places_visited,\n",
    "    get_airbnb_profile_listings,\n",
    "    get_airbnb_profile_reviews,\n",
    "    get_listing_details,\n",
    ")\n",
    "\n",
    "profile_url = \"https://www.airbnb.com/users/show/400255197\"\n",
    "\n",
    "# 2) Use .invoke to avoid the deprecation warning and stick to the supported API\n",
    "profile_details = get_airbnb_profile_details.invoke({\"profile_url\": profile_url})\n",
    "print(\"profile_details:\", profile_details)\n",
    "\n",
    "places = get_airbnb_profile_places_visited.invoke({\"profile_url\": profile_url})\n",
    "print(\"places:\", places)\n",
    "\n",
    "listings = get_airbnb_profile_listings.invoke({\"profile_url\": profile_url})\n",
    "print(\"listings:\", listings)\n",
    "\n",
    "reviews = get_airbnb_profile_reviews.invoke({\"profile_url\": profile_url})\n",
    "print(\"reviews:\", reviews[:2] if isinstance(reviews, list) else reviews)  # preview\n"
   ]
  },
  {
   "cell_type": "code",
   "execution_count": null,
   "id": "34288b6f",
   "metadata": {},
   "outputs": [],
   "source": []
  }
 ],
 "metadata": {
  "kernelspec": {
   "display_name": "venv",
   "language": "python",
   "name": "python3"
  },
  "language_info": {
   "codemirror_mode": {
    "name": "ipython",
    "version": 3
   },
   "file_extension": ".py",
   "mimetype": "text/x-python",
   "name": "python",
   "nbconvert_exporter": "python",
   "pygments_lexer": "ipython3",
   "version": "3.11.5"
  }
 },
 "nbformat": 4,
 "nbformat_minor": 5
}
