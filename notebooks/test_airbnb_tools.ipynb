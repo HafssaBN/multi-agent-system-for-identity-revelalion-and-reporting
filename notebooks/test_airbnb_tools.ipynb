{
 "cells": [
  {
   "cell_type": "code",
   "execution_count": 1,
   "id": "f0deaf04",
   "metadata": {},
   "outputs": [],
   "source": [
    "from multi_agents.tools.airbnb_tools import (\n",
    "    get_airbnb_profile_details,\n",
    "    get_airbnb_profile_places_visited,\n",
    "    get_airbnb_profile_listings,\n",
    "    get_airbnb_profile_reviews,\n",
    "    get_listing_details\n",
    ") "
   ]
  },
  {
   "cell_type": "code",
   "execution_count": 4,
   "id": "d2c9f99a",
   "metadata": {},
   "outputs": [],
   "source": [
    "profile_url = \"https://www.airbnb.com/users/show/532236013\""
   ]
  },
  {
   "cell_type": "markdown",
   "id": "1b2df196",
   "metadata": {},
   "source": [
    "get_airbnb_profile_details"
   ]
  },
  {
   "cell_type": "code",
   "execution_count": 5,
   "id": "46f86577",
   "metadata": {},
   "outputs": [
    {
     "name": "stdout",
     "output_type": "stream",
     "text": [
      "--- [1] Connecting to Selenium Remote WebDriver ---\n",
      "\n",
      "--- [2] Navigating to URL: https://www.airbnb.com/users/show/532236013 ---\n",
      "SUCCESS: Page loaded.\n",
      "'Show all reviews' button not found or modal did not open. Scraping visible reviews.\n"
     ]
    }
   ],
   "source": [
    "profile_details = get_airbnb_profile_details(profile_url)"
   ]
  },
  {
   "cell_type": "code",
   "execution_count": 6,
   "id": "17ca6a09",
   "metadata": {},
   "outputs": [
    {
     "data": {
      "text/plain": [
       "{'name': 'Abdel',\n",
       " 'about_details': ['My work: Entrepreneur',\n",
       "  \"Where I've always wanted to go: The Moon\",\n",
       "  'What makes my home unique: Premium comfort, Local Experiences.',\n",
       "  'Pets: Enzo, Malinois',\n",
       "  'Identity verified'],\n",
       " 'bio': \"I'm Abdel, a passionate entrepreneur and Airbnb host in Marrakech. I offer apartments and riad ideally located (Izdihar, Gueliz, Medina, Palmeraie), combining modern comfort and Moroccan authenticity for a unique experience of the city.\"}"
      ]
     },
     "execution_count": 6,
     "metadata": {},
     "output_type": "execute_result"
    }
   ],
   "source": [
    "profile_details"
   ]
  },
  {
   "cell_type": "markdown",
   "id": "a67e57dd",
   "metadata": {},
   "source": [
    "get_airbnb_profile_places_visited"
   ]
  },
  {
   "cell_type": "code",
   "execution_count": 7,
   "id": "4ebd3589",
   "metadata": {},
   "outputs": [
    {
     "name": "stdout",
     "output_type": "stream",
     "text": [
      "--- [1] Connecting to Selenium Remote WebDriver ---\n",
      "\n",
      "--- [2] Navigating to URL: https://www.airbnb.com/users/show/532236013 ---\n",
      "SUCCESS: Page loaded.\n",
      "'Show all reviews' button not found or modal did not open. Scraping visible reviews.\n"
     ]
    }
   ],
   "source": [
    "places_visited = get_airbnb_profile_places_visited(profile_url)"
   ]
  },
  {
   "cell_type": "code",
   "execution_count": 8,
   "id": "ab160737",
   "metadata": {},
   "outputs": [
    {
     "data": {
      "text/plain": [
       "[{'place': 'London, United Kingdom', 'details': 'June 2025'},\n",
       " {'place': 'Casablanca, Morocco', 'details': '4 trips'},\n",
       " {'place': 'Denpasar, Indonesia', 'details': 'September 2024'},\n",
       " {'place': 'Nusa Penida, Indonesia', 'details': 'September 2024'},\n",
       " {'place': 'Sukasada, Indonesia', 'details': 'September 2024'},\n",
       " {'place': 'Ubud, Indonesia', 'details': '2 trips'},\n",
       " {'place': 'Oujda, Morocco', 'details': 'September 2024'},\n",
       " {'place': 'Imi Quaddar, Morocco', 'details': 'August 2024'}]"
      ]
     },
     "execution_count": 8,
     "metadata": {},
     "output_type": "execute_result"
    }
   ],
   "source": [
    "places_visited"
   ]
  },
  {
   "cell_type": "markdown",
   "id": "87cf4887",
   "metadata": {},
   "source": [
    "get_airbnb_profile_listings"
   ]
  },
  {
   "cell_type": "code",
   "execution_count": 9,
   "id": "1c3972e2",
   "metadata": {},
   "outputs": [
    {
     "name": "stdout",
     "output_type": "stream",
     "text": [
      "--- [1] Connecting to Selenium Remote WebDriver ---\n",
      "\n",
      "--- [2] Navigating to URL: https://www.airbnb.com/users/show/532236013 ---\n",
      "SUCCESS: Page loaded.\n",
      "'Show all reviews' button not found or modal did not open. Scraping visible reviews.\n"
     ]
    }
   ],
   "source": [
    "listings = get_airbnb_profile_listings(profile_url)"
   ]
  },
  {
   "cell_type": "code",
   "execution_count": 10,
   "id": "2c06a467",
   "metadata": {},
   "outputs": [
    {
     "data": {
      "text/plain": [
       "[{'url': 'https://www.airbnb.com/rooms/1471660459697865832?source_impression_id=p3_1753323294_P3IuR85YrZZZfbo8',\n",
       "  'type': 'Bed and breakfast',\n",
       "  'title': 'Suite Prestige au Riad, 5 min from Jamaa El Fna',\n",
       "  'rating_text': 'N/A'},\n",
       " {'url': 'https://www.airbnb.com/rooms/1471588431390978827?source_impression_id=p3_1753323294_P3RA5cw-z2kld7-U',\n",
       "  'type': 'Bed and breakfast',\n",
       "  'title': 'Medina Prestige Suite, 5 min from Jamaa El Fna',\n",
       "  'rating_text': 'N/A'},\n",
       " {'url': 'https://www.airbnb.com/rooms/1430288794722556873?source_impression_id=p3_1753323294_P3E86ThQc2KOB9vy',\n",
       "  'type': 'Riad',\n",
       "  'title': 'Luxury Private Riad, Air-Conditioned and Pool',\n",
       "  'rating_text': 'N/A'},\n",
       " {'url': 'https://www.airbnb.com/rooms/1445689129766894859?source_impression_id=p3_1753323294_P3LqvUAG6B_EJQQZ',\n",
       "  'type': 'Rental unit',\n",
       "  'title': 'Relax Stay - Cosy 2BR, A/C, Terrace & Netflix',\n",
       "  'rating_text': '5.0 out of 5 average rating 5.0 , · 5 reviews'},\n",
       " {'url': 'https://www.airbnb.com/rooms/1138999185890900352?source_impression_id=p3_1753323294_P3FEWRvnVB0oy7zx',\n",
       "  'type': 'Rental unit',\n",
       "  'title': 'Cozy Flat near the city center, 1 Bedroom w/ A/C',\n",
       "  'rating_text': '4.84 out of 5 average rating 4.84 , · 90 reviews'},\n",
       " {'url': 'https://www.airbnb.com/rooms/1414517507728935918?source_impression_id=p3_1753323294_P3o92gGBmhOiGxyn',\n",
       "  'type': 'Rental unit',\n",
       "  'title': 'Mykonos Apartment, Air-Conditioned, Netflix, Small Pool',\n",
       "  'rating_text': '5.0 out of 5 average rating 5.0 , · 8 reviews'},\n",
       " {'url': 'https://www.airbnb.com/rooms/1168655512551259276?source_impression_id=p3_1753323294_P38UKggwJ5dcYPzQ',\n",
       "  'type': 'Rental unit',\n",
       "  'title': 'Cozy Flat near the city center, 2BR w/Netflix & AC',\n",
       "  'rating_text': '4.75 out of 5 average rating 4.75 , · 73 reviews'},\n",
       " {'url': 'https://www.airbnb.com/rooms/1370331468964838238?source_impression_id=p3_1753323294_P3jiR4jopU35F0Bj',\n",
       "  'type': 'Condo',\n",
       "  'title': '3 Bedroom Flat w/ Pool, Netflix and A/C',\n",
       "  'rating_text': '5.0 out of 5 average rating 5.0 , · 6 reviews'},\n",
       " {'url': 'https://www.airbnb.com/rooms/1362312529416292062?source_impression_id=p3_1753323294_P3RPjQiqBg_tFMpb',\n",
       "  'type': 'Condo',\n",
       "  'title': 'Cosy Appartment w/ Pool, A/C, Tennis',\n",
       "  'rating_text': '4.88 out of 5 average rating 4.88 , · 8 reviews'},\n",
       " {'url': 'https://www.airbnb.com/rooms/1238311445228997747?source_impression_id=p3_1753323294_P3rpYrBPTTS6N33Y',\n",
       "  'type': 'Rental unit',\n",
       "  'title': 'Cozy Flat near the city center, 2 Rooms w/ A/C',\n",
       "  'rating_text': '4.75 out of 5 average rating 4.75 , · 57 reviews'}]"
      ]
     },
     "execution_count": 10,
     "metadata": {},
     "output_type": "execute_result"
    }
   ],
   "source": [
    "listings"
   ]
  },
  {
   "cell_type": "markdown",
   "id": "4f704896",
   "metadata": {},
   "source": [
    "get_airbnb_profile_reviews"
   ]
  },
  {
   "cell_type": "code",
   "execution_count": 11,
   "id": "6a6ad690",
   "metadata": {},
   "outputs": [
    {
     "name": "stdout",
     "output_type": "stream",
     "text": [
      "--- [1] Connecting to Selenium Remote WebDriver ---\n",
      "\n",
      "--- [2] Navigating to URL: https://www.airbnb.com/users/show/532236013 ---\n",
      "SUCCESS: Page loaded.\n",
      "'Show all reviews' button not found or modal did not open. Scraping visible reviews.\n",
      "Found 0 review groups to process.\n",
      "Successfully extracted 0 reviews.\n"
     ]
    }
   ],
   "source": [
    "reviews = get_airbnb_profile_reviews(profile_url)"
   ]
  },
  {
   "cell_type": "code",
   "execution_count": 10,
   "id": "20c187b3",
   "metadata": {},
   "outputs": [
    {
     "data": {
      "text/plain": [
       "[{'reviewer_name': 'El Mehdi',\n",
       "  'reviewer_location': 'Tangier, Morocco',\n",
       "  'date': '3 days ago',\n",
       "  'rating': 'Rating 5 out of 5',\n",
       "  'text': 'Thank you very much Lou and Mohammed, I am really satisfied and I highly recommend it,',\n",
       "  'host_response': None},\n",
       " {'reviewer_name': 'Sofiane',\n",
       "  'reviewer_location': 'N/A',\n",
       "  'date': '1 week ago',\n",
       "  'rating': 'Rating 5 out of 5',\n",
       "  'text': 'Excellent',\n",
       "  'host_response': None},\n",
       " {'reviewer_name': 'Leila',\n",
       "  'reviewer_location': 'N/A',\n",
       "  'date': '1 week ago',\n",
       "  'rating': 'Rating 5 out of 5',\n",
       "  'text': \"I had a great vacation in the Noria estate, the apartment is beautiful, very functional, nothing is missing, the pool is very nice and above all it is not crowded with people. Lou was great, very responsive, and she is very attentive to these hosts, for my part I was very reassured. Mohamed the concierge, is very kind and very attentive, with him we lack nothing on site, the slightest need, or the slightest information, he is there. In any case, I would definitely stay at Lou's again. I highly recommend it.\",\n",
       "  'host_response': None},\n",
       " {'reviewer_name': 'Magid',\n",
       "  'reviewer_location': 'Argenteuil, France',\n",
       "  'date': '3 weeks ago',\n",
       "  'rating': 'Rating 5 out of 5',\n",
       "  'text': \"We had a great time at Lou's. The accommodation was as described, clean, comfortable and pleasant. Communication with Mohamed was smooth and enjoyable. We highly recommend this place and will be back with pleasure!\",\n",
       "  'host_response': None},\n",
       " {'reviewer_name': 'Abdel',\n",
       "  'reviewer_location': 'N/A',\n",
       "  'date': '3 weeks ago',\n",
       "  'rating': 'Rating 5 out of 5',\n",
       "  'text': 'Charming little apartment located in the Noria area, peaceful and secure place.  Everything was perfect and faithful to the listing. Good communication with the host.',\n",
       "  'host_response': None},\n",
       " {'reviewer_name': 'Sakila',\n",
       "  'reviewer_location': 'Galle, Sri Lanka',\n",
       "  'date': 'February 2025',\n",
       "  'rating': 'N/A',\n",
       "  'text': 'Hosting Simon and the group was a pleasure! They were respectful of the villa, leaving it clean and well-maintained. Communication was easy, and they followed all house rules, making the hosting experience smooth and enjoyable. I’d happily welcome them back anytime and highly recommend them to other hosts',\n",
       "  'host_response': None},\n",
       " {'reviewer_name': 'Ruben',\n",
       "  'reviewer_location': 'Dubai, United Arab Emirates',\n",
       "  'date': 'January 2023',\n",
       "  'rating': 'N/A',\n",
       "  'text': 'It was a pleasure to host Loubna in our apartment. She was very clean, tidy and respectful. She left the room perfectly neat and clean, and it was great chatting to her. It felt like family and hopefully we will keep in contact with her as she has great vibes and really positive attitude.',\n",
       "  'host_response': None}]"
      ]
     },
     "execution_count": 10,
     "metadata": {},
     "output_type": "execute_result"
    }
   ],
   "source": [
    "reviews"
   ]
  },
  {
   "cell_type": "markdown",
   "id": "ca419b5f",
   "metadata": {},
   "source": [
    "get_listing_details"
   ]
  },
  {
   "cell_type": "code",
   "execution_count": 13,
   "id": "d49e7396",
   "metadata": {},
   "outputs": [],
   "source": [
    "listing_url = \"https://www.airbnb.com/rooms/742635361588435382?check_in=2025-07-25&check_out=2025-07-27&photo_id=1771668200&source_impression_id=p3_1753321612_P3c3Rt254k8Ttijf&previous_page_section_name=1000\""
   ]
  },
  {
   "cell_type": "code",
   "execution_count": 14,
   "id": "ad3a3de9",
   "metadata": {},
   "outputs": [
    {
     "name": "stdout",
     "output_type": "stream",
     "text": [
      "--- [1] Connecting to Selenium Remote WebDriver ---\n",
      "--- [Step 2] Navigating to URL: https://www.airbnb.com/rooms/742635361588435382?check_in=2025-07-25&check_out=2025-07-27&photo_id=1771668200&source_impression_id=p3_1753321612_P3c3Rt254k8Ttijf&previous_page_section_name=1000 ---\n",
      "--- [Step 3] Waiting for key page content to load ---\n",
      "SUCCESS: Key content (H1) is visible.\n",
      "INFO: No pop-up modal found to close.\n",
      "--- [Step 4] Clicking price to reveal breakdown ---\n",
      "SUCCESS: Clicked the price breakdown button.\n",
      "SUCCESS: Price details modal is visible.\n",
      "--- [Step 5] Expanding location description (if available) ---\n",
      "SUCCESS: Clicked 'Show more' for location description.\n",
      "--- [Step 6] Scrolling to load all content ---\n",
      "--- [Step 7] Extracting fully rendered HTML ---\n",
      "\n",
      "--- [Step 8] Parsing HTML with BeautifulSoup ---\n",
      "SUCCESS: Apartment name found.\n",
      "SUCCESS: Listing summary found.\n",
      "SUCCESS: Rating and reviews count found.\n",
      "SUCCESS: Found 5 image URLs.\n",
      "SUCCESS: Description found.\n",
      "SUCCESS: Host info found.\n",
      "SUCCESS: Found 10 amenities.\n",
      "SUCCESS: Full location details found.\n"
     ]
    }
   ],
   "source": [
    "listing_details = get_listing_details(listing_url)"
   ]
  },
  {
   "cell_type": "code",
   "execution_count": 15,
   "id": "41bd0e11",
   "metadata": {},
   "outputs": [
    {
     "data": {
      "text/plain": [
       "{'apartment_name': 'Premium corniche apartment, parking',\n",
       " 'listing_summary': '4 guests · 1 bedroom · 1 bed · 1 bath',\n",
       " 'rating': '4.89',\n",
       " 'reviews_count': '93 reviews Rated 4.89 out of 5 from 93 reviews.',\n",
       " 'price_details': {'error': \"Could not parse price details - 'NoneType' object has no attribute 'get_text'\"},\n",
       " 'image_urls': ['https://a0.muscache.com/im/pictures/8c8668aa-94ab-44fc-9b89-604b94750924.jpg',\n",
       "  'https://a0.muscache.com/im/pictures/a6065bab-a924-4e35-80c8-82f903b264de.jpg',\n",
       "  'https://a0.muscache.com/im/pictures/7943613a-0dc2-4f9e-b0f9-33f60e6fbbee.jpg',\n",
       "  'https://a0.muscache.com/im/pictures/c049cc5b-4590-4573-9fcd-5dfcf6ab23d7.jpg',\n",
       "  'https://a0.muscache.com/im/pictures/7a2b39dc-8b16-4dce-bcd8-b718f0696f1e.jpg'],\n",
       " 'description': 'Enjoy elegant and central accommodation on Boulevard de la Corniche. My apartment is located in the best neighborhood of Casablanca on the new Promenade de la Corniche and close to the Grand Mosque Hassan 2. It is composed of a large living room , beautiful American kitchen, bedroom room, bathroom with shower and 2 terraces. A basement parking spot is offered for you to book.\\nThe space\\nThe apartment is 80m with a beautiful terrace of 12m where you can enjoy your coffee in the morning or your aperitif in the evening in the quiet of the residence. The living room is spacious and can accommodate 4 to 6 people, sofas are comfortable for 2 sleeping places.\\nThe kitchen is fully equipped in terms of appliances and dishes and overlooks the living room. A second small terrace is in front of the kitchen could serve you in case of barbecue.\\nThe bedroom overlooks the interior garden of the residence, furnished with a large queen size bed for 2 people, the built-in closet is bulky and has several types of storage.\\nThe bathroom is spacious fully marbled with Italian shower, toilet and bidet, a hair dryer as well as hygiene products and towels. Everything has been put at your disposal for more comfort: summer and winter duvets, sheets, covers, pillows and cases.\\nGuest access\\nOnce in the apartment, you have access to all the spaces, enjoy the comfort.',\n",
       " 'host_info': {'name': 'Nadia',\n",
       "  'details': 'Superhost | 3 years hosting',\n",
       "  'profile_url': 'https://www.airbnb.com/users/show/298782794'},\n",
       " 'amenities': ['Garden view',\n",
       "  'Beach access – Beachfront',\n",
       "  'Kitchen',\n",
       "  'Wifi',\n",
       "  'Dedicated workspace',\n",
       "  'Free parking on premises',\n",
       "  '55 inch HDTV with Netflix',\n",
       "  'Elevator',\n",
       "  'Free washer – In unit',\n",
       "  'Unavailable: Carbon monoxide alarm'],\n",
       " 'location_details': {'address': 'Casablanca, Casablanca-Settat, Morocco',\n",
       "  'neighborhood_description': 'Casablanca, Casablanca-Settat, Morocco\\nCentral area on Boulevard de la Corniche, several shops, restaurants and amenities in the vicinity.'}}"
      ]
     },
     "execution_count": 15,
     "metadata": {},
     "output_type": "execute_result"
    }
   ],
   "source": [
    "listing_details"
   ]
  },
  {
   "cell_type": "code",
   "execution_count": null,
   "id": "b0aa034b",
   "metadata": {},
   "outputs": [],
   "source": []
  }
 ],
 "metadata": {
  "kernelspec": {
   "display_name": "agent-env",
   "language": "python",
   "name": "python3"
  },
  "language_info": {
   "codemirror_mode": {
    "name": "ipython",
    "version": 3
   },
   "file_extension": ".py",
   "mimetype": "text/x-python",
   "name": "python",
   "nbconvert_exporter": "python",
   "pygments_lexer": "ipython3",
   "version": "3.11.5"
  }
 },
 "nbformat": 4,
 "nbformat_minor": 5
}
