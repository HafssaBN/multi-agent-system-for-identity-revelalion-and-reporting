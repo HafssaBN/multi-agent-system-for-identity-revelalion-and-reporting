{
 "cells": [
  {
   "cell_type": "code",
   "execution_count": 1,
   "id": "97e374c6",
   "metadata": {},
   "outputs": [
    {
     "name": "stderr",
     "output_type": "stream",
     "text": [
      "python-dotenv could not parse statement starting at line 8\n",
      "python-dotenv could not parse statement starting at line 13\n"
     ]
    },
    {
     "name": "stdout",
     "output_type": "stream",
     "text": [
      "Profile exists?: True\n",
      "Reviews sample: 5\n",
      "Any listing row?: True\n",
      "Pictures count: 27\n"
     ]
    }
   ],
   "source": [
    "from multi_agents.database.airbnb_db import AirbnbDB\n",
    "from multi_agents.constants.constants import Constants\n",
    "\n",
    "db = AirbnbDB(Constants.CONFIG_DB_FILE)\n",
    "print(\"Profile exists?:\", db.host_by_id(\"532803978\") is not None)\n",
    "print(\"Reviews sample:\", len(db.host_reviews(\"532803978\", 5)))\n",
    "print(\"Any listing row?:\", db.listing(\"1464489937221305511\") is not None)\n",
    "print(\"Pictures count:\", len(db.listing_pictures(\"1464489937221305511\")))\n"
   ]
  },
  {
   "cell_type": "code",
   "execution_count": 2,
   "id": "66421cf2",
   "metadata": {},
   "outputs": [
    {
     "name": "stdout",
     "output_type": "stream",
     "text": [
      "DB path actually used: C:\\Users\\hafss\\OneDrive\\Desktop\\airbnbscrapper\\airbnb_host\\database\\Airbnb.db exists? True\n",
      "Tables:\n",
      " - host_guidebooks\n",
      " - host_listings\n",
      " - host_reviews\n",
      " - host_tracking\n",
      " - host_travels\n",
      " - listing_pictures\n",
      " - listing_tracking\n",
      " - sqlite_sequence\n",
      "host_tracking rows for 698886341 => 1\n",
      "host_reviews table exists? => True\n"
     ]
    }
   ],
   "source": [
    "import sqlite3, os\n",
    "from multi_agents.constants.constants import Constants\n",
    "\n",
    "p = Constants.CONFIG_DB_FILE\n",
    "print(\"DB path actually used:\", p, \"exists?\", os.path.exists(p))\n",
    "\n",
    "con = sqlite3.connect(p)\n",
    "cur = con.cursor()\n",
    "\n",
    "print(\"Tables:\")\n",
    "for (name,) in cur.execute(\"SELECT name FROM sqlite_master WHERE type='table' ORDER BY name\"):\n",
    "    print(\" -\", name)\n",
    "\n",
    "uid = \"698886341\"\n",
    "print(\"host_tracking rows for\", uid, \"=>\",\n",
    "      cur.execute(\"SELECT COUNT(*) FROM host_tracking WHERE userId=?\", (uid,)).fetchone()[0])\n",
    "\n",
    "print(\"host_reviews table exists? =>\",\n",
    "      cur.execute(\"SELECT COUNT(*) FROM sqlite_master WHERE type='table' AND name='host_reviews'\").fetchone()[0] == 1)\n"
   ]
  },
  {
   "cell_type": "code",
   "execution_count": 3,
   "id": "0083ab8d",
   "metadata": {},
   "outputs": [
    {
     "name": "stderr",
     "output_type": "stream",
     "text": [
      "INFO:faiss.loader:Loading faiss with AVX2 support.\n",
      "INFO:faiss.loader:Successfully loaded faiss with AVX2 support.\n",
      "INFO:sentence_transformers.SentenceTransformer:Use pytorch device_name: cpu\n",
      "INFO:sentence_transformers.SentenceTransformer:Load pretrained SentenceTransformer: sentence-transformers/all-MiniLM-L6-v2\n",
      "WARNING:dotenv.main:python-dotenv could not parse statement starting at line 8\n",
      "WARNING:dotenv.main:python-dotenv could not parse statement starting at line 13\n",
      "WARNING:dotenv.main:python-dotenv could not parse statement starting at line 8\n",
      "WARNING:dotenv.main:python-dotenv could not parse statement starting at line 13\n"
     ]
    },
    {
     "name": "stdout",
     "output_type": "stream",
     "text": [
      "DB path: C:\\Users\\hafss\\OneDrive\\Desktop\\airbnbscrapper\\airbnb_host\\database\\Airbnb.db\n",
      "Worker tools: ['get_airbnb_profile_details', 'get_airbnb_profile_places_visited', 'get_airbnb_profile_listings', 'get_airbnb_profile_reviews', 'get_listing_details']\n"
     ]
    }
   ],
   "source": [
    "from multi_agents.agents.workers import AirbnbAnalyzer\n",
    "from multi_agents.constants.constants import Constants\n",
    "\n",
    "w = AirbnbAnalyzer()\n",
    "\n",
    "# 1) Confirm the DB path the worker will use\n",
    "print(\"DB path:\", Constants.CONFIG_DB_FILE)\n",
    "\n",
    "# 2) Confirm the only tools available to this agent are DB readers\n",
    "print(\"Worker tools:\", [t.name for t in w.tools])\n",
    "# -> expect:\n",
    "# ['get_airbnb_profile_details', 'get_airbnb_profile_places_visited',\n",
    "#  'get_airbnb_profile_listings', 'get_airbnb_profile_reviews', 'get_listing_details']\n"
   ]
  },
  {
   "cell_type": "code",
   "execution_count": 4,
   "id": "e0c298c5",
   "metadata": {},
   "outputs": [
    {
     "name": "stdout",
     "output_type": "stream",
     "text": [
      "get_airbnb_profile_details -> multi_agents.agents.workers.AirbnbAnalyzer._tool_get_airbnb_profile_details\n",
      "get_airbnb_profile_places_visited -> multi_agents.agents.workers.AirbnbAnalyzer._tool_get_airbnb_profile_places_visited\n",
      "get_airbnb_profile_listings -> multi_agents.agents.workers.AirbnbAnalyzer._tool_get_airbnb_profile_listings\n",
      "get_airbnb_profile_reviews -> multi_agents.agents.workers.AirbnbAnalyzer._tool_get_airbnb_profile_reviews\n",
      "get_listing_details -> multi_agents.agents.workers.AirbnbAnalyzer._tool_get_listing_details\n"
     ]
    }
   ],
   "source": [
    "from multi_agents.agents.workers import AirbnbAnalyzer\n",
    "a = AirbnbAnalyzer()\n",
    "\n",
    "for t in a.tools:\n",
    "    f = t.func\n",
    "    src = getattr(f, \"__qualname__\", str(f))\n",
    "    mod = getattr(f, \"__module__\", \"\")\n",
    "    print(f\"{t.name} -> {mod}.{src}\")\n"
   ]
  },
  {
   "cell_type": "code",
   "execution_count": null,
   "id": "06a4f0fc",
   "metadata": {},
   "outputs": [],
   "source": []
  }
 ],
 "metadata": {
  "kernelspec": {
   "display_name": "venv",
   "language": "python",
   "name": "python3"
  },
  "language_info": {
   "codemirror_mode": {
    "name": "ipython",
    "version": 3
   },
   "file_extension": ".py",
   "mimetype": "text/x-python",
   "name": "python",
   "nbconvert_exporter": "python",
   "pygments_lexer": "ipython3",
   "version": "3.11.5"
  }
 },
 "nbformat": 4,
 "nbformat_minor": 5
}
