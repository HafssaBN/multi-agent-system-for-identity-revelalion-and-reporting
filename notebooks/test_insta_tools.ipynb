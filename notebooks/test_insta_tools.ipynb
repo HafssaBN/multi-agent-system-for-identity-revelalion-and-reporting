{
 "cells": [
  {
   "cell_type": "code",
   "execution_count": 1,
   "id": "c962061a",
   "metadata": {},
   "outputs": [],
   "source": [
    "from multi_agents.tools.insta_tools import *"
   ]
  },
  {
   "cell_type": "markdown",
   "id": "34acf69b",
   "metadata": {},
   "source": [
    "get_user_id"
   ]
  },
  {
   "cell_type": "code",
   "execution_count": null,
   "id": "b9fcf915",
   "metadata": {},
   "outputs": [
    {
     "data": {
      "text/plain": [
       "'3271951350'"
      ]
     },
     "execution_count": 2,
     "metadata": {},
     "output_type": "execute_result"
    }
   ],
   "source": [
    "target_username = \"saraabujad\"  # Change username here\n",
    "profile_id = get_instagram_user_id(target_username)\n",
    "profile_id"
   ]
  },
  {
   "cell_type": "markdown",
   "id": "0df055fa",
   "metadata": {},
   "source": [
    "get_following"
   ]
  },
  {
   "cell_type": "code",
   "execution_count": null,
   "id": "b5da5ed2",
   "metadata": {},
   "outputs": [
    {
     "name": "stdout",
     "output_type": "stream",
     "text": [
      "Fetched 49 following so far...\n",
      "Fetched 98 following so far...\n",
      "Fetched 100 following so far...\n"
     ]
    }
   ],
   "source": [
    "following_list = get_instagram_user_following(profile_id)\n"
   ]
  },
  {
   "cell_type": "code",
   "execution_count": 4,
   "id": "eda9fc1f",
   "metadata": {},
   "outputs": [
    {
     "name": "stdout",
     "output_type": "stream",
     "text": [
      "Total following fetched: 100\n",
      "[{'id': '39914875436', 'username': 'hafssa_karbane', 'full_name': 'Hafssa karbane', 'profile_pic_url': 'https://instagram.frba2-1.fna.fbcdn.net/v/t51.2885-19/516248840_18064135958331437_2803562464409073692_n.jpg?stp=dst-jpg_s150x150_tt6&efg=eyJ2ZW5jb2RlX3RhZyI6InByb2ZpbGVfcGljLmRqYW5nby4xMDgwLmMyIn0&_nc_ht=instagram.frba2-1.fna.fbcdn.net&_nc_cat=1&_nc_oc=Q6cZ2QGNzDO8ePhdSpWZToHi1uBKx0z33qnkaoztK2AoFEZ-T9xXhPkmtJGayBNosw879XQ&_nc_ohc=lxv0a1CKQ7IQ7kNvwFolGCT&_nc_gid=pGgJqqVuE73s4pQDV5UplQ&edm=ANg5bX4BAAAA&ccb=7-5&oh=00_AfTfHRDccuscxV076Si0Yq0I7DF0gQfRSZdgK_J4mLggcg&oe=68874782&_nc_sid=0055be', 'is_private': False}, {'id': '7337166959', 'username': 'park.kooki_', 'full_name': 'Kooki', 'profile_pic_url': 'https://instagram.frba2-1.fna.fbcdn.net/v/t51.2885-19/472544808_625659370025425_6064689788580092822_n.jpg?stp=dst-jpg_s150x150_tt6&efg=eyJ2ZW5jb2RlX3RhZyI6InByb2ZpbGVfcGljLmRqYW5nby4xMDgwLmMyIn0&_nc_ht=instagram.frba2-1.fna.fbcdn.net&_nc_cat=1&_nc_oc=Q6cZ2QGNzDO8ePhdSpWZToHi1uBKx0z33qnkaoztK2AoFEZ-T9xXhPkmtJGayBNosw879XQ&_nc_ohc=IpLxZ-RVWhsQ7kNvwGuAwI5&_nc_gid=pGgJqqVuE73s4pQDV5UplQ&edm=ANg5bX4BAAAA&ccb=7-5&oh=00_AfT3L2QyFf_C7zHmtuz_HyxFkzhpmYEJG8ujkZ4C87hsGw&oe=68875537&_nc_sid=0055be', 'is_private': False}, {'id': '56568883089', 'username': 'scoop_with_algerie', 'full_name': 'SCOOP WITH ALGERIE 🇩🇿', 'profile_pic_url': 'https://instagram.frba2-1.fna.fbcdn.net/v/t51.2885-19/470472126_1687794628466380_6813162532208940078_n.jpg?stp=dst-jpg_s150x150_tt6&efg=eyJ2ZW5jb2RlX3RhZyI6InByb2ZpbGVfcGljLmRqYW5nby4xMDgwLmMyIn0&_nc_ht=instagram.frba2-1.fna.fbcdn.net&_nc_cat=1&_nc_oc=Q6cZ2QGNzDO8ePhdSpWZToHi1uBKx0z33qnkaoztK2AoFEZ-T9xXhPkmtJGayBNosw879XQ&_nc_ohc=8723fJJVsi0Q7kNvwFGksOv&_nc_gid=pGgJqqVuE73s4pQDV5UplQ&edm=ANg5bX4BAAAA&ccb=7-5&oh=00_AfTJS3tdZqVfCc0qG9CUhpDzxWeov4150QUzUAfDiog_tw&oe=68874A07&_nc_sid=0055be', 'is_private': False}, {'id': '74559539549', 'username': 'lokmane9689', 'full_name': 'Lokmane', 'profile_pic_url': 'https://instagram.frba3-2.fna.fbcdn.net/v/t51.2885-19/522888109_17853464775483550_4321786101713891479_n.jpg?stp=dst-jpg_s150x150_tt6&efg=eyJ2ZW5jb2RlX3RhZyI6InByb2ZpbGVfcGljLmRqYW5nby4xMDgwLmMyIn0&_nc_ht=instagram.frba3-2.fna.fbcdn.net&_nc_cat=110&_nc_oc=Q6cZ2QGNzDO8ePhdSpWZToHi1uBKx0z33qnkaoztK2AoFEZ-T9xXhPkmtJGayBNosw879XQ&_nc_ohc=l-Rx2mZS-xYQ7kNvwE-tdTs&_nc_gid=pGgJqqVuE73s4pQDV5UplQ&edm=ANg5bX4BAAAA&ccb=7-5&oh=00_AfRAAsvm6Q9qlFYOiV1Ai9mLaqpqfqT36DDzSRz9-jcQ3A&oe=688746A1&_nc_sid=0055be', 'is_private': True}, {'id': '679591672', 'username': 'hatimammor', 'full_name': 'HATIM AMMOR | حاتم عمور', 'profile_pic_url': 'https://instagram.frba2-1.fna.fbcdn.net/v/t51.2885-19/519487139_18512883997039673_2921628882484771391_n.jpg?stp=dst-jpg_s150x150_tt6&efg=eyJ2ZW5jb2RlX3RhZyI6InByb2ZpbGVfcGljLmRqYW5nby44NTguYzIifQ&_nc_ht=instagram.frba2-1.fna.fbcdn.net&_nc_cat=1&_nc_oc=Q6cZ2QGNzDO8ePhdSpWZToHi1uBKx0z33qnkaoztK2AoFEZ-T9xXhPkmtJGayBNosw879XQ&_nc_ohc=xX_dz2Nw8kAQ7kNvwFVtaDP&_nc_gid=pGgJqqVuE73s4pQDV5UplQ&edm=ANg5bX4BAAAA&ccb=7-5&oh=00_AfScqdMbOiqSeixyL_NOsXyHtfEUd97wV1-pT2vBOFTk4A&oe=68875C16&_nc_sid=0055be', 'is_private': False}]\n"
     ]
    }
   ],
   "source": [
    "print(f\"Total following fetched: {len(following_list)}\")\n",
    "print(following_list[:5])  # print first 5"
   ]
  },
  {
   "cell_type": "markdown",
   "id": "5dbd48a6",
   "metadata": {},
   "source": [
    "get_followers"
   ]
  },
  {
   "cell_type": "code",
   "execution_count": null,
   "id": "3ac5fc69",
   "metadata": {},
   "outputs": [
    {
     "name": "stdout",
     "output_type": "stream",
     "text": [
      "Fetched 50 followers so far...\n",
      "Fetched 98 followers so far...\n",
      "Fetched 100 followers so far...\n"
     ]
    }
   ],
   "source": [
    "followers_list = get_instagram_user_followers(profile_id)\n"
   ]
  },
  {
   "cell_type": "code",
   "execution_count": 6,
   "id": "ca030020",
   "metadata": {},
   "outputs": [
    {
     "name": "stdout",
     "output_type": "stream",
     "text": [
      "Total following fetched: 100\n",
      "[{'id': '76120869150', 'username': 'youssef1239051', 'full_name': 'Youssef123', 'profile_pic_url': 'https://instagram.famm3-1.fna.fbcdn.net/v/t51.2885-19/464760996_1254146839119862_3605321457742435801_n.png?stp=dst-jpg_e0_s150x150_tt6&cb=8577c754-c2464923&efg=eyJ2ZW5jb2RlX3RhZyI6InByb2ZpbGVfcGljLmRqYW5nby4xNTAuYzIifQ&_nc_ht=instagram.famm3-1.fna.fbcdn.net&_nc_cat=1&_nc_oc=Q6cZ2QELzg5K_kI8t32wfocsIy88y2gKDH_OQA_MBGwiNVam51thn-YOx-8K-70dL9kXNJE&_nc_ohc=Hp9Io9BAMJwQ7kNvwH9oERM&_nc_gid=UgM04hWdVbbTqdQ9UUTSqA&edm=AP7HCqgBAAAA&ccb=7-5&ig_cache_key=YW5vbnltb3VzX3Byb2ZpbGVfcGlj.3-ccb7-5-cb8577c754-c2464923&oh=00_AfSEh-g1ikCd7SYwIG9xuWT8vOfV1ZLmIvwDz7q_c3LoeA&oe=68875968&_nc_sid=b09b61', 'is_private': False}, {'id': '75796973744', 'username': 'najathamzi9', 'full_name': 'Najat 🤍', 'profile_pic_url': 'https://instagram.famm3-1.fna.fbcdn.net/v/t51.2885-19/464760996_1254146839119862_3605321457742435801_n.png?stp=dst-jpg_e0_s150x150_tt6&cb=8577c754-c2464923&efg=eyJ2ZW5jb2RlX3RhZyI6InByb2ZpbGVfcGljLmRqYW5nby4xNTAuYzIifQ&_nc_ht=instagram.famm3-1.fna.fbcdn.net&_nc_cat=1&_nc_oc=Q6cZ2QELzg5K_kI8t32wfocsIy88y2gKDH_OQA_MBGwiNVam51thn-YOx-8K-70dL9kXNJE&_nc_ohc=Hp9Io9BAMJwQ7kNvwH9oERM&_nc_gid=UgM04hWdVbbTqdQ9UUTSqA&edm=AP7HCqgBAAAA&ccb=7-5&ig_cache_key=YW5vbnltb3VzX3Byb2ZpbGVfcGlj.3-ccb7-5-cb8577c754-c2464923&oh=00_AfSEh-g1ikCd7SYwIG9xuWT8vOfV1ZLmIvwDz7q_c3LoeA&oe=68875968&_nc_sid=b09b61', 'is_private': True}, {'id': '76350688090', 'username': 'maryam_toufip__', 'full_name': 'زهرة الفردوس 🌺', 'profile_pic_url': 'https://scontent-lis1-1.cdninstagram.com/v/t51.2885-19/522655273_17842395846544091_6164093020108571496_n.jpg?stp=dst-jpg_s150x150_tt6&efg=eyJ2ZW5jb2RlX3RhZyI6InByb2ZpbGVfcGljLmRqYW5nby4xMDgwLmMyIn0&_nc_ht=scontent-lis1-1.cdninstagram.com&_nc_cat=111&_nc_oc=Q6cZ2QHBl-A4f73PFgQy0KJhZF0-OnIJjwPax6BvbSU8-zheYnrv46aSUWnbIMdQQYSdtpI&_nc_ohc=dj7E7oF7z3sQ7kNvwHZkH3x&_nc_gid=yd-GIsh-BDfhRLjCK92E9g&edm=AOG-cTkBAAAA&ccb=7-5&oh=00_AfQjjQkhyhWXOq8XPgIFkc0--5aSkP6treOb24XMpwQMWA&oe=68874E5C&_nc_sid=17ea04', 'is_private': True}, {'id': '76135085387', 'username': 'omjanat724', 'full_name': 'omjanat', 'profile_pic_url': 'https://instagram.famm3-1.fna.fbcdn.net/v/t51.2885-19/464760996_1254146839119862_3605321457742435801_n.png?stp=dst-jpg_e0_s150x150_tt6&cb=8577c754-c2464923&efg=eyJ2ZW5jb2RlX3RhZyI6InByb2ZpbGVfcGljLmRqYW5nby4xNTAuYzIifQ&_nc_ht=instagram.famm3-1.fna.fbcdn.net&_nc_cat=1&_nc_oc=Q6cZ2QELzg5K_kI8t32wfocsIy88y2gKDH_OQA_MBGwiNVam51thn-YOx-8K-70dL9kXNJE&_nc_ohc=Hp9Io9BAMJwQ7kNvwH9oERM&_nc_gid=UgM04hWdVbbTqdQ9UUTSqA&edm=AP7HCqgBAAAA&ccb=7-5&ig_cache_key=YW5vbnltb3VzX3Byb2ZpbGVfcGlj.3-ccb7-5-cb8577c754-c2464923&oh=00_AfSEh-g1ikCd7SYwIG9xuWT8vOfV1ZLmIvwDz7q_c3LoeA&oe=68875968&_nc_sid=b09b61', 'is_private': False}, {'id': '76002707196', 'username': 'wiemdrif', 'full_name': 'wiemDRif', 'profile_pic_url': 'https://scontent-lis1-1.cdninstagram.com/v/t51.2885-19/522603942_17846809407531197_4030034942797344985_n.jpg?stp=dst-jpg_s150x150_tt6&efg=eyJ2ZW5jb2RlX3RhZyI6InByb2ZpbGVfcGljLmRqYW5nby4xMDgwLmMyIn0&_nc_ht=scontent-lis1-1.cdninstagram.com&_nc_cat=105&_nc_oc=Q6cZ2QHBl-A4f73PFgQy0KJhZF0-OnIJjwPax6BvbSU8-zheYnrv46aSUWnbIMdQQYSdtpI&_nc_ohc=768CWvmn1p8Q7kNvwGNyd-S&_nc_gid=yd-GIsh-BDfhRLjCK92E9g&edm=AOG-cTkBAAAA&ccb=7-5&oh=00_AfRuBWmqmYtMBMYrlYvJ3KOO07YKcu1wcJmYKnL9gQGVBw&oe=688752B8&_nc_sid=17ea04', 'is_private': False}]\n"
     ]
    }
   ],
   "source": [
    "print(f\"Total following fetched: {len(followers_list)}\")\n",
    "print(followers_list[:5])  # print first 5"
   ]
  },
  {
   "cell_type": "markdown",
   "id": "bd9ab997",
   "metadata": {},
   "source": [
    "get_user_info"
   ]
  },
  {
   "cell_type": "code",
   "execution_count": null,
   "id": "049d1b3c",
   "metadata": {},
   "outputs": [
    {
     "name": "stdout",
     "output_type": "stream",
     "text": [
      "[*] Fetching all info for 'saraabujad' from API: https://www.instagram.com/api/v1/users/web_profile_info/?username=saraabujad\n"
     ]
    }
   ],
   "source": [
    "user_info = get_instagram_user_info(target_username)"
   ]
  },
  {
   "cell_type": "code",
   "execution_count": 8,
   "id": "215242e8",
   "metadata": {},
   "outputs": [
    {
     "data": {
      "text/plain": [
       "{'user_id': '3271951350',\n",
       " 'full_name': 'سارة',\n",
       " 'description': 'Good vibes only🔥\\nFounder of @saraabujad_beauty_center \\n📩 sa.abujad@gmail.com\\n+212\\xa0661‑268970',\n",
       " 'followers': 5231283,\n",
       " 'following': 589,\n",
       " 'post_count': 352,\n",
       " 'is_private': False,\n",
       " 'is_verified': True,\n",
       " 'profile_pic_url': 'https://scontent-bcn1-1.cdninstagram.com/v/t51.2885-19/347408628_658516486288261_243567067745539048_n.jpg?stp=dst-jpg_s320x320_tt6&efg=eyJ2ZW5jb2RlX3RhZyI6InByb2ZpbGVfcGljLmRqYW5nby4xMDgwLmMyIn0&_nc_ht=scontent-bcn1-1.cdninstagram.com&_nc_cat=1&_nc_oc=Q6cZ2QEuGlY_kbLh8ffO15fVLGjY2_ymkK771-HBVKjzz7gx3k8cWcMZ7DQBcmdb2gp6ABg&_nc_ohc=ZcJT4kTljRUQ7kNvwE59QwS&_nc_gid=pJ422g3AQydNEN8B4nRogg&edm=AOQ1c0wBAAAA&ccb=7-5&oh=00_AfRJbJe2k0EVNrBJ-xl_5QtyOuiwmTPS3D-4ajSifa805Q&oe=68874DCE&_nc_sid=8b3546',\n",
       " 'external_url': 'http://www.youtube.com/saraabujad'}"
      ]
     },
     "execution_count": 8,
     "metadata": {},
     "output_type": "execute_result"
    }
   ],
   "source": [
    "user_info"
   ]
  },
  {
   "cell_type": "markdown",
   "id": "6b275c13",
   "metadata": {},
   "source": [
    "get_user_posts"
   ]
  },
  {
   "cell_type": "code",
   "execution_count": null,
   "id": "c3959194",
   "metadata": {},
   "outputs": [
    {
     "name": "stdout",
     "output_type": "stream",
     "text": [
      "\n",
      "[*] Preparing to fetch posts for user_id: 3271951350\n",
      "[*] Scraping posts: Current count: 0...\n",
      "[*] Reached limit of 5 for posts.\n"
     ]
    }
   ],
   "source": [
    "\n",
    "\n",
    "user_id = user_info[\"user_id\"]\n",
    "\n",
    "\n",
    "# Scrape other data points if enabled\n",
    "posts = get_instagram_user_posts(user_id, limit=5)"
   ]
  },
  {
   "cell_type": "code",
   "execution_count": 10,
   "id": "7e6ddc30",
   "metadata": {},
   "outputs": [
    {
     "data": {
      "text/plain": [
       "[{'id': '3683230471836572107_3271951350',\n",
       "  'shortcode': 'DMddpl7tpnL',\n",
       "  'timestamp': 1753295733,\n",
       "  'like_count': 3601,\n",
       "  'comment_count': 81,\n",
       "  'caption': '\\u2068\\tجبنا ليهم الساحر باش يبهرهم صدقو هما لي باهرينو 😂\\nتفرجو حتى للأخير باش تقدرو تربحو 😉\\nكيف جاوكم قصي ونيڤين؟\\n@jus.marrakech \\n\\n#VitakidsFiesta #jusmarrakech #3alamAlAhlam #3asirAlAhlam\\u2069',\n",
       "  'media_type': 2,\n",
       "  'image_url': 'https://scontent.cdninstagram.com/v/t51.82787-15/522667786_18415341391111351_1870933920379359838_n.jpg?stp=dst-jpg_e15_tt6&_nc_cat=1&ig_cache_key=MzY4MzIzMDQ3MTgzNjU3MjEwNw%3D%3D.3-ccb1-7&ccb=1-7&_nc_sid=58cdad&efg=eyJ2ZW5jb2RlX3RhZyI6InhwaWRzLjcyMHgxMjgwLnNkciJ9&_nc_ohc=szEO0GEQ8O8Q7kNvwE0ePsk&_nc_oc=AdmIqFVEm17cvlbwzoA9KdLSOxyqw5dkw1phYvw1sy5IwLiFZiK0HXQ84zEz5S08eqY&_nc_ad=z-m&_nc_cid=0&_nc_zt=23&_nc_ht=scontent.cdninstagram.com&_nc_gid=WG48Kc3nBgQZyo23Oh7dtw&oh=00_AfQlpgsI_SxIZoHKGK69gfO8kpPtBtXtCMhDWRVut4kBGg&oe=68874975',\n",
       "  'video_url': 'https://instagram.frba3-2.fna.fbcdn.net/o1/v/t2/f2/m86/AQO1l2qgdN0upY3QqhZEF8FGHeHozlJ1yFmzyVC9D6ApSHHS8MzzM2JPdHBtSJbWCE_-7Gr__FMbdHAS7C358QvhxZLFdrDk8fQPY6g.mp4?_nc_cat=109&_nc_oc=Adm87RUkVbfERVR4QjUr5OIY_Nqo4Ldak3OtuY4Tm_beYG6QTBY2HeI4REXGkcqZkwg&_nc_sid=5e9851&_nc_ht=instagram.frba3-2.fna.fbcdn.net&_nc_ohc=kuk8AZ40xY8Q7kNvwEueGcG&efg=eyJ2ZW5jb2RlX3RhZyI6Inhwdl9wcm9ncmVzc2l2ZS5JTlNUQUdSQU0uQ0xJUFMuQzMuNzIwLmRhc2hfYmFzZWxpbmVfMV92MSIsInhwdl9hc3NldF9pZCI6NjE3MDYyNjI4MTA0MDQ5LCJ2aV91c2VjYXNlX2lkIjoxMDA5OSwiZHVyYXRpb25fcyI6OTEsInVybGdlbl9zb3VyY2UiOiJ3d3cifQ%3D%3D&ccb=17-1&vs=49b523b3e4e32468&_nc_vs=HBksFQIYUmlnX3hwdl9yZWVsc19wZXJtYW5lbnRfc3JfcHJvZC83RjQ5MDIxMTVEQjBGNzI3RjRERDlCQThFNTFGQjdCQ192aWRlb19kYXNoaW5pdC5tcDQVAALIARIAFQIYOnBhc3N0aHJvdWdoX2V2ZXJzdG9yZS9HSkQ2S3g4TWRINEl2a3NGQU9VSlJPR2stQ0YwYnFfRUFBQUYVAgLIARIAKAAYABsCiAd1c2Vfb2lsATEScHJvZ3Jlc3NpdmVfcmVjaXBlATEVAAAm4t2E7OLNmAIVAigCQzMsF0BW2ZmZmZmaGBJkYXNoX2Jhc2VsaW5lXzFfdjERAHX-B2XmnQEA&_nc_zt=28&oh=00_AfRB5iEkRq0fm90N21_TmVbqB2iRKUFv-WK3d6bjBQZCGg&oe=68835BE6'},\n",
       " {'id': '3654977181501113859_3271951350',\n",
       "  'shortcode': 'DK5FmG1iEYD',\n",
       "  'timestamp': 1749927605,\n",
       "  'like_count': 214182,\n",
       "  'comment_count': 4402,\n",
       "  'caption': 'شحااال وأنا كنتسناها تكبر باش ندير هاد التشالنج معاها 🥹\\nالصراحة كنت كنتسناها متعبرنيش 🫢 ساعة قصي الله يخلف عليه كان لاعب ماتش أهم مني 😂\\nشفتووو البنات الحنينااااات ولا ماشفتوش 😍\\nتبارك الله ما شاءالله ❤️',\n",
       "  'media_type': 2,\n",
       "  'image_url': 'https://scontent.cdninstagram.com/v/t51.75761-15/503802036_18409975363111351_969023116089534216_n.jpg?stp=dst-jpg_e15_tt6&_nc_cat=101&ig_cache_key=MzY1NDk3NzE4MTUwMTExMzg1OQ%3D%3D.3-ccb1-7&ccb=1-7&_nc_sid=58cdad&efg=eyJ2ZW5jb2RlX3RhZyI6InhwaWRzLjcyMHgxMjgwLnNkciJ9&_nc_ohc=IZ9w4y6i1ysQ7kNvwFB5Nxh&_nc_oc=AdnO2CzvgbCyIAOoS5NULbxlfJMoB_mpAdZGhkhIwHYlV6shKdfKlJdqF-AWzGHDLXQ&_nc_ad=z-m&_nc_cid=0&_nc_zt=23&_nc_ht=scontent.cdninstagram.com&_nc_gid=WG48Kc3nBgQZyo23Oh7dtw&oh=00_AfQjGzby3B-vhYoY15IBtS9OmpkH64xiJTgmmMBG3qBToQ&oe=688756A7',\n",
       "  'video_url': 'https://instagram.frba2-1.fna.fbcdn.net/o1/v/t2/f2/m86/AQO7MCrxvSqcxsqKxhwJpN-AvNNOoR-LRmeZLuqQPZbTyfDIyGYGD-zs5y5FQ5xz0NHy6kyAn_7LhkiuGO7b28FTUgL-pMFWlNgzNr0.mp4?_nc_cat=102&_nc_oc=Adn_ueQJyPDBudoy8gsTtBlDvU5qHF26uQnMuB2F20CItyo40G2GWsWSylyQfzoSRRQ&_nc_sid=5e9851&_nc_ht=instagram.frba2-1.fna.fbcdn.net&_nc_ohc=IVvSGmcaF3oQ7kNvwHeT-3C&efg=eyJ2ZW5jb2RlX3RhZyI6Inhwdl9wcm9ncmVzc2l2ZS5JTlNUQUdSQU0uQ0xJUFMuQzMuNzIwLmRhc2hfYmFzZWxpbmVfMV92MSIsInhwdl9hc3NldF9pZCI6MTA3OTAwMzQ3MDgzNzcyMiwidmlfdXNlY2FzZV9pZCI6MTAwOTksImR1cmF0aW9uX3MiOjM3LCJ1cmxnZW5fc291cmNlIjoid3d3In0%3D&ccb=17-1&vs=5d5bf479f7fd31d5&_nc_vs=HBksFQIYUmlnX3hwdl9yZWVsc19wZXJtYW5lbnRfc3JfcHJvZC9DMTQ1MUYxRkMwNkNDOTkyOUI0RTcwRTBDMTkzMDI4Q192aWRlb19kYXNoaW5pdC5tcDQVAALIARIAFQIYOnBhc3N0aHJvdWdoX2V2ZXJzdG9yZS9HUE1YUng2VUh2NkliZThFQUVhUm0zYW41QndrYnFfRUFBQUYVAgLIARIAKAAYABsCiAd1c2Vfb2lsATEScHJvZ3Jlc3NpdmVfcmVjaXBlATEVAAAmtN-5qaLW6gMVAigCQzMsF0BC5mZmZmZmGBJkYXNoX2Jhc2VsaW5lXzFfdjERAHX-B2XmnQEA&_nc_zt=28&oh=00_AfQSaroBgQiEWrGIBte75ME_YQ-VLdBTd_OAHoysBLosSQ&oe=68833DBF'},\n",
       " {'id': '3090365811680286508_3271951350',\n",
       "  'shortcode': 'CrjL1UPNxcs',\n",
       "  'timestamp': 1682620880,\n",
       "  'like_count': 112890,\n",
       "  'comment_count': 1994,\n",
       "  'caption': 'مرحبا بيكم عندي نهار السبت مع الثالثة ونص أجيو تفرحو معايا بإفتتاح مشروعي إن شاء الله 😍',\n",
       "  'media_type': 2,\n",
       "  'image_url': 'https://scontent.cdninstagram.com/v/t51.71878-15/501801961_1467866204181588_6020912939974176032_n.jpg?stp=dst-jpg_e15_tt6&_nc_cat=109&ig_cache_key=MzA5MDM2NTgxMTY4MDI4NjUwOA%3D%3D.3-ccb1-7&ccb=1-7&_nc_sid=58cdad&efg=eyJ2ZW5jb2RlX3RhZyI6InhwaWRzLjcyMHgxMjgwLnNkciJ9&_nc_ohc=C1d98tXap0IQ7kNvwHRKMgJ&_nc_oc=AdkdIUf3SNWvxBWPm7U_r4OCDxOUJG_n5-2fItPQGJcrvZNg7AY_-C6UHCr7drcLCx0&_nc_ad=z-m&_nc_cid=0&_nc_zt=23&_nc_ht=scontent.cdninstagram.com&_nc_gid=WG48Kc3nBgQZyo23Oh7dtw&oh=00_AfS2art-dnV1nm2Qqks0y6jQTdM6257f79muzsrKnFB2uQ&oe=68874C5D',\n",
       "  'video_url': 'https://instagram.frba3-1.fna.fbcdn.net/o1/v/t2/f2/m82/AQN7bOS0NcTpDta7IBAv4SvHgBwxgmaFyEu4X1HYN08qxIik0ENN3ZZfvzKeeOW6539UIZ6weQxjAntn6_qB7cHuARrbvbx1p9Dzaz8.mp4?_nc_cat=104&_nc_oc=AdmMCjlXffEdOPl0coKoPb-O4ujgJ058LF5uYtEr4AHT5dO-FzWJRUZXVqOowi2NBSg&_nc_sid=5e9851&_nc_ht=instagram.frba3-1.fna.fbcdn.net&_nc_ohc=F_Lu90zg2b8Q7kNvwF3-2AO&efg=eyJ2ZW5jb2RlX3RhZyI6Inhwdl9wcm9ncmVzc2l2ZS5JTlNUQUdSQU0uQ0xJUFMuQzMuNzIwLmRhc2hfYmFzZWxpbmVfMV92MSIsInhwdl9hc3NldF9pZCI6MTAwMjc0MjI5MDY5Mzk4NCwiYXNzZXRfYWdlX2RheXMiOjgxOCwidmlfdXNlY2FzZV9pZCI6MTAwOTksImR1cmF0aW9uX3MiOjkwLCJ1cmxnZW5fc291cmNlIjoid3d3In0%3D&ccb=17-1&vs=ffedbdeecbe32147&_nc_vs=HBksFQIYT2lnX3hwdl9yZWVsc19wZXJtYW5lbnRfcHJvZC85NDQ0MzMwQ0M3Q0Q1Q0JCNkQwNTc1MUQ2QzJDN0JBQ192aWRlb19kYXNoaW5pdC5tcDQVAALIARIAFQIYOnBhc3N0aHJvdWdoX2V2ZXJzdG9yZS9HT1k2Z0JSTWdxSUptcWdDQUw0ZEI2ZE05VHdxYnFfRUFBQUYVAgLIARIAKAAYABsCiAd1c2Vfb2lsATEScHJvZ3Jlc3NpdmVfcmVjaXBlATEVAAAmwP3NoKT_xwMVAigCQzMsF0BWgAAAAAAAGBJkYXNoX2Jhc2VsaW5lXzFfdjERAHX-B2XmnQEA&_nc_zt=28&oh=00_AfRYLOcbW7CIdqKUXD2CUF8b0tsQNAtkosdei1fzJ1JVeg&oe=68836DB1'},\n",
       " {'id': '3670955971136748289_3271951350',\n",
       "  'shortcode': 'DLx2wGVtHsB',\n",
       "  'timestamp': 1751832320,\n",
       "  'like_count': 55698,\n",
       "  'comment_count': 551,\n",
       "  'caption': 'عواشركم مبروك الفاميلا 😍\\nراه درنا مجهوووود باش گلسو لينا حتى صورنا 😂😂',\n",
       "  'media_type': 2,\n",
       "  'image_url': 'https://scontent.cdninstagram.com/v/t51.82787-15/504372832_18412962613111351_755938659421944236_n.jpg?stp=dst-jpg_e15_tt6&_nc_cat=1&ig_cache_key=MzY3MDk1NTk3MTEzNjc0ODI4OQ%3D%3D.3-ccb1-7&ccb=1-7&_nc_sid=58cdad&efg=eyJ2ZW5jb2RlX3RhZyI6InhwaWRzLjI0MDB4NDI2Mi5zZHIifQ%3D%3D&_nc_ohc=04qOoq2oO_wQ7kNvwEkyLL8&_nc_oc=Adl61tJfGKkxBTmNyIqdKHwCKuvLGI-TohxLC9rnXw-ziUx9y9iN1Fxw5h3DcxM4PrY&_nc_ad=z-m&_nc_cid=0&_nc_zt=23&_nc_ht=scontent.cdninstagram.com&_nc_gid=WG48Kc3nBgQZyo23Oh7dtw&oh=00_AfRKHLOqij7rpAfmEzH3Qro6_dY7eWHWEO513HhedKOmJg&oe=68876135',\n",
       "  'video_url': 'https://instagram.frba3-2.fna.fbcdn.net/o1/v/t2/f2/m86/AQMVteqCXP8lEWPP8gzs5_eQXZZJRDlaer-aJDwtQ6w-I1andWCoaTEzzDE_Ayhh9uf3GjkGLavxb92DBUPGa2DQcqviHidw0_1Sfvo.mp4?_nc_cat=109&_nc_oc=AdmnfAZWVECCVyYrWT4pzotE-7lcSRgC6_IHHDgS5mGjtojQNwf54rnJMNmiOlJ8G4g&_nc_sid=5e9851&_nc_ht=instagram.frba3-2.fna.fbcdn.net&_nc_ohc=a5UmyMZoB6YQ7kNvwGAHqyf&efg=eyJ2ZW5jb2RlX3RhZyI6Inhwdl9wcm9ncmVzc2l2ZS5JTlNUQUdSQU0uQ0xJUFMuQzMuNzIwLmRhc2hfYmFzZWxpbmVfMV92MSIsInhwdl9hc3NldF9pZCI6NzIzNzAyMDkwNDMzMDA3LCJ2aV91c2VjYXNlX2lkIjoxMDA5OSwiZHVyYXRpb25fcyI6NDAsInVybGdlbl9zb3VyY2UiOiJ3d3cifQ%3D%3D&ccb=17-1&vs=817206d0ff9f484b&_nc_vs=HBksFQIYUmlnX3hwdl9yZWVsc19wZXJtYW5lbnRfc3JfcHJvZC85QzQ0OEU3MTA4QUY1NjhEOEExMkVGMDY1Rjc1NjhCQV92aWRlb19kYXNoaW5pdC5tcDQVAALIARIAFQIYOnBhc3N0aHJvdWdoX2V2ZXJzdG9yZS9HQzRUdEI0bXBsUXoxVm9FQU81cXAyLWFCNmt2YnFfRUFBQUYVAgLIARIAKAAYABsCiAd1c2Vfb2lsATEScHJvZ3Jlc3NpdmVfcmVjaXBlATEVAAAm3oew4ICNyQIVAigCQzMsF0BEUQYk3S8bGBJkYXNoX2Jhc2VsaW5lXzFfdjERAHX-B2XmnQEA&_nc_zt=28&oh=00_AfQoQvJHD5smHX9nn82IuPSxFYkN1ae8zlN-YZascE6JTw&oe=68833872'},\n",
       " {'id': '3668041077663999314_3271951350',\n",
       "  'shortcode': 'DLnf-0PtCVS',\n",
       "  'timestamp': 1751484722,\n",
       "  'like_count': 3,\n",
       "  'comment_count': 129,\n",
       "  'caption': 'نهار فالأسبوع كنوقف الريجيم وكناكل لي بغيت \\nوهو اليوم داكشي علاش بلا منتردد قصدت @ashokaisushi_maroc حيت السوشي ديالهم لا يقاوم رائع 😋',\n",
       "  'media_type': 2,\n",
       "  'image_url': 'https://scontent.cdninstagram.com/v/t51.82787-15/514906030_18412419898111351_5970604770005461299_n.jpg?stp=dst-jpg_e15_tt6&_nc_cat=101&ig_cache_key=MzY2ODA0MTA3NzY2Mzk5OTMxNA%3D%3D.3-ccb1-7&ccb=1-7&_nc_sid=58cdad&efg=eyJ2ZW5jb2RlX3RhZyI6InhwaWRzLjcyMHgxMjgwLnNkciJ9&_nc_ohc=DL6qY0uKclwQ7kNvwFsXAXY&_nc_oc=Adl80Z8SB3QJXYQxGlx8Ham1v4PZM1sACiavJKwxVbSQK7Im8i1hO5E_k_O0Zz2usxc&_nc_ad=z-m&_nc_cid=0&_nc_zt=23&_nc_ht=scontent.cdninstagram.com&_nc_gid=WG48Kc3nBgQZyo23Oh7dtw&oh=00_AfSlcG2EhzC-V9uXVzdZVO0fXp2okdULh_9osN8aEzvicQ&oe=6887337D',\n",
       "  'video_url': 'https://instagram.frba3-2.fna.fbcdn.net/o1/v/t2/f2/m86/AQPpMMqW7YpCCQnOIWaXFVl7L4zZ0l7Eb-xVG_EkACbr01_wKbeauLS8-ytToeNv8_4nieUWxfEsEHce25evpia17s0X2hkAsMulcEM.mp4?_nc_cat=106&_nc_oc=AdkWyEdtrsCYQneARrowizKCTWPAN-8INCjvXoHT93_HXUDIfYoFPTGhHByeqgESRGs&_nc_sid=5e9851&_nc_ht=instagram.frba3-2.fna.fbcdn.net&_nc_ohc=DgFFdnn_OVAQ7kNvwF0O6e2&efg=eyJ2ZW5jb2RlX3RhZyI6Inhwdl9wcm9ncmVzc2l2ZS5JTlNUQUdSQU0uQ0xJUFMuQzMuNzIwLmRhc2hfYmFzZWxpbmVfMV92MSIsInhwdl9hc3NldF9pZCI6NjI1MTQxMzgzMzEzMDQ5LCJ2aV91c2VjYXNlX2lkIjoxMDA5OSwiZHVyYXRpb25fcyI6NzgsInVybGdlbl9zb3VyY2UiOiJ3d3cifQ%3D%3D&ccb=17-1&vs=c6a8ef6538a2d138&_nc_vs=HBksFQIYUmlnX3hwdl9yZWVsc19wZXJtYW5lbnRfc3JfcHJvZC9GMTQxRUM5ODREQ0Q0RjVFNDExRTQyMzNENDk5OEE5M192aWRlb19kYXNoaW5pdC5tcDQVAALIARIAFQIYOnBhc3N0aHJvdWdoX2V2ZXJzdG9yZS9HTEZ0cXg1NURqZG4xLVFOQUR1N2ZYWk1WQ2NYYnFfRUFBQUYVAgLIARIAKAAYABsCiAd1c2Vfb2lsATEScHJvZ3Jlc3NpdmVfcmVjaXBlATEVAAAmstqxoYKknAIVAigCQzMsF0BTt2yLQ5WBGBJkYXNoX2Jhc2VsaW5lXzFfdjERAHX-B2XmnQEA&_nc_zt=28&oh=00_AfS7GALFCzHhwSMdLc_V437LPWm6X8osX0QWWhILJC3mHg&oe=68836927'}]"
      ]
     },
     "execution_count": 10,
     "metadata": {},
     "output_type": "execute_result"
    }
   ],
   "source": [
    "posts"
   ]
  },
  {
   "cell_type": "markdown",
   "id": "7c45e157",
   "metadata": {},
   "source": [
    "download_image"
   ]
  },
  {
   "cell_type": "code",
   "execution_count": 11,
   "id": "9a35b394",
   "metadata": {},
   "outputs": [
    {
     "name": "stdout",
     "output_type": "stream",
     "text": [
      "[+] Downloading image from URL...\n",
      "[+] Image saved to c:\\Users\\hafss\\OneDrive\\Desktop\\New folder (12)\\multi-agent-system-for-identity-revelalion-and-reporting\\notebooks\\profile_pic.jpg\n"
     ]
    },
    {
     "data": {
      "text/plain": [
       "'c:\\\\Users\\\\hafss\\\\OneDrive\\\\Desktop\\\\New folder (12)\\\\multi-agent-system-for-identity-revelalion-and-reporting\\\\notebooks\\\\profile_pic.jpg'"
      ]
     },
     "execution_count": 11,
     "metadata": {},
     "output_type": "execute_result"
    }
   ],
   "source": [
    "download_image(user_info['profile_pic_url'])"
   ]
  },
  {
   "cell_type": "code",
   "execution_count": null,
   "id": "e4844520",
   "metadata": {},
   "outputs": [],
   "source": []
  },
  {
   "cell_type": "code",
   "execution_count": null,
   "id": "dae975f1",
   "metadata": {},
   "outputs": [],
   "source": []
  }
 ],
 "metadata": {
  "kernelspec": {
   "display_name": "agent-env",
   "language": "python",
   "name": "python3"
  },
  "language_info": {
   "codemirror_mode": {
    "name": "ipython",
    "version": 3
   },
   "file_extension": ".py",
   "mimetype": "text/x-python",
   "name": "python",
   "nbconvert_exporter": "python",
   "pygments_lexer": "ipython3",
   "version": "3.11.5"
  }
 },
 "nbformat": 4,
 "nbformat_minor": 5
}
