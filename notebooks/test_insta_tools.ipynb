{
 "cells": [
  {
   "cell_type": "code",
   "execution_count": 1,
   "id": "c962061a",
   "metadata": {},
   "outputs": [],
   "source": [
    "from multi_agents.tools.insta_tools import *"
   ]
  },
  {
   "cell_type": "markdown",
   "id": "34acf69b",
   "metadata": {},
   "source": [
    "get_user_id"
   ]
  },
  {
   "cell_type": "code",
   "execution_count": 2,
   "id": "b9fcf915",
   "metadata": {},
   "outputs": [
    {
     "data": {
      "text/plain": [
       "'54927492788'"
      ]
     },
     "execution_count": 2,
     "metadata": {},
     "output_type": "execute_result"
    }
   ],
   "source": [
    "target_username = \"simowows\"  # Change username here\n",
    "profile_id = get_instagram_user_id(target_username)\n",
    "profile_id"
   ]
  },
  {
   "cell_type": "markdown",
   "id": "0df055fa",
   "metadata": {},
   "source": [
    "get_following"
   ]
  },
  {
   "cell_type": "code",
   "execution_count": 3,
   "id": "b5da5ed2",
   "metadata": {},
   "outputs": [],
   "source": [
    "following_list = get_instagram_user_following(profile_id, limit= 2)\n"
   ]
  },
  {
   "cell_type": "code",
   "execution_count": 4,
   "id": "eda9fc1f",
   "metadata": {},
   "outputs": [
    {
     "name": "stdout",
     "output_type": "stream",
     "text": [
      "Total following fetched: 0\n"
     ]
    },
    {
     "data": {
      "text/plain": [
       "[]"
      ]
     },
     "execution_count": 4,
     "metadata": {},
     "output_type": "execute_result"
    }
   ],
   "source": [
    "print(f\"Total following fetched: {len(following_list)}\")\n",
    "following_list  # print first 5"
   ]
  },
  {
   "cell_type": "markdown",
   "id": "5dbd48a6",
   "metadata": {},
   "source": [
    "get_followers"
   ]
  },
  {
   "cell_type": "code",
   "execution_count": 10,
   "id": "3ac5fc69",
   "metadata": {},
   "outputs": [],
   "source": [
    "followers_list = get_instagram_user_followers(profile_id)\n"
   ]
  },
  {
   "cell_type": "code",
   "execution_count": 11,
   "id": "ca030020",
   "metadata": {},
   "outputs": [
    {
     "name": "stdout",
     "output_type": "stream",
     "text": [
      "Total following fetched: 100\n"
     ]
    },
    {
     "data": {
      "text/plain": [
       "[{'id': '54940023306',\n",
       "  'username': 'eddie.zola',\n",
       "  'full_name': '',\n",
       "  'profile_pic_url': 'https://instagram.frba2-2.fna.fbcdn.net/v/t51.2885-19/384351949_1031518278269679_4177553031596746789_n.jpg?stp=dst-jpg_s150x150_tt6&efg=eyJ2ZW5jb2RlX3RhZyI6InByb2ZpbGVfcGljLmRqYW5nby4xMDgwLmMyIn0&_nc_ht=instagram.frba2-2.fna.fbcdn.net&_nc_cat=103&_nc_oc=Q6cZ2QHcM1qnlBUvBo_5J-6kVMPPmUm3jccbBPmuAA_y1Sv9ktYwlt6lVEvOTuqV-GO8xmo&_nc_ohc=ozS6D20cNKwQ7kNvwGAgZph&_nc_gid=-tQ5ghoZ0qNHmUTaYdWK1A&edm=AOG-cTkBAAAA&ccb=7-5&oh=00_AfThbOCF39e59JNLrB1P42ci388ROx15IwCRQ1QBizQiKw&oe=68883590&_nc_sid=17ea04',\n",
       "  'is_private': True},\n",
       " {'id': '49846322006',\n",
       "  'username': 'sara.ajehoum86',\n",
       "  'full_name': 'sara ajehoum',\n",
       "  'profile_pic_url': 'https://instagram.frba2-1.fna.fbcdn.net/v/t51.2885-19/246168931_1142684262923918_5877091732355768759_n.jpg?stp=dst-jpg_s150x150_tt6&efg=eyJ2ZW5jb2RlX3RhZyI6InByb2ZpbGVfcGljLmRqYW5nby4xMDgwLmMyIn0&_nc_ht=instagram.frba2-1.fna.fbcdn.net&_nc_cat=102&_nc_oc=Q6cZ2QHcM1qnlBUvBo_5J-6kVMPPmUm3jccbBPmuAA_y1Sv9ktYwlt6lVEvOTuqV-GO8xmo&_nc_ohc=ESDNLhG_vFgQ7kNvwFultQG&_nc_gid=-tQ5ghoZ0qNHmUTaYdWK1A&edm=AOG-cTkBAAAA&ccb=7-5&oh=00_AfQXt9Z41aiSqMkTczXFyLwpp_ak0paFy20ts5jdrjnlUg&oe=68883B51&_nc_sid=17ea04',\n",
       "  'is_private': False},\n",
       " {'id': '5372893403',\n",
       "  'username': 'amine.fennane',\n",
       "  'full_name': 'Amine Fennane',\n",
       "  'profile_pic_url': 'https://instagram.frba2-1.fna.fbcdn.net/v/t51.2885-19/489010838_1326960945273144_7900881406512734373_n.jpg?stp=dst-jpg_s150x150_tt6&efg=eyJ2ZW5jb2RlX3RhZyI6InByb2ZpbGVfcGljLmRqYW5nby4xMDgwLmMyIn0&_nc_ht=instagram.frba2-1.fna.fbcdn.net&_nc_cat=100&_nc_oc=Q6cZ2QHcM1qnlBUvBo_5J-6kVMPPmUm3jccbBPmuAA_y1Sv9ktYwlt6lVEvOTuqV-GO8xmo&_nc_ohc=6bLJpUnP44EQ7kNvwHCHsoa&_nc_gid=-tQ5ghoZ0qNHmUTaYdWK1A&edm=AOG-cTkBAAAA&ccb=7-5&oh=00_AfQGpjGteqPlWBmGQ0iJscRhi2ZsUu9S12u31g_-TC5odw&oe=6888270C&_nc_sid=17ea04',\n",
       "  'is_private': True},\n",
       " {'id': '57614352785',\n",
       "  'username': 'sumoel93',\n",
       "  'full_name': 'sumo el',\n",
       "  'profile_pic_url': 'https://instagram.frba2-2.fna.fbcdn.net/v/t51.2885-19/322267339_700427548151367_3664454577601106800_n.jpg?stp=dst-jpg_s150x150_tt6&efg=eyJ2ZW5jb2RlX3RhZyI6InByb2ZpbGVfcGljLmRqYW5nby43MjAuYzIifQ&_nc_ht=instagram.frba2-2.fna.fbcdn.net&_nc_cat=103&_nc_oc=Q6cZ2QHcM1qnlBUvBo_5J-6kVMPPmUm3jccbBPmuAA_y1Sv9ktYwlt6lVEvOTuqV-GO8xmo&_nc_ohc=r_9GnfG_Zo0Q7kNvwHT_P1J&_nc_gid=-tQ5ghoZ0qNHmUTaYdWK1A&edm=AOG-cTkBAAAA&ccb=7-5&oh=00_AfTSnMyxYsCTjMMvopniqNyqLPGrzQ60FSsFHw90pDJ9yw&oe=6888223B&_nc_sid=17ea04',\n",
       "  'is_private': False},\n",
       " {'id': '3601006676',\n",
       "  'username': 'ahmed_idikl',\n",
       "  'full_name': 'Ahmed Îdïkł',\n",
       "  'profile_pic_url': 'https://instagram.fath3-3.fna.fbcdn.net/v/t51.2885-19/464760996_1254146839119862_3605321457742435801_n.png?stp=dst-jpg_e0_s150x150_tt6&cb=8577c754-c2464923&efg=eyJ2ZW5jb2RlX3RhZyI6InByb2ZpbGVfcGljLmRqYW5nby4xNTAuYzIifQ&_nc_ad=z-m&_nc_ht=instagram.fath3-3.fna.fbcdn.net&_nc_cat=1&_nc_oc=Q6cZ2QEaUc5FB_2DENkk72CA2fmJYW4UVj-yGjj8UrShpxa0dgvSqMrxMGdGLIaD8gpx6BDQc838_uCMnie3nbeG7Trv&_nc_ohc=Hp9Io9BAMJwQ7kNvwEAjaJr&_nc_gid=a3psE_8hDSsHT3OJHmYTnw&edm=ADSXJJEBAAAA&ccb=7-5&ig_cache_key=YW5vbnltb3VzX3Byb2ZpbGVfcGlj.3-ccb7-5-cb8577c754-c2464923&oh=00_AfQJdissgtZ03hwkGPs-KmJNrv63OY90zizMCtpZK4mi2w&oe=68883A68&_nc_sid=c60b72',\n",
       "  'is_private': True}]"
      ]
     },
     "execution_count": 11,
     "metadata": {},
     "output_type": "execute_result"
    }
   ],
   "source": [
    "print(f\"Total following fetched: {len(followers_list)}\")\n",
    "followers_list[:5]  # print first 5"
   ]
  },
  {
   "cell_type": "markdown",
   "id": "bd9ab997",
   "metadata": {},
   "source": [
    "get_user_info"
   ]
  },
  {
   "cell_type": "code",
   "execution_count": 12,
   "id": "049d1b3c",
   "metadata": {},
   "outputs": [],
   "source": [
    "user_info = get_instagram_user_info(target_username)"
   ]
  },
  {
   "cell_type": "code",
   "execution_count": 13,
   "id": "215242e8",
   "metadata": {},
   "outputs": [
    {
     "data": {
      "text/plain": [
       "{'user_id': '54927492788',\n",
       " 'full_name': 'Mohammed Aitoubaha',\n",
       " 'description': '🏨 Owner of Wow Hotel Dakhla\\n🏡 Real estate investor & Airbnb expert\\n💡 Tips on rentals & hospitality',\n",
       " 'followers': 233903,\n",
       " 'following': 121,\n",
       " 'post_count': 327,\n",
       " 'is_private': False,\n",
       " 'is_verified': True,\n",
       " 'profile_pic_url': 'https://instagram.frba2-2.fna.fbcdn.net/v/t51.2885-19/326117053_728108528743414_4085775869464108815_n.jpg?stp=dst-jpg_s320x320_tt6&efg=eyJ2ZW5jb2RlX3RhZyI6InByb2ZpbGVfcGljLmRqYW5nby4xMDgwLmMyIn0&_nc_ht=instagram.frba2-2.fna.fbcdn.net&_nc_cat=110&_nc_oc=Q6cZ2QG9H7msYgXQnp8in2sk9NvJgr0GGX_rgsZJGmf1laKxMcOg3Y4KAMODiQ-K8hWNlL8&_nc_ohc=E-739j3Wqk4Q7kNvwG12Y18&_nc_gid=ltxmJHgtAbCXHmHlKKQxnA&edm=AOQ1c0wBAAAA&ccb=7-5&oh=00_AfScic-rxWJr3TqnL6j3axV40nbj5uIFwQk67gxydPLs8Q&oe=68881884&_nc_sid=8b3546',\n",
       " 'external_url': 'https://wa.me/212695446601'}"
      ]
     },
     "execution_count": 13,
     "metadata": {},
     "output_type": "execute_result"
    }
   ],
   "source": [
    "user_info"
   ]
  },
  {
   "cell_type": "code",
   "execution_count": null,
   "id": "3b6cc0f4",
   "metadata": {},
   "outputs": [
    {
     "data": {
      "text/plain": [
       "'54927492788'"
      ]
     },
     "execution_count": 18,
     "metadata": {},
     "output_type": "execute_result"
    }
   ],
   "source": [
    "profile_id = user_info['user_id']\n",
    "profile_id"
   ]
  },
  {
   "cell_type": "markdown",
   "id": "6b275c13",
   "metadata": {},
   "source": [
    "get_user_posts"
   ]
  },
  {
   "cell_type": "code",
   "execution_count": 14,
   "id": "c3959194",
   "metadata": {},
   "outputs": [],
   "source": [
    "user_id = user_info['user_id']\n",
    "# Scrape other data points if enabled\n",
    "#posts = get_instagram_user_posts(user_id, limit=5)\n",
    "posts = get_instagram_user_posts(user_id)"
   ]
  },
  {
   "cell_type": "code",
   "execution_count": 15,
   "id": "7e6ddc30",
   "metadata": {},
   "outputs": [
    {
     "data": {
      "text/plain": [
       "[{'id': '3640953311717644569_54927492788',\n",
       "  'shortcode': 'DKHQ78UtlkZ',\n",
       "  'timestamp': 1748255693,\n",
       "  'like_count': 557,\n",
       "  'comment_count': 7,\n",
       "  'caption': '🧨😱حلقة بودكاست ستزعج البعض 😱🪓🧨#المغرب #airbnb #مراكش #طنجة',\n",
       "  'media_type': 2,\n",
       "  'image_url': 'https://scontent.cdninstagram.com/v/t51.71878-15/500277923_618601357899006_5530121000542762138_n.jpg?stp=dst-jpg_e15_tt6&_nc_cat=108&ig_cache_key=MzY0MDk1MzMxMTcxNzY0NDU2OQ%3D%3D.3-ccb1-7&ccb=1-7&_nc_sid=58cdad&efg=eyJ2ZW5jb2RlX3RhZyI6InhwaWRzLjY0MHgxMTM2LnNkciJ9&_nc_ohc=ABTiZZSYSD0Q7kNvwGem_I5&_nc_oc=AdmBtS5qQx0cmGJpI053Atbg1LpoSEn9RixsXZgrA63PAZsKF0S2TFAryMKNCBt15Fg&_nc_ad=z-m&_nc_cid=1736&_nc_zt=23&_nc_ht=scontent.cdninstagram.com&_nc_gid=oVNLLeQQzSQXn-X53Nv8Dg&oh=00_AfSsllkRerj3vRjtYvgeGZn9rISAAIcgN4fXq3emMWGajw&oe=688822A8',\n",
       "  'video_url': 'https://instagram.frba2-2.fna.fbcdn.net/o1/v/t2/f2/m86/AQO5vyfK5fkmfVLKXHE1ZM2Yj3zKxNR6qSu81ET9OGMYEM3EnfD9XOOyPNuFvdAGMX_mEeJSCBWfONvyqT0TzYD-sfdWbDUiYSG77-Y.mp4?_nc_cat=111&_nc_oc=Adm00UCW5SW5je2aPdcMK5HHphSNba2Zw6xKJ24_3qt1uP-OY7UnIH8s_zVl8pTw_Kw&_nc_sid=5e9851&_nc_ht=instagram.frba2-2.fna.fbcdn.net&_nc_ohc=MUfOtIvNLXMQ7kNvwHd_7Gs&efg=eyJ2ZW5jb2RlX3RhZyI6Inhwdl9wcm9ncmVzc2l2ZS5JTlNUQUdSQU0uQ0xJUFMuQzMuNzIwLmRhc2hfYmFzZWxpbmVfMV92MSIsInhwdl9hc3NldF9pZCI6Njk3NDcwODE2NDA4OTI1LCJ2aV91c2VjYXNlX2lkIjoxMDA5OSwiZHVyYXRpb25fcyI6NTQsInVybGdlbl9zb3VyY2UiOiJ3d3cifQ%3D%3D&ccb=17-1&vs=6de0e19753b49ae1&_nc_vs=HBksFQIYUmlnX3hwdl9yZWVsc19wZXJtYW5lbnRfc3JfcHJvZC8wNTREMDA5RDRGQTMyRDAwNDZCQjU0M0NDNjlCOUVCOF92aWRlb19kYXNoaW5pdC5tcDQVAALIARIAFQIYOnBhc3N0aHJvdWdoX2V2ZXJzdG9yZS9HRnc0U1IxaEtBQVZ3RThqQUt2aXFLdEZNTmtDYnFfRUFBQUYVAgLIARIAKAAYABsCiAd1c2Vfb2lsATEScHJvZ3Jlc3NpdmVfcmVjaXBlATEVAAAmutWGxJKWvQIVAigCQzMsF0BLCp--dsi0GBJkYXNoX2Jhc2VsaW5lXzFfdjERAHX-B2XmnQEA&_nc_zt=28&oh=00_AfSRGqo6PUfgN93RNsD51_k7Y0Ch0aBAOFifoBOhxYz_0g&oe=688419E8'},\n",
       " {'id': '3311450415668011757_55738016176',\n",
       "  'shortcode': 'C30opu1NiLt',\n",
       "  'timestamp': 1708975730,\n",
       "  'like_count': 15138,\n",
       "  'comment_count': 132,\n",
       "  'caption': 'منصة airbnb \\nكتقتارح عدد من الخدمات \\nمنها airbnb experience كيوضحها \\n@simowows \\n\\u200e#إلهاميات #قصة_نجاح #بودكاست #طموح  #صانع_محتوى #المغرب #الداخلة #سياحة #فنادق  #إلهام_زدوحية #العقار #شقق_مفروشة \\n\\n\\u200e\\u200f\\u200e #ilhamiyate #poadcast #successstory #simowow #maroc  #podcast #dakhla #hospitality #contentcreator #realestate #booking #airbnbexperience \\xa0#airbnbhost \\xa0#airbnblife\\xa0#instatravel  #business #entrepreneurs #ilham_zidouhia',\n",
       "  'media_type': 2,\n",
       "  'image_url': 'https://scontent.cdninstagram.com/v/t51.71878-15/501704467_1787977385470730_4999994252900955462_n.jpg?stp=dst-jpg_e15_tt6&_nc_cat=110&ig_cache_key=MzMxMTQ1MDQxNTY2ODAxMTc1Nw%3D%3D.3-ccb1-7&ccb=1-7&_nc_sid=58cdad&efg=eyJ2ZW5jb2RlX3RhZyI6InhwaWRzLjEwODB4MTkyMC5zZHIifQ%3D%3D&_nc_ohc=ZMOtJ-LzWvMQ7kNvwHf7bCA&_nc_oc=AdkKHh41HqGoHlCuasXl3LV_zgFIacDv1tB7fOHWrfSoQjIt6PICQ2L37ckhGloKl40&_nc_ad=z-m&_nc_cid=1736&_nc_zt=23&_nc_ht=scontent.cdninstagram.com&_nc_gid=oVNLLeQQzSQXn-X53Nv8Dg&oh=00_AfTGXQgg6XUo1qiJXQ207mOpvCDvqwVUkHTvrQNHGyX2SA&oe=68884574',\n",
       "  'video_url': 'https://instagram.frba2-1.fna.fbcdn.net/o1/v/t2/f2/m82/AQOyI6WIOhIMcr5Vs3_M4q5XlZ-TUYZqxj1ff7fRQaI0-5bhK2Up7cxEihL0bo9Ne9HtXFjucEs8WUdRih9yro4xLGSeAtpklOBpgFE.mp4?_nc_cat=108&_nc_oc=AdnJ6VjEmlVwJgCxAFjAWNqaM5NOe0OnAlKv8_1nDFAHhnIsI8_13Aciti8_VinD6P4&_nc_sid=5e9851&_nc_ht=instagram.frba2-1.fna.fbcdn.net&_nc_ohc=RRIv4oRuEpsQ7kNvwHiGWy0&efg=eyJ2ZW5jb2RlX3RhZyI6Inhwdl9wcm9ncmVzc2l2ZS5JTlNUQUdSQU0uQ0xJUFMuQzMuNzIwLmRhc2hfYmFzZWxpbmVfMV92MSIsInhwdl9hc3NldF9pZCI6MTQ3NjA4NzI1MzMyNjQxMywiYXNzZXRfYWdlX2RheXMiOjUxMywidmlfdXNlY2FzZV9pZCI6MTAwOTksImR1cmF0aW9uX3MiOjg3LCJ1cmxnZW5fc291cmNlIjoid3d3In0%3D&ccb=17-1&vs=c3394f6727558be9&_nc_vs=HBksFQIYT2lnX3hwdl9yZWVsc19wZXJtYW5lbnRfcHJvZC82QzQ1MzhCMjlEMjYwMDM5MzREMTE2RTNDRkVFNDhCN192aWRlb19kYXNoaW5pdC5tcDQVAALIARIAFQIYOnBhc3N0aHJvdWdoX2V2ZXJzdG9yZS9HRXNfbHhub250M29qX0FEQU41UTlEaTNGNnNkYnFfRUFBQUYVAgLIARIAKAAYABsCiAd1c2Vfb2lsATEScHJvZ3Jlc3NpdmVfcmVjaXBlATEVAAAmmumihsufnwUVAigCQzMsF0BVzMzMzMzNGBJkYXNoX2Jhc2VsaW5lXzFfdjERAHX-B2XmnQEA&_nc_zt=28&oh=00_AfRMNeyaTE-CPcKcdP7jlv4raMSDxYlF8sJ79GJBCnYTXQ&oe=688441D1'},\n",
       " {'id': '3683685908583049369_54927492788',\n",
       "  'shortcode': 'DMfFNEdNGiZ',\n",
       "  'timestamp': 1753350245,\n",
       "  'like_count': 35,\n",
       "  'comment_count': 2,\n",
       "  'caption': 'علاش الفنادق غالية بالمغرب؟#المغرب #مغاربة_العالم #إسبانيا #italy #العقار #simowow',\n",
       "  'media_type': 2,\n",
       "  'image_url': 'https://scontent.cdninstagram.com/v/t51.71878-15/524608053_1850921272504816_4935442772667809849_n.jpg?stp=dst-jpg_e15_tt6&_nc_cat=110&ig_cache_key=MzY4MzY4NTkwODU4MzA0OTM2OQ%3D%3D.3-ccb1-7&ccb=1-7&_nc_sid=58cdad&efg=eyJ2ZW5jb2RlX3RhZyI6InhwaWRzLjY0MHgxMTM2LnNkciJ9&_nc_ohc=j3kRyEwZnokQ7kNvwHTenk0&_nc_oc=AdmhrDIbaQ4kzo0wQtfP9lXTBq2KDXLIytXa5TrxlRTSNRCO0b-e06i44vpa4w9FDVs&_nc_ad=z-m&_nc_cid=1736&_nc_zt=23&_nc_ht=scontent.cdninstagram.com&_nc_gid=oVNLLeQQzSQXn-X53Nv8Dg&oh=00_AfQ-wmQOTBhLJ0Hx2ADMJELteeoc0CUQIan6G11oiGEN1A&oe=68883330',\n",
       "  'video_url': 'https://instagram.frba2-1.fna.fbcdn.net/o1/v/t2/f2/m86/AQPXBzvTAKGTvuHisGUjpenfVEzTfEkTdcaK_50bjgJ8aETSWSty8vbJZjv285jGUi2K86S69WMobDyZKCpdfEGpYBURRAbtq0r4dBI.mp4?_nc_cat=107&_nc_oc=AdmicaQZuDrmV-GozXWzbKbTgt6fXBpKLa-5druvq5DqTJ5pY9lLhTPoBqQh-jGkQnA&_nc_sid=5e9851&_nc_ht=instagram.frba2-1.fna.fbcdn.net&_nc_ohc=XwxGiwDAZsUQ7kNvwHKp3yP&efg=eyJ2ZW5jb2RlX3RhZyI6Inhwdl9wcm9ncmVzc2l2ZS5JTlNUQUdSQU0uQ0xJUFMuQzMuNzIwLmRhc2hfYmFzZWxpbmVfMV92MSIsInhwdl9hc3NldF9pZCI6NzM0Nzc3MzYyNzkwNjUwLCJ2aV91c2VjYXNlX2lkIjoxMDA5OSwiZHVyYXRpb25fcyI6MTI4LCJ1cmxnZW5fc291cmNlIjoid3d3In0%3D&ccb=17-1&vs=3840468dd17e147a&_nc_vs=HBksFQIYUmlnX3hwdl9yZWVsc19wZXJtYW5lbnRfc3JfcHJvZC85MzRBMERFRDk0RTkxRDIxNkQ3RDI5NTc2REIwODlCRV92aWRlb19kYXNoaW5pdC5tcDQVAALIARIAFQIYOnBhc3N0aHJvdWdoX2V2ZXJzdG9yZS9HSVpBSFItRHpSUWRTY0lEQUVUSzFWS3FUR3gyYnFfRUFBQUYVAgLIARIAKAAYABsCiAd1c2Vfb2lsATEScHJvZ3Jlc3NpdmVfcmVjaXBlATEVAAAm9OOV-9WRzgIVAigCQzMsF0BgFU_fO2RaGBJkYXNoX2Jhc2VsaW5lXzFfdjERAHX-B2XmnQEA&_nc_zt=28&oh=00_AfRmMZGfvmL9gdC736OcqnqWga6BBfSOJPpRLPsglV5zEQ&oe=68844A90'},\n",
       " {'id': '3682244947885734192_54927492788',\n",
       "  'shortcode': 'DMZ9kVOtLkw',\n",
       "  'timestamp': 1753177976,\n",
       "  'like_count': 219,\n",
       "  'comment_count': 0,\n",
       "  'caption': 'تعوضت ف 6400درهم ف 24h #المغرب #simowow #airbnb #marrakech',\n",
       "  'media_type': 2,\n",
       "  'image_url': 'https://scontent.cdninstagram.com/v/t51.71878-15/522712806_1245705053418833_6430140788570329121_n.jpg?stp=dst-jpg_e15_tt6&_nc_cat=108&ig_cache_key=MzY4MjI0NDk0Nzg4NTczNDE5Mg%3D%3D.3-ccb1-7&ccb=1-7&_nc_sid=58cdad&efg=eyJ2ZW5jb2RlX3RhZyI6InhwaWRzLjY0MHgxMTM2LnNkciJ9&_nc_ohc=MMf9wQ3QWAQQ7kNvwEJTcpI&_nc_oc=AdlqwVBWh3W1e_Umkhonw9VDvcTiM1rcAZ1RX3BJupTqwzbcQOiZKsEyD0dndWEeh1w&_nc_ad=z-m&_nc_cid=1736&_nc_zt=23&_nc_ht=scontent.cdninstagram.com&_nc_gid=oVNLLeQQzSQXn-X53Nv8Dg&oh=00_AfTHNQiry-DuY2DblW5m9QgTXcDQOwtB366nUW8-X5BZ2g&oe=688826A1',\n",
       "  'video_url': 'https://instagram.frba2-2.fna.fbcdn.net/o1/v/t2/f2/m86/AQNE0x--HtCXARivj9oFj0LiEdScd2h0UZx0OW2PkjTJrKtaXI2-6adWduBAFkND1c5b07mmfo8YDLEm3hM7B8SMaPBnB2spouxQeJg.mp4?_nc_cat=110&_nc_oc=AdkmEBiAuAUFWQ8vs8nx5mzpQIsn3MpdCylG0X3x_pL-HDrtUy_-QigU6aIdN-1ayQM&_nc_sid=5e9851&_nc_ht=instagram.frba2-2.fna.fbcdn.net&_nc_ohc=g_yCZQ7s1goQ7kNvwFHKbTO&efg=eyJ2ZW5jb2RlX3RhZyI6Inhwdl9wcm9ncmVzc2l2ZS5JTlNUQUdSQU0uQ0xJUFMuQzMuNzIwLmRhc2hfYmFzZWxpbmVfMV92MSIsInhwdl9hc3NldF9pZCI6MTI5MzEyMzk2NTU2MjYzNiwidmlfdXNlY2FzZV9pZCI6MTAwOTksImR1cmF0aW9uX3MiOjE5NCwidXJsZ2VuX3NvdXJjZSI6Ind3dyJ9&ccb=17-1&vs=1be8fee0a520611a&_nc_vs=HBksFQIYUmlnX3hwdl9yZWVsc19wZXJtYW5lbnRfc3JfcHJvZC9DNTQ4MjQ4MkJFNEJGN0I1OEQ2OEQwNzc1M0M4NDE5OV92aWRlb19kYXNoaW5pdC5tcDQVAALIARIAFQIYOnBhc3N0aHJvdWdoX2V2ZXJzdG9yZS9HT2ZrR2g4a0ZjUTZsZmNNQUhqZzQ5dGtmVlFwYnFfRUFBQUYVAgLIARIAKAAYABsCiAd1c2Vfb2lsATEScHJvZ3Jlc3NpdmVfcmVjaXBlATEVAAAmmLzxqdyFzAQVAigCQzMsF0BoWqfvnbItGBJkYXNoX2Jhc2VsaW5lXzFfdjERAHX-B2XmnQEA&_nc_zt=28&oh=00_AfSeml8WdtF_nf1OQw2g8nC-oUlNjG-2_JLyop6X5XlyUA&oe=68843C9F'},\n",
       " {'id': '3681505174279782512_54927492788',\n",
       "  'shortcode': 'DMXVXNXtYBw',\n",
       "  'timestamp': 1753089638,\n",
       "  'like_count': 167,\n",
       "  'comment_count': 5,\n",
       "  'caption': '⸻\\n🤔 ديما كيجيني نفس السؤال:\\n“علاش شقتي ما كتعمرش رغم أنني درت فيها كلشي؟”\\n\\nالجواب بسيط ولكن قاصح شوية:\\nلأنك كتشوف Airbnb كمصدر دخل إضافي او بريكول، ماشي كمشروع حقيقي.\\n\\nفـ الاستشارات ديالي مع الناس لي بغايين يديرو مشروع حقيقي، كنخدم معاهم على هاد 3 الحوايج:\\n\\n✅ التسعير الاحترافي\\n✅ جذب الضيوف المناسبين\\n✅ بناء سمعة الكترونية تخدمك بلا مجهود\\n\\nإلى عندك شقة أو فيلا، وخدمتي عليها كمشروع، النتيجة غادي تجيك.\\n\\nدابا قول ليا بصراحة فالتعليقات:\\nواش انت كتعتبر Airbnb ديالك مشروع؟ ولا غير شقة؟ 👇',\n",
       "  'media_type': 1,\n",
       "  'image_url': 'https://instagram.frba2-1.fna.fbcdn.net/v/t51.2885-15/523467234_17990520749828789_5670123471394469083_n.jpg?stp=dst-jpg_e35_tt6&efg=eyJ2ZW5jb2RlX3RhZyI6IkZFRUQuaW1hZ2VfdXJsZ2VuLjE0NDB4MTA4MC5zZHIuZjgyNzg3LmRlZmF1bHRfaW1hZ2UuYzIifQ&_nc_ht=instagram.frba2-1.fna.fbcdn.net&_nc_cat=105&_nc_oc=Q6cZ2QE9667enluot_tmOZE620MIW8eoApIKgnfY0OLgtqgaac5rHfMXs4dw1U7lCn1nzI0&_nc_ohc=0rU_7CWyk6gQ7kNvwGdnhk5&_nc_gid=oVNLLeQQzSQXn-X53Nv8Dg&edm=ABmJApABAAAA&ccb=7-5&ig_cache_key=MzY4MTUwNTE3NDI3OTc4MjUxMg%3D%3D.3-ccb7-5&oh=00_AfRMXUtoN9VmjnS0rhk1mWYbzlhv7nY-QwlhIu7iUiAdzg&oe=68883A46&_nc_sid=b41fef',\n",
       "  'video_url': None},\n",
       " {'id': '3679775479339397018_54927492788',\n",
       "  'shortcode': 'DMRME1bN6-a',\n",
       "  'timestamp': 1752883547,\n",
       "  'like_count': 221,\n",
       "  'comment_count': 1,\n",
       "  'caption': 'علاش المغرب غالي سياحيا #المغرب #العقار #طنجة',\n",
       "  'media_type': 2,\n",
       "  'image_url': 'https://scontent.cdninstagram.com/v/t51.71878-15/521614828_2222480734873163_5012187946198385007_n.jpg?stp=dst-jpg_e15_tt6&_nc_cat=108&ig_cache_key=MzY3OTc3NTQ3OTMzOTM5NzAxOA%3D%3D.3-ccb1-7&ccb=1-7&_nc_sid=58cdad&efg=eyJ2ZW5jb2RlX3RhZyI6InhwaWRzLjY0MHgxMTM2LnNkciJ9&_nc_ohc=YWpc3Gz4BXsQ7kNvwHAkkrP&_nc_oc=AdmafRJaWtTPguioO4ynw4zImqgaAWqoJunWkBuqLOLjIP2pHNc8M0VSsRMe_4yrl6g&_nc_ad=z-m&_nc_cid=1736&_nc_zt=23&_nc_ht=scontent.cdninstagram.com&_nc_gid=oVNLLeQQzSQXn-X53Nv8Dg&oh=00_AfQ7HSK9ZHPfd6edMvysi20psdg5Z9LpZlhrpPhPHCPLgQ&oe=68882FD3',\n",
       "  'video_url': 'https://instagram.frba2-1.fna.fbcdn.net/o1/v/t2/f2/m86/AQMua70FeIds2PLVDaDULHVc4clQVGH-HUBHRZIHcQT8hLmEOi5wr0pPeW19UGK-gYmbT7GBTIWKGgmyFRLDmyOxZT5JaC9zEVS9DmY.mp4?_nc_cat=105&_nc_oc=AdlMOSOSu_eeWhVTMOqiQ1_aDvaFhHklkh2ybAU_q91kW90o00DaaNH5dmsoglN27N4&_nc_sid=5e9851&_nc_ht=instagram.frba2-1.fna.fbcdn.net&_nc_ohc=SWPegR2rUWAQ7kNvwEQWYzy&efg=eyJ2ZW5jb2RlX3RhZyI6Inhwdl9wcm9ncmVzc2l2ZS5JTlNUQUdSQU0uQ0xJUFMuQzMuNzIwLmRhc2hfYmFzZWxpbmVfMV92MSIsInhwdl9hc3NldF9pZCI6MTA0MTYzNDk5MTUxMTYzNCwidmlfdXNlY2FzZV9pZCI6MTAwOTksImR1cmF0aW9uX3MiOjk5LCJ1cmxnZW5fc291cmNlIjoid3d3In0%3D&ccb=17-1&vs=7741e2049b839c8f&_nc_vs=HBksFQIYUmlnX3hwdl9yZWVsc19wZXJtYW5lbnRfc3JfcHJvZC8xMjQ4NjQzMUEyRDUxMEQ5NjQyRjdENURGNkIzMTRBRl92aWRlb19kYXNoaW5pdC5tcDQVAALIARIAFQIYOnBhc3N0aHJvdWdoX2V2ZXJzdG9yZS9HREY4Q3g4T1JJU184emNFQUNjSzBlRmtnbVZCYnFfRUFBQUYVAgLIARIAKAAYABsCiAd1c2Vfb2lsATEScHJvZ3Jlc3NpdmVfcmVjaXBlATEVAAAmpOG8upHX2QMVAigCQzMsF0BY3dLxqfvnGBJkYXNoX2Jhc2VsaW5lXzFfdjERAHX-B2XmnQEA&_nc_zt=28&oh=00_AfSR3O9Tsut2dxcVXN7co3akbaQb3bQMIAcUk-ykZojWQQ&oe=68844332'},\n",
       " {'id': '3679465358717544695_54927492788',\n",
       "  'shortcode': 'DMQFj_Ftuj3',\n",
       "  'timestamp': 1752846580,\n",
       "  'like_count': 395,\n",
       "  'comment_count': 20,\n",
       "  'caption': 'كيفاش تتصرف مع المشاكيل ف Airbnb #المغرب #airbnb #simowow',\n",
       "  'media_type': 2,\n",
       "  'image_url': 'https://scontent.cdninstagram.com/v/t51.71878-15/522152637_1687081615337699_5834268831886526136_n.jpg?stp=dst-jpg_e15_tt6&_nc_cat=103&ig_cache_key=MzY3OTQ2NTM1ODcxNzU0NDY5NQ%3D%3D.3-ccb1-7&ccb=1-7&_nc_sid=58cdad&efg=eyJ2ZW5jb2RlX3RhZyI6InhwaWRzLjY0MHgxMTM2LnNkciJ9&_nc_ohc=KKZb09sSiicQ7kNvwFQUlBK&_nc_oc=AdkXPKg9VF9A4tITMOw88e-0pY5WgCjE9OzQ8E9dkq0byjpfz4JdVQz0eVJ-ulyJdi4&_nc_ad=z-m&_nc_cid=1736&_nc_zt=23&_nc_ht=scontent.cdninstagram.com&_nc_gid=oVNLLeQQzSQXn-X53Nv8Dg&oh=00_AfTgG76hi_6ekHAHot9MEH6r67KKGtwQcOfQknSZno_B7w&oe=68881ED0',\n",
       "  'video_url': 'https://instagram.frba2-1.fna.fbcdn.net/o1/v/t2/f2/m86/AQMJd3SZfaTeJ6fDesFhzgHtOk_FKFkTKS2kSsdBh7AegEf53uq75N0uD9LIY5EjRujYrbYX1fZnoMFPMpqKyxTuUtjO5EZl84oT1uI.mp4?_nc_cat=104&_nc_oc=AdkpOOJ-jRnkrQ3VS0Dpb-pFKHoWWhuOo-u4f4ozSA2a88goNLEfUvMm_RCBm0koqyw&_nc_sid=5e9851&_nc_ht=instagram.frba2-1.fna.fbcdn.net&_nc_ohc=H3Jpz33Xy_oQ7kNvwHBb-jh&efg=eyJ2ZW5jb2RlX3RhZyI6Inhwdl9wcm9ncmVzc2l2ZS5JTlNUQUdSQU0uQ0xJUFMuQzMuNzIwLmRhc2hfYmFzZWxpbmVfMV92MSIsInhwdl9hc3NldF9pZCI6MTc5ODk5NDU1NzY1OTE0OSwidmlfdXNlY2FzZV9pZCI6MTAwOTksImR1cmF0aW9uX3MiOjExMiwidXJsZ2VuX3NvdXJjZSI6Ind3dyJ9&ccb=17-1&vs=5bf66977450a14d1&_nc_vs=HBksFQIYUmlnX3hwdl9yZWVsc19wZXJtYW5lbnRfc3JfcHJvZC9ENTQyMTlGQzMyRkNDNzcwRUNBODg0RjM4MkNENTRBNV92aWRlb19kYXNoaW5pdC5tcDQVAALIARIAFQIYOnBhc3N0aHJvdWdoX2V2ZXJzdG9yZS9HR25NQlItbThFTVhCWGtFQU5pXzdLTHRKN1J4YnFfRUFBQUYVAgLIARIAKAAYABsCiAd1c2Vfb2lsATEScHJvZ3Jlc3NpdmVfcmVjaXBlATEVAAAmmqD_-KGLsgYVAigCQzMsF0BcO7ZFocrBGBJkYXNoX2Jhc2VsaW5lXzFfdjERAHX-B2XmnQEA&_nc_zt=28&oh=00_AfQ6pGQBqFLECLRD90QVdiHlNnu808cKIzbAkWfKrZzkHg&oe=68844A09'},\n",
       " {'id': '3678071156757328424_54927492788',\n",
       "  'shortcode': 'DMLIjrVIXIo',\n",
       "  'timestamp': 1752680400,\n",
       "  'like_count': 777,\n",
       "  'comment_count': 29,\n",
       "  'caption': 'الفرق بين دبي والمغرب #المغرب #العقار #دبي #dxb',\n",
       "  'media_type': 2,\n",
       "  'image_url': 'https://scontent.cdninstagram.com/v/t51.71878-15/520623775_3977241922499886_5253436008384301994_n.jpg?stp=dst-jpg_e15_tt6&_nc_cat=105&ig_cache_key=MzY3ODA3MTE1Njc1NzMyODQyNA%3D%3D.3-ccb1-7&ccb=1-7&_nc_sid=58cdad&efg=eyJ2ZW5jb2RlX3RhZyI6InhwaWRzLjY0MHgxMTM2LnNkciJ9&_nc_ohc=UP_ywvJQMO8Q7kNvwGGQO-A&_nc_oc=AdlveiEJicTJAZ05OdStVEoHLF214BEPPIkZOxeEo_UQ_YRvo_6jBPWmBQQGp8LzMvc&_nc_ad=z-m&_nc_cid=1736&_nc_zt=23&_nc_ht=scontent.cdninstagram.com&_nc_gid=oVNLLeQQzSQXn-X53Nv8Dg&oh=00_AfTurszZHNxnKz1jYV2Vyo0XU87pzp1kkZ7ZRVovn0ndgA&oe=68883E85',\n",
       "  'video_url': 'https://instagram.frba2-2.fna.fbcdn.net/o1/v/t2/f2/m86/AQMmmjk4JPgQMY0LZ2hLlg55K8S0zxF0whk0z9qgHzptkfFPJ10n8a-9uYmGPeAVqI-Dhak4FgjWy6R0dl4JafBFj7nEJ6-v4h1zML8.mp4?_nc_cat=110&_nc_oc=Adm3xlv7_Tgf0UPXMgIY2bBmkPBejKf1byFVZZWhxSd1iUiHx8y7bLsIludF__YCxAo&_nc_sid=5e9851&_nc_ht=instagram.frba2-2.fna.fbcdn.net&_nc_ohc=ZYg0jjkelowQ7kNvwHW-7Ny&efg=eyJ2ZW5jb2RlX3RhZyI6Inhwdl9wcm9ncmVzc2l2ZS5JTlNUQUdSQU0uQ0xJUFMuQzMuNzIwLmRhc2hfYmFzZWxpbmVfMV92MSIsInhwdl9hc3NldF9pZCI6Njg0OTM4Njg0NTQ0NTc4LCJ2aV91c2VjYXNlX2lkIjoxMDA5OSwiZHVyYXRpb25fcyI6MTA4LCJ1cmxnZW5fc291cmNlIjoid3d3In0%3D&ccb=17-1&vs=1b1fd018717511dd&_nc_vs=HBksFQIYUmlnX3hwdl9yZWVsc19wZXJtYW5lbnRfc3JfcHJvZC9GQzRGMkE3MTc5NjA3OTZCRTIzMDRDNDVDNkU4NzhCRl92aWRlb19kYXNoaW5pdC5tcDQVAALIARIAFQIYOnBhc3N0aHJvdWdoX2V2ZXJzdG9yZS9HTUNROVI3N0tLTEd5MlFHQU8zbEVIRTNSX0FBYnFfRUFBQUYVAgLIARIAKAAYABsCiAd1c2Vfb2lsATEScHJvZ3Jlc3NpdmVfcmVjaXBlATEVAAAmhNnh79a8twIVAigCQzMsF0BbK4UeuFHsGBJkYXNoX2Jhc2VsaW5lXzFfdjERAHX-B2XmnQEA&_nc_zt=28&oh=00_AfQvKKBWhNvLfhUiDZryZZvXH2aQ6r3kLwEB0b2kO9bTHA&oe=688430E7'},\n",
       " {'id': '3676822063340107447_54927492788',\n",
       "  'shortcode': 'DMGsi-btLa3',\n",
       "  'timestamp': 1752531571,\n",
       "  'like_count': 487,\n",
       "  'comment_count': 17,\n",
       "  'caption': '#المغرب #airbnb #طنجة #مراكش #أكادير',\n",
       "  'media_type': 2,\n",
       "  'image_url': 'https://scontent.cdninstagram.com/v/t51.71878-15/520825162_1288967195956804_7043760449162503994_n.jpg?stp=dst-jpg_e15_tt6&_nc_cat=102&ig_cache_key=MzY3NjgyMjA2MzM0MDEwNzQ0Nw%3D%3D.3-ccb1-7&ccb=1-7&_nc_sid=58cdad&efg=eyJ2ZW5jb2RlX3RhZyI6InhwaWRzLjY0MHgxMTM2LnNkciJ9&_nc_ohc=9JWVamQwZGUQ7kNvwEOnGxl&_nc_oc=AdmoXd8r3nAz6b-L-vZ8MvRBK_YvA9ef_ouZyU9tnSAEHIp0UMt-P7lrX5MlqgS238A&_nc_ad=z-m&_nc_cid=1736&_nc_zt=23&_nc_ht=scontent.cdninstagram.com&_nc_gid=oVNLLeQQzSQXn-X53Nv8Dg&oh=00_AfQa2g4qXgD5H5z_CEYFy0ejflixEFBbKtalZ6lZ945ccg&oe=68882585',\n",
       "  'video_url': 'https://instagram.frba2-2.fna.fbcdn.net/o1/v/t2/f2/m86/AQNSfXGhxekmg4EeT6lg7SjPuQNt4Ouy0gELvXv3APb4KplhSsYyfTNP8lkRdM3INlT50AWrb1KAQTI3nyaB_oEYfJCt-hqaQFUJ8qY.mp4?_nc_cat=101&_nc_oc=AdnqsPxMtuhw3ujWFA_yY5yK8rgRQ8If9iM5WwY3LJjo8U1ZqaUaXvhE6AnMtHKbAp4&_nc_sid=5e9851&_nc_ht=instagram.frba2-2.fna.fbcdn.net&_nc_ohc=B-bFT2D3ZG4Q7kNvwF7NDq8&efg=eyJ2ZW5jb2RlX3RhZyI6Inhwdl9wcm9ncmVzc2l2ZS5JTlNUQUdSQU0uQ0xJUFMuQzMuNzIwLmRhc2hfYmFzZWxpbmVfMV92MSIsInhwdl9hc3NldF9pZCI6MTQ2NTc2NDk3ODE3Njc5MSwidmlfdXNlY2FzZV9pZCI6MTAwOTksImR1cmF0aW9uX3MiOjExNCwidXJsZ2VuX3NvdXJjZSI6Ind3dyJ9&ccb=17-1&vs=6141e215c3c19bb2&_nc_vs=HBksFQIYUmlnX3hwdl9yZWVsc19wZXJtYW5lbnRfc3JfcHJvZC8xMTQzMjI0RUNBQTc2OTFGNjg0N0U5M0Q4MUQ2QURBNV92aWRlb19kYXNoaW5pdC5tcDQVAALIARIAFQIYOnBhc3N0aHJvdWdoX2V2ZXJzdG9yZS9HTndNNlI2Nkt0VnZnQ3NGQUkzUDdaMk5TNVpvYnFfRUFBQUYVAgLIARIAKAAYABsCiAd1c2Vfb2lsATEScHJvZ3Jlc3NpdmVfcmVjaXBlATEVAAAmrszJjeDGmgUVAigCQzMsF0BcgAAAAAAAGBJkYXNoX2Jhc2VsaW5lXzFfdjERAHX-B2XmnQEA&_nc_zt=28&oh=00_AfS-EXwYLhHwC9jIfgmEluy1cEviuPiHD5gHkHpc1VpMlg&oe=6884390E'},\n",
       " {'id': '3674479909745822716_54927492788',\n",
       "  'shortcode': 'DL-YAJ6tYv8',\n",
       "  'timestamp': 1752252274,\n",
       "  'like_count': 214,\n",
       "  'comment_count': 7,\n",
       "  'caption': 'علاه مال دبي #المغرب #العقار #airbnb',\n",
       "  'media_type': 2,\n",
       "  'image_url': 'https://scontent.cdninstagram.com/v/t51.71878-15/517348683_1251549463281493_361835231422733497_n.jpg?stp=dst-jpg_e15_tt6&_nc_cat=101&ig_cache_key=MzY3NDQ3OTkwOTc0NTgyMjcxNg%3D%3D.3-ccb1-7&ccb=1-7&_nc_sid=58cdad&efg=eyJ2ZW5jb2RlX3RhZyI6InhwaWRzLjY0MHgxMTM2LnNkciJ9&_nc_ohc=rZ0oIeOp-G4Q7kNvwEW1rNA&_nc_oc=Adm8EpFR4oFW0IQBbVHW-NeD_2oAQxZSy1QktKpWVbJe1KFaE-FcnYAu1cWgA4Qss3g&_nc_ad=z-m&_nc_cid=1736&_nc_zt=23&_nc_ht=scontent.cdninstagram.com&_nc_gid=oVNLLeQQzSQXn-X53Nv8Dg&oh=00_AfT6Wv9OUqPRE-X74pEpY5SnYehrWc0C30wJaoIzyZJjSw&oe=688810E7',\n",
       "  'video_url': 'https://instagram.frba2-2.fna.fbcdn.net/o1/v/t2/f2/m86/AQMMS7ciriyU2r5bsBTJ_kxa-Qpsf_JiV1IQdNDRU4X8QjGW-TMHKwUl1ft8MxhdSFc8oXS-52GrKmA4jFSt6VacoKtS55VvLow1e0c.mp4?_nc_cat=109&_nc_oc=Adk7GjnrBXwOOEZnwZmcvGgnlrtU_FIBXmEjZT9Fa9gQiJssOEM_DXH_V0cFRd8eJAc&_nc_sid=5e9851&_nc_ht=instagram.frba2-2.fna.fbcdn.net&_nc_ohc=vTc5rsBbAVwQ7kNvwFAbXhX&efg=eyJ2ZW5jb2RlX3RhZyI6Inhwdl9wcm9ncmVzc2l2ZS5JTlNUQUdSQU0uQ0xJUFMuQzMuNzIwLmRhc2hfYmFzZWxpbmVfMV92MSIsInhwdl9hc3NldF9pZCI6MTk2MjU5NjI1NDU1NTA5OCwidmlfdXNlY2FzZV9pZCI6MTAwOTksImR1cmF0aW9uX3MiOjEyMSwidXJsZ2VuX3NvdXJjZSI6Ind3dyJ9&ccb=17-1&vs=b45ffe228825495f&_nc_vs=HBksFQIYUmlnX3hwdl9yZWVsc19wZXJtYW5lbnRfc3JfcHJvZC85ODQ3MEM1RjY4M0JFRkY5MjE2NEIzMzNBQjVGRTVBMF92aWRlb19kYXNoaW5pdC5tcDQVAALIARIAFQIYOnBhc3N0aHJvdWdoX2V2ZXJzdG9yZS9HREJCdEI2V0hkaTNCTHdEQU1BSjV1MmJRWnhZYnFfRUFBQUYVAgLIARIAKAAYABsCiAd1c2Vfb2lsATEScHJvZ3Jlc3NpdmVfcmVjaXBlATEVAAAmtO-4yZG-_AYVAigCQzMsF0BeVHrhR64UGBJkYXNoX2Jhc2VsaW5lXzFfdjERAHX-B2XmnQEA&_nc_zt=28&oh=00_AfQauAUOLfoWyM3d6OZXWx8EYoI5j42OdHRQ7FnbC-5W3A&oe=68844506'},\n",
       " {'id': '3673857438457929313_54927492788',\n",
       "  'shortcode': 'DL8KeAWth5h',\n",
       "  'timestamp': 1752178068,\n",
       "  'like_count': 95,\n",
       "  'comment_count': 14,\n",
       "  'caption': 'خرافات حول العقار بدبي #المغرب #دبي #mre',\n",
       "  'media_type': 2,\n",
       "  'image_url': 'https://scontent.cdninstagram.com/v/t51.71878-15/517997405_1279047380404257_751199162683429632_n.jpg?stp=dst-jpg_e15_tt6&_nc_cat=104&ig_cache_key=MzY3Mzg1NzQzODQ1NzkyOTMxMw%3D%3D.3-ccb1-7&ccb=1-7&_nc_sid=58cdad&efg=eyJ2ZW5jb2RlX3RhZyI6InhwaWRzLjY0MHgxMTM2LnNkciJ9&_nc_ohc=R6nfJnf6G64Q7kNvwFRUk_2&_nc_oc=AdkYShngZW5BeRwmOcykII1PMj6PDQCDkyy0She3ujrihYqeblwKX1Dmy9YzQy_FmPc&_nc_ad=z-m&_nc_cid=1736&_nc_zt=23&_nc_ht=scontent.cdninstagram.com&_nc_gid=oVNLLeQQzSQXn-X53Nv8Dg&oh=00_AfQe7VhVX1qhExWaKbcbrDB_vhiNQsCLNXT_-m7taJeN3w&oe=68882296',\n",
       "  'video_url': 'https://instagram.frba2-2.fna.fbcdn.net/o1/v/t2/f2/m86/AQPYT8z-Ao4glXEgiMTvGVGXtQyH9pU4HX9KNqJEM9rAX_CWPMWNy5xkaV1yDZ9SUiAvsKR55KkS5HnoMlmRf7NR8pw5u2MbQ_WmBjM.mp4?_nc_cat=110&_nc_oc=Admw3rVsDs9J5ZWN4lqtrxsg4BCo8MUhQIq_uh4Bpmv_iPgqnVMX4xjUGSk5cRYlbRU&_nc_sid=5e9851&_nc_ht=instagram.frba2-2.fna.fbcdn.net&_nc_ohc=lDj3RgQ8KQ0Q7kNvwGAnUxJ&efg=eyJ2ZW5jb2RlX3RhZyI6Inhwdl9wcm9ncmVzc2l2ZS5JTlNUQUdSQU0uQ0xJUFMuQzMuNzIwLmRhc2hfYmFzZWxpbmVfMV92MSIsInhwdl9hc3NldF9pZCI6MTQxNjAyNjgxOTY0MjA5NCwidmlfdXNlY2FzZV9pZCI6MTAwOTksImR1cmF0aW9uX3MiOjg2LCJ1cmxnZW5fc291cmNlIjoid3d3In0%3D&ccb=17-1&vs=4c286781e37084c0&_nc_vs=HBksFQIYUmlnX3hwdl9yZWVsc19wZXJtYW5lbnRfc3JfcHJvZC8zRDREMjJEMzQ4RDUyMDExMThGMjU4NkMwRTIzRkFCRV92aWRlb19kYXNoaW5pdC5tcDQVAALIARIAFQIYOnBhc3N0aHJvdWdoX2V2ZXJzdG9yZS9HSzk0eVI2LWVHZGprZTRFQUpQU0NxeXYyanR3YnFfRUFBQUYVAgLIARIAKAAYABsCiAd1c2Vfb2lsATEScHJvZ3Jlc3NpdmVfcmVjaXBlATEVAAAm3Iue-c33gwUVAigCQzMsF0BVuFHrhR64GBJkYXNoX2Jhc2VsaW5lXzFfdjERAHX-B2XmnQEA&_nc_zt=28&oh=00_AfQ5r2VuIgBotHhd3sYp5P_XA6_G8t51s1X4pr2fO9zcsg&oe=68844FEB'},\n",
       " {'id': '3673803411534635725_1571632202',\n",
       "  'shortcode': 'DL7-Lz3I-LN',\n",
       "  'timestamp': 1752171904,\n",
       "  'like_count': 1657,\n",
       "  'comment_count': 31,\n",
       "  'caption': '\\u2068\\tرضا الناس غاية لا تُدرك ✨\\n\\nلا تحاول إرضاء كل الناس، ولا تستهلك نفسك في سباق المقارنات. عش ببساطة، اصرف على قد جهدك، وامشِ في طريقك بثبات. التطور لا يأتي دفعة واحدة، بل بخطوات صغيرة تبني لك مستقبلًا كبيرًا. خليك واقعي، وعيش على قدّك، والله يرزقك على قد نيتك.\\n.\\nالفيديو كامل موجود على قناة Simowow\\n.\\n.\\n#محتوى_هادف #المغرب #fyp #finance #economia #podcast\\u2069',\n",
       "  'media_type': 2,\n",
       "  'image_url': 'https://scontent.cdninstagram.com/v/t51.71878-15/517997407_2705369773007010_1014085841427427225_n.jpg?stp=dst-jpg_e15_tt6&_nc_cat=109&ig_cache_key=MzY3MzgwMzQxMTUzNDYzNTcyNQ%3D%3D.3-ccb1-7&ccb=1-7&_nc_sid=58cdad&efg=eyJ2ZW5jb2RlX3RhZyI6InhwaWRzLjY0MHgxMTM2LnNkciJ9&_nc_ohc=4nOPFX6v2iwQ7kNvwHB73WN&_nc_oc=Adl3bWFXOZJEeMWvz8IbU3LSwI5Yt3aHIN188vNqwmUWkTwNPmpBBiVkf_RfLVPV8kk&_nc_ad=z-m&_nc_cid=1736&_nc_zt=23&_nc_ht=scontent.cdninstagram.com&_nc_gid=oVNLLeQQzSQXn-X53Nv8Dg&oh=00_AfR17gxMjAc6Qon7Sx3CfCwbx_S0Lx1hThE6GXTLn8U2iw&oe=688825C7',\n",
       "  'video_url': 'https://instagram.frba2-1.fna.fbcdn.net/o1/v/t2/f2/m86/AQNEAP244OrYbtrNTis2guhEojWCsiZPlQ3OOzcHOUPxUVG4Mlt6aWtdPHe4zHa4oGJZ6Y2s460UH2cDh9ttM_eF_WCJr8WO7tYzA7s.mp4?_nc_cat=102&_nc_oc=Adke1pG1DQCLjwUWkUFT6ZXJ9_uFfGu2LPpo2I-8vLNOWFi_iTMeGk20WH-AD-WuWIY&_nc_sid=5e9851&_nc_ht=instagram.frba2-1.fna.fbcdn.net&_nc_ohc=BTtWWmm6ODAQ7kNvwG-AEU3&efg=eyJ2ZW5jb2RlX3RhZyI6Inhwdl9wcm9ncmVzc2l2ZS5JTlNUQUdSQU0uQ0xJUFMuQzMuNzIwLmRhc2hfYmFzZWxpbmVfMV92MSIsInhwdl9hc3NldF9pZCI6MTA2ODU5NjkzODc5MzU5MSwidmlfdXNlY2FzZV9pZCI6MTAwOTksImR1cmF0aW9uX3MiOjU1LCJ1cmxnZW5fc291cmNlIjoid3d3In0%3D&ccb=17-1&vs=d10c4a7662c4a327&_nc_vs=HBksFQIYUmlnX3hwdl9yZWVsc19wZXJtYW5lbnRfc3JfcHJvZC82MzQxRTdFQzE2NzQ1QkJENkFFQzA0NDlGQjJDMkNBRF92aWRlb19kYXNoaW5pdC5tcDQVAALIARIAFQIYOnBhc3N0aHJvdWdoX2V2ZXJzdG9yZS9HRHlPMVI3dHpqVjNob0VDQVA4aE0tMzQ3OFVfYnFfRUFBQUYVAgLIARIAKAAYABsCiAd1c2Vfb2lsATEScHJvZ3Jlc3NpdmVfcmVjaXBlATEVAAAm7omPz8P45QMVAigCQzMsF0BL3dLxqfvnGBJkYXNoX2Jhc2VsaW5lXzFfdjERAHX-B2XmnQEA&_nc_zt=28&oh=00_AfR8dCkH2Zoo5-7LLCrNZKf6wbvxQWIM9L5aorTuNvrm_g&oe=68844F2B'},\n",
       " {'id': '3671000865138122818_54927492788',\n",
       "  'shortcode': 'DLyA9ZItaBC',\n",
       "  'timestamp': 1751837447,\n",
       "  'like_count': 225,\n",
       "  'comment_count': 19,\n",
       "  'caption': '',\n",
       "  'media_type': 2,\n",
       "  'image_url': 'https://instagram.frba2-1.fna.fbcdn.net/v/t51.2885-15/516200192_17988890759828789_9018507604250261565_n.jpg?stp=dst-jpg_e15_tt6&efg=eyJ2ZW5jb2RlX3RhZyI6IkNMSVBTLmltYWdlX3VybGdlbi4zMjB4NTY5LnNkci5mODI3ODcuZGVmYXVsdF9jb3Zlcl9mcmFtZS5jMiJ9&_nc_ht=instagram.frba2-1.fna.fbcdn.net&_nc_cat=105&_nc_oc=Q6cZ2QEOi93jB6sh2j8AZ1Mtu7WEOslpxdw0KjfUsIWX-Mpnu806pTsrd1cmdKk_nZ_hLDU&_nc_ohc=Qx4jIPbFE1MQ7kNvwFB54ne&_nc_gid=xuJuk8BOEr31V9RYYppBjg&edm=ABmJApABAAAA&ccb=7-5&ig_cache_key=MzY3MTAwMDg2NTEzODEyMjgxOA%3D%3D.3-ccb7-5&oh=00_AfQ1v0eRg0zkc02ezG18vkzDGG-68vU8jEXpLRrFp-Q0zg&oe=68883499&_nc_sid=b41fef',\n",
       "  'video_url': 'https://instagram.frba2-1.fna.fbcdn.net/o1/v/t16/f2/m69/AQMNCyv2B0KOJf_YQ31T1zLrdb65QyN3UWs6NOuVy_onMjiWjWCKFe3N04zUfjY08NZM76cGZA4L7O8VkukHIcyO.mp4?stp=dst-mp4&efg=eyJxZV9ncm91cHMiOiJbXCJpZ193ZWJfZGVsaXZlcnlfdnRzX290ZlwiXSIsInZlbmNvZGVfdGFnIjoidnRzX3ZvZF91cmxnZW4uY2xpcHMuYzIuNzIwLmJhc2VsaW5lIn0&_nc_cat=105&vs=1389776028995885_4142177422&_nc_vs=HBksFQIYOnBhc3N0aHJvdWdoX2V2ZXJzdG9yZS9HSUNXbUFBNFBZOXp3X29EQUdtUFh1eUdrT2xBYnFDQkFBQUYVAALIARIAFQIYOnBhc3N0aHJvdWdoX2V2ZXJzdG9yZS9HTGtLdEI1Z0hRNnJtb2tDQUYyU0dxX1lRdU5DYnFDQkFBQUYVAgLIARIAKAAYABsAFQAAJtCQmszMttI%2FFQIoAkMzLBdArB%2B52yLQ5RgSZGFzaF9iYXNlbGluZV8xX3YxEQB1%2Fgdl7J0BAA%3D%3D&ccb=9-4&oh=00_AfQkT-hEiD_Pwlp6IfmXkH146OgauqxLNSovoXsJF30aQQ&oe=68842975&_nc_sid=b41fef'},\n",
       " {'id': '3668051747940302917_1571632202',\n",
       "  'shortcode': 'DLniaFtu4BF',\n",
       "  'timestamp': 1751486090,\n",
       "  'like_count': 244,\n",
       "  'comment_count': 12,\n",
       "  'caption': 'تفرجتي ؟ 😇\\n.\\n.\\n.\\n.\\n.\\n.\\n#fyp #economia #airbnb #finance #morocco',\n",
       "  'media_type': 2,\n",
       "  'image_url': 'https://scontent.cdninstagram.com/v/t51.71878-15/515015595_1778355663087624_4099140840113210253_n.jpg?stp=dst-jpg_e15_tt6&_nc_cat=107&ig_cache_key=MzY2ODA1MTc0Nzk0MDMwMjkxNw%3D%3D.3-ccb1-7&ccb=1-7&_nc_sid=58cdad&efg=eyJ2ZW5jb2RlX3RhZyI6InhwaWRzLjY0MHgxMTM2LnNkciJ9&_nc_ohc=c2unGLm9JJ0Q7kNvwE8nB8g&_nc_oc=AdkwP4vazco2tQpUdE_HSQipY8EOmhIpH9Vz0WjkptE9Xqbw2-G7Gbz_VDo22akur7A&_nc_ad=z-m&_nc_cid=1736&_nc_zt=23&_nc_ht=scontent.cdninstagram.com&_nc_gid=xuJuk8BOEr31V9RYYppBjg&oh=00_AfQnDFjc8nObbh038I0fyTWrtJKCRIWzjSr7lyT6shpmLw&oe=68882939',\n",
       "  'video_url': 'https://instagram.frba2-2.fna.fbcdn.net/o1/v/t2/f2/m86/AQOoGULKbjpPPQkaENsrwSXa-EtnPdklWIz7d831iufunEwlMQSSm99bJ-Hm3hb1xOSNFn1ev5U1rPaVTCV-fltpSl2GfuMnVbQikZ8.mp4?_nc_cat=103&_nc_oc=AdlZd-A4EkLKJ4oA4uejLh7BtGlxQvqLF6sK4m179tCwtSd8ZmJBDLasMDmq1tft5p4&_nc_sid=5e9851&_nc_ht=instagram.frba2-2.fna.fbcdn.net&_nc_ohc=2Y1pwaLXXD8Q7kNvwH8fuO5&efg=eyJ2ZW5jb2RlX3RhZyI6Inhwdl9wcm9ncmVzc2l2ZS5JTlNUQUdSQU0uQ0xJUFMuQzMuNzIwLmRhc2hfYmFzZWxpbmVfMV92MSIsInhwdl9hc3NldF9pZCI6MTA3OTI0NzI3NzYwMjQxNSwidmlfdXNlY2FzZV9pZCI6MTAwOTksImR1cmF0aW9uX3MiOjU1LCJ3YXRjaF90aW1lX3MiOjEwNzUwNCwidXJsZ2VuX3NvdXJjZSI6Ind3dyJ9&ccb=17-1&vs=738ebb30d9d0a6f4&_nc_vs=HBksFQIYUmlnX3hwdl9yZWVsc19wZXJtYW5lbnRfc3JfcHJvZC8zNzQ3MjA3Mzg3MjQxMjkyOEE3RDA2MDUxNzVCMUI5Ql92aWRlb19kYXNoaW5pdC5tcDQVAALIARIAFQIYOnBhc3N0aHJvdWdoX2V2ZXJzdG9yZS9HRGt6dEI3eW1PNUR2SG9FQUUtS1BwRVdVckFuYnFfRUFBQUYVAgLIARIAKAAYABsCiAd1c2Vfb2lsATEScHJvZ3Jlc3NpdmVfcmVjaXBlATEVAAAm3tnZ6brk6gMVAigCQzMsF0BLo9cKPXCkGBJkYXNoX2Jhc2VsaW5lXzFfdjERAHX-B2XmnQEA&_nc_zt=28&oh=00_AfRYNsQa2nwhDbXpT6aEspFultEHVSyA7m9cywOFJ2Mouw&oe=68842178'},\n",
       " {'id': '3665880256163342912_1571632202',\n",
       "  'shortcode': 'DLf0quZu-pA',\n",
       "  'timestamp': 1751227319,\n",
       "  'like_count': 1089,\n",
       "  'comment_count': 28,\n",
       "  'caption': 'عندك كريدي ؟ \\n.\\n.\\n.\\n.\\n#بنوك #economia #المغرب #قروض_بنكيه #fyp\\u2069',\n",
       "  'media_type': 2,\n",
       "  'image_url': 'https://scontent.cdninstagram.com/v/t51.71878-15/513853583_1274299561070670_4680530724443078486_n.jpg?stp=dst-jpg_e15_tt6&_nc_cat=100&ig_cache_key=MzY2NTg4MDI1NjE2MzM0MjkxMg%3D%3D.3-ccb1-7&ccb=1-7&_nc_sid=58cdad&efg=eyJ2ZW5jb2RlX3RhZyI6InhwaWRzLjY0MHgxMTM2LnNkciJ9&_nc_ohc=iBeDkQA5TAcQ7kNvwH58aQo&_nc_oc=AdmCsIIHdA2fngiXdvTT2tFrQX4d45yBFPWwsVo3JL-acjRN4XKEcz_NlHkw38Fcxq4&_nc_ad=z-m&_nc_cid=1736&_nc_zt=23&_nc_ht=scontent.cdninstagram.com&_nc_gid=xuJuk8BOEr31V9RYYppBjg&oh=00_AfSvs0s4vFMIyiKBs32em4DNqapvkTZPvP5xXbaRpV4D2Q&oe=688834D4',\n",
       "  'video_url': 'https://instagram.frba2-1.fna.fbcdn.net/o1/v/t2/f2/m86/AQO6viM98l8uZ6zTiNM6NIVxA1NhwfQTs2M_IQNZ0gQ29n_efTs9cPtb-TKRN3aemi2nFJla0HjLcK-1cafuDAMpOLdypQeAxOD_IJQ.mp4?_nc_cat=107&_nc_oc=AdmEUMc9u9xKSY4cOEQEU3SBW7l20689LlqGCSPCuoAu_5sLlFmseWl3gzxMnhJCNGw&_nc_sid=5e9851&_nc_ht=instagram.frba2-1.fna.fbcdn.net&_nc_ohc=qkQp0Z06AZoQ7kNvwEuP0oX&efg=eyJ2ZW5jb2RlX3RhZyI6Inhwdl9wcm9ncmVzc2l2ZS5JTlNUQUdSQU0uQ0xJUFMuQzMuNzIwLmRhc2hfYmFzZWxpbmVfMV92MSIsInhwdl9hc3NldF9pZCI6OTMyMDQzNzUyMzg3MDQyLCJ2aV91c2VjYXNlX2lkIjoxMDA5OSwiZHVyYXRpb25fcyI6NzgsInVybGdlbl9zb3VyY2UiOiJ3d3cifQ%3D%3D&ccb=17-1&vs=d184de73897b9ee4&_nc_vs=HBksFQIYUmlnX3hwdl9yZWVsc19wZXJtYW5lbnRfc3JfcHJvZC83RDRGMUE1RjFFNUYwOTRENEJERUI2NDEyQTgwQURCRl92aWRlb19kYXNoaW5pdC5tcDQVAALIARIAFQIYOnBhc3N0aHJvdWdoX2V2ZXJzdG9yZS9HRmdDdEI2UGZZb1RZMThHQUJWdmJ2aGpSWk5yYnFfRUFBQUYVAgLIARIAKAAYABsCiAd1c2Vfb2lsATEScHJvZ3Jlc3NpdmVfcmVjaXBlATEVAAAmxMe1jIvspwMVAigCQzMsF0BTlU_fO2RaGBJkYXNoX2Jhc2VsaW5lXzFfdjERAHX-B2XmnQEA&_nc_zt=28&oh=00_AfS3PiKbS112sU9V8_z7yAUw-JYAV714BxhbuenFQxdtng&oe=68843F14'},\n",
       " {'id': '3664785354654162481_1818506767',\n",
       "  'shortcode': 'DLb7tz6Nx4x',\n",
       "  'timestamp': 1751096577,\n",
       "  'like_count': 2866,\n",
       "  'comment_count': 42,\n",
       "  'caption': 'مراكش البهجة وتفتفتها الشعبية #marocco🇲🇦 #marrakech #tourism #visitmorocco🇲🇦 #guideturismo #agadircity #iguides_photo #tourisme #مراكش_الحمراء',\n",
       "  'media_type': 2,\n",
       "  'image_url': 'https://scontent.cdninstagram.com/v/t51.71878-15/511599246_1365355321235203_3678783633197997063_n.jpg?stp=dst-jpg_e15_tt6&_nc_cat=105&ig_cache_key=MzY2NDc4NTM1NDY1NDE2MjQ4MQ%3D%3D.3-ccb1-7&ccb=1-7&_nc_sid=58cdad&efg=eyJ2ZW5jb2RlX3RhZyI6InhwaWRzLjY0MHgxMTM4LnNkciJ9&_nc_ohc=kMh0ZnNsjHkQ7kNvwE9CNH7&_nc_oc=AdlCPD-hLqbBAFVUCkojhNVc5tuYwE-hbZozMyEBodGJakN9EYTsXAVTQLeQWkulcWE&_nc_ad=z-m&_nc_cid=1736&_nc_zt=23&_nc_ht=scontent.cdninstagram.com&_nc_gid=xuJuk8BOEr31V9RYYppBjg&oh=00_AfS4dWSkTlTeitwZnXsmnGMdjbhOasz5XS6aZ92t9u-3QQ&oe=6888241E',\n",
       "  'video_url': 'https://instagram.frba2-1.fna.fbcdn.net/o1/v/t2/f2/m86/AQOB2SlFo1e0WAZTBKJGxF-_Ksfy9bcrhloxPifn32_51TvXivJwG5VFNnVhqaXrNOCEd4xNzZlvJDQghNqodDpHeZ1StYEs8AiZa2w.mp4?_nc_cat=100&_nc_oc=AdkYC1LJVwGghuXOwA24SIYr7KMjMPwyD4MICoo3hcNcSBVrGBGJjHKjO0ki0pt1VHw&_nc_sid=5e9851&_nc_ht=instagram.frba2-1.fna.fbcdn.net&_nc_ohc=A25wYZ1BUuYQ7kNvwERDi2e&efg=eyJ2ZW5jb2RlX3RhZyI6Inhwdl9wcm9ncmVzc2l2ZS5JTlNUQUdSQU0uQ0xJUFMuQzMuNDgwLmRhc2hfYmFzZWxpbmVfMV92MSIsInhwdl9hc3NldF9pZCI6MTI1MjkzMTQ3MjM0NzQwNSwidmlfdXNlY2FzZV9pZCI6MTAwOTksImR1cmF0aW9uX3MiOjEzOCwidXJsZ2VuX3NvdXJjZSI6Ind3dyJ9&ccb=17-1&vs=e62b4817cecd73bf&_nc_vs=HBksFQIYUmlnX3hwdl9yZWVsc19wZXJtYW5lbnRfc3JfcHJvZC9DNzQ1NTM1MUIyMEYyQkU0NEQ0MUVCMTQxMUNFQjNBQl92aWRlb19kYXNoaW5pdC5tcDQVAALIARIAFQIYOnBhc3N0aHJvdWdoX2V2ZXJzdG9yZS9HTVJBcFI2M0RmU1BicVlqQUZERVlDYVlRZVlIYnFfRUFBQUYVAgLIARIAKAAYABsCiAd1c2Vfb2lsATEScHJvZ3Jlc3NpdmVfcmVjaXBlATEVAAAmmsSy9ZriuQQVAigCQzMsF0BhWFHrhR64GBJkYXNoX2Jhc2VsaW5lXzFfdjERAHX-B2XmnQEA&_nc_zt=28&oh=00_AfQy0Ay6w-3E_TGNkMNYalNh9usv-mUp5VXA59tG7J6YsA&oe=68844375'},\n",
       " {'id': '3662791688716663051_54927492788',\n",
       "  'shortcode': 'DLU2aJ0NbkL',\n",
       "  'timestamp': 1750858945,\n",
       "  'like_count': 261,\n",
       "  'comment_count': 4,\n",
       "  'caption': 'اش خاص طنجة 😱#المغرب #العقار #simowow',\n",
       "  'media_type': 2,\n",
       "  'image_url': 'https://scontent.cdninstagram.com/v/t51.71878-15/511537584_2591521051195586_6507581012192798341_n.jpg?stp=dst-jpg_e15_tt6&_nc_cat=111&ig_cache_key=MzY2Mjc5MTY4ODcxNjY2MzA1MQ%3D%3D.3-ccb1-7&ccb=1-7&_nc_sid=58cdad&efg=eyJ2ZW5jb2RlX3RhZyI6InhwaWRzLjY0MHgxMTM2LnNkciJ9&_nc_ohc=JUIiPbhV9O0Q7kNvwHOkOUN&_nc_oc=AdnlqzVcs7HI5rnTNF5pDnDKatqkg7Y0zg9wTkI52IIVw-gyNG2LGgPcaMpLTS6di2c&_nc_ad=z-m&_nc_cid=1736&_nc_zt=23&_nc_ht=scontent.cdninstagram.com&_nc_gid=xuJuk8BOEr31V9RYYppBjg&oh=00_AfSPrlaB6wFCfRsGM2R8C5AsmrMU9TPQf1iEQqQnSIS_Ww&oe=68881AC7',\n",
       "  'video_url': 'https://instagram.frba2-1.fna.fbcdn.net/o1/v/t2/f2/m86/AQMIKLhGaH083mobCGZ_05W6_lDY21Mp1qsDcVAqmx67VGxaWl_jnCmJMmWKl_suyrKZ02Y31MtfztPcKUnUQYvVQfKRtlnNf_gHQRw.mp4?_nc_cat=107&_nc_oc=AdmZC4hOUQpT0voJWu6RVnsbH0FPUDxKrTpVjXHr1xleThqBw_Lpu5d8zJgLnnpQTF8&_nc_sid=5e9851&_nc_ht=instagram.frba2-1.fna.fbcdn.net&_nc_ohc=iPadn9yweZcQ7kNvwE2Nqsc&efg=eyJ2ZW5jb2RlX3RhZyI6Inhwdl9wcm9ncmVzc2l2ZS5JTlNUQUdSQU0uQ0xJUFMuQzMuNzIwLmRhc2hfYmFzZWxpbmVfMV92MSIsInhwdl9hc3NldF9pZCI6NjkyMTExMTU2OTc5NTUyLCJ2aV91c2VjYXNlX2lkIjoxMDA5OSwiZHVyYXRpb25fcyI6NjksInVybGdlbl9zb3VyY2UiOiJ3d3cifQ%3D%3D&ccb=17-1&vs=47fef7775b442d8b&_nc_vs=HBksFQIYUmlnX3hwdl9yZWVsc19wZXJtYW5lbnRfc3JfcHJvZC9GRjRBQ0RCMUZFQTI4QkFERkE0MzlGNzMwMjBCN0JBNl92aWRlb19kYXNoaW5pdC5tcDQVAALIARIAFQIYOnBhc3N0aHJvdWdoX2V2ZXJzdG9yZS9HSzMtaHg1OVQwa1V0YUFEQUZmeHRucGpOTk5PYnFfRUFBQUYVAgLIARIAKAAYABsCiAd1c2Vfb2lsATEScHJvZ3Jlc3NpdmVfcmVjaXBlATEVAAAmwJ3B-pXeugIVAigCQzMsF0BRczMzMzMzGBJkYXNoX2Jhc2VsaW5lXzFfdjERAHX-B2XmnQEA&_nc_zt=28&oh=00_AfSjOpwlmZe6vSLSYGmGtTtuavQOGxtH8u14PQY_QFP9eQ&oe=68842DBC'},\n",
       " {'id': '3658481773676071799_54927492788',\n",
       "  'shortcode': 'DLFicopNAt3',\n",
       "  'timestamp': 1750345274,\n",
       "  'like_count': 226,\n",
       "  'comment_count': 10,\n",
       "  'caption': 'زاوية 📐 مختلفة لترويج السياحة 😉#المغرب #العقار #airbnb #طنجة',\n",
       "  'media_type': 2,\n",
       "  'image_url': 'https://scontent.cdninstagram.com/v/t51.71878-15/504354927_1130641238871663_8652828699217030819_n.jpg?stp=dst-jpg_e15_tt6&_nc_cat=107&ig_cache_key=MzY1ODQ4MTc3MzY3NjA3MTc5OQ%3D%3D.3-ccb1-7&ccb=1-7&_nc_sid=58cdad&efg=eyJ2ZW5jb2RlX3RhZyI6InhwaWRzLjY0MHgxMTM2LnNkciJ9&_nc_ohc=J3JO6TQ0JekQ7kNvwFHp7eQ&_nc_oc=Adlkpm-7q7lohfgmM29PkGfqIvmxcjJAAKi1E7aIDICx-pigJkWudimcfVB-QEribI4&_nc_ad=z-m&_nc_cid=1736&_nc_zt=23&_nc_ht=scontent.cdninstagram.com&_nc_gid=xuJuk8BOEr31V9RYYppBjg&oh=00_AfRRolobHyl1gqtwF67XHe8V0vp-05xebpSC4g9_9c5hLg&oe=68883A0D',\n",
       "  'video_url': 'https://instagram.frba2-2.fna.fbcdn.net/o1/v/t2/f2/m86/AQME9Ph1ISVebnh9kW-Y-8lL5YNP7RKNlOQdIN6wATUTonaFzKtgyWYg7VP_7E7FC-zRF3k5hHd31l2ejlrjkff1_MFTr-Fg_WO2mdk.mp4?_nc_cat=101&_nc_oc=Adncq51voEtdVamOIS99E3g56cPVNmPNnzGf60r9HW2jsL_zqJIoQPETcZKKkD5TTbI&_nc_sid=5e9851&_nc_ht=instagram.frba2-2.fna.fbcdn.net&_nc_ohc=mb4QXsYpahMQ7kNvwHG7LNk&efg=eyJ2ZW5jb2RlX3RhZyI6Inhwdl9wcm9ncmVzc2l2ZS5JTlNUQUdSQU0uQ0xJUFMuQzMuNzIwLmRhc2hfYmFzZWxpbmVfMV92MSIsInhwdl9hc3NldF9pZCI6MTA1MjkxOTk1Njk3MzQxOCwidmlfdXNlY2FzZV9pZCI6MTAwOTksImR1cmF0aW9uX3MiOjExMSwidXJsZ2VuX3NvdXJjZSI6Ind3dyJ9&ccb=17-1&vs=6a21965e5096a4a2&_nc_vs=HBksFQIYUmlnX3hwdl9yZWVsc19wZXJtYW5lbnRfc3JfcHJvZC9CMDQwQjJDMDM5MEUwRkM2Q0I2RDJFQkM4NERCRTNBM192aWRlb19kYXNoaW5pdC5tcDQVAALIARIAFQIYOnBhc3N0aHJvdWdoX2V2ZXJzdG9yZS9HT1BoVVI2Wmg3eHNJemNGQU56MTJYbW9wMjhFYnFfRUFBQUYVAgLIARIAKAAYABsCiAd1c2Vfb2lsATEScHJvZ3Jlc3NpdmVfcmVjaXBlATEVAAAm1J2ZgIHo3gMVAigCQzMsF0Bb5mZmZmZmGBJkYXNoX2Jhc2VsaW5lXzFfdjERAHX-B2XmnQEA&_nc_zt=28&oh=00_AfTRVXAz4w7zt7LTMruxlDI6jo38XNFAfHZDg5HLBlIMJA&oe=68841C1A'},\n",
       " {'id': '3654116383529593651_54927492788',\n",
       "  'shortcode': 'DK2B32QN2sz',\n",
       "  'timestamp': 1749824745,\n",
       "  'like_count': 276,\n",
       "  'comment_count': 4,\n",
       "  'caption': '“المغاربة كيبنيو وكيضيعو فلوسهم… غير حيت تجاهلو المهندس!#المغرب #العقار #مراكش',\n",
       "  'media_type': 2,\n",
       "  'image_url': 'https://scontent.cdninstagram.com/v/t51.71878-15/503841731_732098012673327_5831114682391763147_n.jpg?stp=dst-jpg_e15_tt6&_nc_cat=106&ig_cache_key=MzY1NDExNjM4MzUyOTU5MzY1MQ%3D%3D.3-ccb1-7&ccb=1-7&_nc_sid=58cdad&efg=eyJ2ZW5jb2RlX3RhZyI6InhwaWRzLjY0MHgxMTM2LnNkciJ9&_nc_ohc=nysWdlAlcnoQ7kNvwEHQPjK&_nc_oc=Adm3R7rM6TK1f6MmcCjpDGfD3QyjSSUoAxGxvM4-q1QiBBlABUTFgtza4ybLUtbMRqE&_nc_ad=z-m&_nc_cid=1736&_nc_zt=23&_nc_ht=scontent.cdninstagram.com&_nc_gid=xuJuk8BOEr31V9RYYppBjg&oh=00_AfRymduAaEHxKUbjgnku6zCC-Z0daa0RfTqE38PvhQo9Ig&oe=688816EF',\n",
       "  'video_url': 'https://instagram.frba2-2.fna.fbcdn.net/o1/v/t2/f2/m86/AQNfw1QHXSAQ3vsnrAzKqdIDVm7MT0DcbmapTeUc9LbswQY1oRzvBla_VgDs-1I_PfFkw61Iixs4Rwx680r3_CVbIGi4mRQFcRDZdE0.mp4?_nc_cat=109&_nc_oc=AdmjDn4zqecv3NWXKv030La5q8yiynqfG11OQgqAOgD8DPmlk7GAgy-kTPnQB8H7le8&_nc_sid=5e9851&_nc_ht=instagram.frba2-2.fna.fbcdn.net&_nc_ohc=DcGQeCabiMsQ7kNvwG8wzg2&efg=eyJ2ZW5jb2RlX3RhZyI6Inhwdl9wcm9ncmVzc2l2ZS5JTlNUQUdSQU0uQ0xJUFMuQzMuNzIwLmRhc2hfYmFzZWxpbmVfMV92MSIsInhwdl9hc3NldF9pZCI6NzE4NTM2NzE3MzkyNTc0LCJ2aV91c2VjYXNlX2lkIjoxMDA5OSwiZHVyYXRpb25fcyI6NTAsInVybGdlbl9zb3VyY2UiOiJ3d3cifQ%3D%3D&ccb=17-1&vs=8363ce549f424a17&_nc_vs=HBksFQIYUmlnX3hwdl9yZWVsc19wZXJtYW5lbnRfc3JfcHJvZC85QzRDMkJEMUUzODRDOTcwRUI4MTQ0NTgwRDc3QkI5Rl92aWRlb19kYXNoaW5pdC5tcDQVAALIARIAFQIYOnBhc3N0aHJvdWdoX2V2ZXJzdG9yZS9HSkN5TGg0TzRieGdhR3NFQUt5T184dUFreEpjYnFfRUFBQUYVAgLIARIAKAAYABsCiAd1c2Vfb2lsATEScHJvZ3Jlc3NpdmVfcmVjaXBlATEVAAAm_Ori3KvgxgIVAigCQzMsF0BJZT987ZFoGBJkYXNoX2Jhc2VsaW5lXzFfdjERAHX-B2XmnQEA&_nc_zt=28&oh=00_AfR6PLab4ARx822peB79BycOfNHQSUmWVMmZ4ssMi8AjNQ&oe=6884437A'},\n",
       " {'id': '3652557312087256067_51890191783',\n",
       "  'shortcode': 'DKwfYX0t2wD',\n",
       "  'timestamp': 1749640983,\n",
       "  'like_count': 398,\n",
       "  'comment_count': 20,\n",
       "  'caption': '\\u2068\\tباش ما يضحكوش عليك كيف ضحكوا على هاد السيد… هذا علاش بديت هاد المحتوى! \\n📢 شوفو هاد الدقيقة من البودكاست… واش هادشي كيوقع غير لي ما فاهمش ؟\\n#المغرب ء#هندسة_معمارية #معمار #construction #architecture #design #تخطيط_المساحات\\u2069',\n",
       "  'media_type': 2,\n",
       "  'image_url': 'https://scontent.cdninstagram.com/v/t51.75761-15/505457011_18012208541735784_2785006546310893789_n.jpg?stp=dst-jpg_e15_tt6&_nc_cat=100&ig_cache_key=MzY1MjU1NzMxMjA4NzI1NjA2NzE4MDEyMjA4NTM4NzM1Nzg0.3-ccb1-7&ccb=1-7&_nc_sid=58cdad&efg=eyJ2ZW5jb2RlX3RhZyI6InhwaWRzLjEwODB4MTkyMC5zZHIifQ%3D%3D&_nc_ohc=EDqK6BB8vzsQ7kNvwHB8T2b&_nc_oc=AdkvbucaDZHqHBcbhD4duxnAjYf0HWe_GN_Vfquxvd4DGDdwsRAj4h8i_89NmhS3Acw&_nc_ad=z-m&_nc_cid=1736&_nc_zt=23&_nc_ht=scontent.cdninstagram.com&_nc_gid=xuJuk8BOEr31V9RYYppBjg&oh=00_AfTn-Zd5DJFWJI8C8wxW3TXpmDB7e450x-amqtkkM0SdAg&oe=68881044',\n",
       "  'video_url': 'https://instagram.frba2-2.fna.fbcdn.net/o1/v/t2/f2/m86/AQMXC0ElT8Wl65ftpNvyHPeXyze7xz5FMQL474eqscwj-er8DX_hZdyKDMwxFjwLqkk1jxJvXqHrVrgbsbyoKNxIaCIi7X-9CL277E0.mp4?_nc_cat=103&_nc_oc=AdmyxREQUI7QVUE4WxtqYFuEvt66t8s9IWy1Dh934sBl96BQhIv3i32OAXLDHZXKEu4&_nc_sid=5e9851&_nc_ht=instagram.frba2-2.fna.fbcdn.net&_nc_ohc=FPywt4_P_H0Q7kNvwHRBBpQ&efg=eyJ2ZW5jb2RlX3RhZyI6Inhwdl9wcm9ncmVzc2l2ZS5JTlNUQUdSQU0uQ0xJUFMuQzMuNzIwLmRhc2hfYmFzZWxpbmVfMV92MSIsInhwdl9hc3NldF9pZCI6MTA0ODkwNjcxNjc2ODk1NSwidmlfdXNlY2FzZV9pZCI6MTAwOTksImR1cmF0aW9uX3MiOjcxLCJ1cmxnZW5fc291cmNlIjoid3d3In0%3D&ccb=17-1&vs=6bda04ba1861acd1&_nc_vs=HBksFQIYUmlnX3hwdl9yZWVsc19wZXJtYW5lbnRfc3JfcHJvZC9CNzRDN0JEM0U5NDI4RUU0MTg4QjZGNjc4NzIyMzY5OV92aWRlb19kYXNoaW5pdC5tcDQVAALIARIAFQIYOnBhc3N0aHJvdWdoX2V2ZXJzdG9yZS9HR0drSmg3SVJpWG5pTVFEQUtKRWFQZk44R3c4YnFfRUFBQUYVAgLIARIAKAAYABsCiAd1c2Vfb2lsATEScHJvZ3Jlc3NpdmVfcmVjaXBlATEVAAAm9qqLhLT-3AMVAigCQzMsF0BRzQ5WBBiTGBJkYXNoX2Jhc2VsaW5lXzFfdjERAHX-B2XmnQEA&_nc_zt=28&oh=00_AfQ1JouYQ_46xkclrOkTgvQO3U4qcxvznTBqXpZn35EoxQ&oe=68842BD8'},\n",
       " {'id': '3652551124457011033_1818506767',\n",
       "  'shortcode': 'DKwd-VJNrdZ',\n",
       "  'timestamp': 1749638593,\n",
       "  'like_count': 428,\n",
       "  'comment_count': 20,\n",
       "  'caption': 'وأخيراً قررت وزارة السياحة تقديم قانون جميع الإقامات السياحية #tourism #marrakech #marocco🇲🇦 #marrakech #visitmorocco🇲🇦',\n",
       "  'media_type': 2,\n",
       "  'image_url': 'https://scontent.cdninstagram.com/v/t51.75761-15/504876023_18505695874010768_1706050784000553318_n.jpg?stp=dst-jpg_e15_tt6&_nc_cat=101&ig_cache_key=MzY1MjU1MTEyNDQ1NzAxMTAzMw%3D%3D.3-ccb1-7&ccb=1-7&_nc_sid=58cdad&efg=eyJ2ZW5jb2RlX3RhZyI6InhwaWRzLjEyOTB4MjI5NC5zZHIifQ%3D%3D&_nc_ohc=Eikm2RIsZGIQ7kNvwEiUqSC&_nc_oc=AdkqgOC0HDQE9j-hJAeD9xqHeT72mbRbo7vbzws9pBhFSlzz0a5NDO0uKyb39-GCADM&_nc_ad=z-m&_nc_cid=1736&_nc_zt=23&_nc_ht=scontent.cdninstagram.com&_nc_gid=xuJuk8BOEr31V9RYYppBjg&oh=00_AfQsM4bf-E3Edg-P5FI-grW41Zw5rQFiv5Ep5FA16u0p3w&oe=68882038',\n",
       "  'video_url': 'https://instagram.frba2-2.fna.fbcdn.net/o1/v/t2/f2/m86/AQP5Uo2M3yCTn2NcQ7RSXa6tK7eu9vmtF0Xk9tJNWr8gqEJeAdf-cfI0TVLdCm_Ul-uTo6emZb1CzAvFMUjE9nJMMBtH_wYtvVHlBqo.mp4?_nc_cat=106&_nc_oc=Adkpxnn58iKbyuwM_oTJaoQR7ej9utmKhN8KvuubyfrrXyxKiUckxjaoQnKXiTdM3Uo&_nc_sid=5e9851&_nc_ht=instagram.frba2-2.fna.fbcdn.net&_nc_ohc=mM-SSOtybFQQ7kNvwF0crZD&efg=eyJ2ZW5jb2RlX3RhZyI6Inhwdl9wcm9ncmVzc2l2ZS5JTlNUQUdSQU0uQ0xJUFMuQzMuNzIwLmRhc2hfYmFzZWxpbmVfMV92MSIsInhwdl9hc3NldF9pZCI6Njg1MzIwOTQxMzI4ODg4LCJ2aV91c2VjYXNlX2lkIjoxMDA5OSwiZHVyYXRpb25fcyI6NzcsInVybGdlbl9zb3VyY2UiOiJ3d3cifQ%3D%3D&ccb=17-1&vs=d5f6d492a931a9e&_nc_vs=HBksFQIYUmlnX3hwdl9yZWVsc19wZXJtYW5lbnRfc3JfcHJvZC9ERjQ0OTU2MjlEQjQ2MDlERDJFODg5MjRBRkNFRjRBN192aWRlb19kYXNoaW5pdC5tcDQVAALIARIAFQIYOnBhc3N0aHJvdWdoX2V2ZXJzdG9yZS9HTkt6TFI1TlRwbDhhVElHQUNYZE1vYjNRZ1ZJYnFfRUFBQUYVAgLIARIAKAAYABsCiAd1c2Vfb2lsATEScHJvZ3Jlc3NpdmVfcmVjaXBlATEVAAAm8Oee9PbStwIVAigCQzMsF0BTW9cKPXCkGBJkYXNoX2Jhc2VsaW5lXzFfdjERAHX-B2XmnQEA&_nc_zt=28&oh=00_AfSo3VVCzKdzG3y4GJpPuJmzWWqnJieOLHYIj8MG9OGlaA&oe=688420E7'},\n",
       " {'id': '3650399521918589688_51890191783',\n",
       "  'shortcode': 'DKo0wZINpr4',\n",
       "  'timestamp': 1749381792,\n",
       "  'like_count': 839,\n",
       "  'comment_count': 30,\n",
       "  'caption': 'باغي تبني؟ راه كاين وثيقة وحدة كتفرك قبل ما تبدأ وتخسّر فلوسك!”\\nهاد الدقيقة من البودكاست غادي تفهم فيها علاش note de renseignement هي أول حاجة خاصك تطلب من الوكالة الحضرية قبل ما دير حتى خطوة.\\nكتعرف بيها شنو مسموح وشنو ممنوع…\\n\\n#المهندس_المعماري #ammaniarchitecture #العقار_بالمغرب #رخصة_البناء #المغرب #podcast #نصائح_البناء #note_de_renseignement',\n",
       "  'media_type': 2,\n",
       "  'image_url': 'https://scontent.cdninstagram.com/v/t51.75761-15/505115818_18011599886735784_4594021741631367443_n.jpg?stp=dst-jpg_e15_tt6&_nc_cat=101&ig_cache_key=MzY1MDM5OTUyMTkxODU4OTY4OA%3D%3D.3-ccb1-7&ccb=1-7&_nc_sid=58cdad&efg=eyJ2ZW5jb2RlX3RhZyI6InhwaWRzLjEwODB4MTkyMC5zZHIifQ%3D%3D&_nc_ohc=COMdGP31Pj0Q7kNvwE5aRvx&_nc_oc=Adk0zreMc_Rc4PgEJOU_CC6yxdOThgnBdz8KqNWcw2I2fJ_O0-xPlUTwfdnm6xmerZ8&_nc_ad=z-m&_nc_cid=1736&_nc_zt=23&_nc_ht=scontent.cdninstagram.com&_nc_gid=xuJuk8BOEr31V9RYYppBjg&oh=00_AfRu96bs126r-B-rGRp4JTuNBCzu-Nisnhn0-V_fPmiILw&oe=68882227',\n",
       "  'video_url': 'https://instagram.frba2-2.fna.fbcdn.net/o1/v/t2/f2/m86/AQN3RwHNXMTkHWVmeapNTN2JpOUpNcy9F-_0olwwbMGfjSIWqdz2mz54RQ5HfXzaDnk0InHD7Hj8flwStDxB4KVLc0njyg5wyr2_8HU.mp4?_nc_cat=106&_nc_oc=AdnOs2Vfuhe412WEDxdj4oDwwUUfW01UfialdsNP91XswTM6a_QJi8fLoo9o_tUf_D4&_nc_sid=5e9851&_nc_ht=instagram.frba2-2.fna.fbcdn.net&_nc_ohc=YNfHL2dyppAQ7kNvwGFYzFb&efg=eyJ2ZW5jb2RlX3RhZyI6Inhwdl9wcm9ncmVzc2l2ZS5JTlNUQUdSQU0uQ0xJUFMuQzMuNzIwLmRhc2hfYmFzZWxpbmVfMV92MSIsInhwdl9hc3NldF9pZCI6Mjk4NTQ5ODAzNzQxNDkzMjAsInZpX3VzZWNhc2VfaWQiOjEwMDk5LCJkdXJhdGlvbl9zIjo3MywidXJsZ2VuX3NvdXJjZSI6Ind3dyJ9&ccb=17-1&vs=89b7ddc59d5052ab&_nc_vs=HBksFQIYUmlnX3hwdl9yZWVsc19wZXJtYW5lbnRfc3JfcHJvZC9CNzQ2M0E2NDM1RkVBMjAxMkFDNkY2MTY4OEYzRkY5NV92aWRlb19kYXNoaW5pdC5tcDQVAALIARIAFQIYOnBhc3N0aHJvdWdoX2V2ZXJzdG9yZS9HRVRxR3g0RlRLSkd5SEpWQUluQ2ZmUEFtcXhyYnFfRUFBQUYVAgLIARIAKAAYABsCiAd1c2Vfb2lsATEScHJvZ3Jlc3NpdmVfcmVjaXBlATEVAAAmkOPRv8m8iGoVAigCQzMsF0BSYAAAAAAAGBJkYXNoX2Jhc2VsaW5lXzFfdjERAHX-B2XmnQEA&_nc_zt=28&oh=00_AfQyuAXf_dyGcutAKm5-GIAXVXq3XVRuQJ1WxvJWDjHdPA&oe=6884220B'},\n",
       " {'id': '3647651212535557624_54927492788',\n",
       "  'shortcode': 'DKfD3OjtG34',\n",
       "  'timestamp': 1749054108,\n",
       "  'like_count': 1343,\n",
       "  'comment_count': 66,\n",
       "  'caption': 'شحال الأرباح من Airbnb فمراكش#المغرب #العقار #مراكش #كازا',\n",
       "  'media_type': 2,\n",
       "  'image_url': 'https://scontent.cdninstagram.com/v/t51.71878-15/503035523_597868860009011_3944115148987404435_n.jpg?stp=dst-jpg_e15_tt6&_nc_cat=107&ig_cache_key=MzY0NzY1MTIxMjUzNTU1NzYyNDE1NTcwNDE3MDUyODQ1Nzc%3D.3-ccb1-7&ccb=1-7&_nc_sid=58cdad&efg=eyJ2ZW5jb2RlX3RhZyI6InhwaWRzLjY0MHgxMTM2LnNkciJ9&_nc_ohc=cyYj3KvgnsMQ7kNvwGt5rsk&_nc_oc=AdlEpZoBG6xyuMw-uGPhpa2PCKmX3CbSn1tUtYzHw1BznBBdm9Pu9mZ9pAULWOfbeo4&_nc_ad=z-m&_nc_cid=1736&_nc_zt=23&_nc_ht=scontent.cdninstagram.com&_nc_gid=xuJuk8BOEr31V9RYYppBjg&oh=00_AfQ7mBohQKJZ8M7KkwhWoOe5cO3fLOSGmvjk9PmT1UyknQ&oe=688823F0',\n",
       "  'video_url': 'https://instagram.frba2-1.fna.fbcdn.net/o1/v/t2/f2/m86/AQMit_y4VJgq7mMpO2tRZ_S4Dna1PONlFRsrnNHKbZDPvR7Us9HHkQKptXJIANZqNwuPSgC7ec0HzTXCtUIpkFhOU_7jPG6ELerMlic.mp4?_nc_cat=102&_nc_oc=AdkW1y2IRVcEzUpsxBVT81sOYu-Ij94-kiFQALDG75SgrFP505UvAT4ckTWFHLduH2Q&_nc_sid=5e9851&_nc_ht=instagram.frba2-1.fna.fbcdn.net&_nc_ohc=cWtsKbIIjEkQ7kNvwHKy4rA&efg=eyJ2ZW5jb2RlX3RhZyI6Inhwdl9wcm9ncmVzc2l2ZS5JTlNUQUdSQU0uQ0xJUFMuQzMuNzIwLmRhc2hfYmFzZWxpbmVfMV92MSIsInhwdl9hc3NldF9pZCI6MTU1NzAzOTUxODYxODEyOSwidmlfdXNlY2FzZV9pZCI6MTAwOTksImR1cmF0aW9uX3MiOjU2LCJ1cmxnZW5fc291cmNlIjoid3d3In0%3D&ccb=17-1&vs=6fc499aa0f3ebc46&_nc_vs=HBksFQIYUmlnX3hwdl9yZWVsc19wZXJtYW5lbnRfc3JfcHJvZC84ODQ3M0QwN0E4QzdEQ0IyRURDNjQyOERBMDg3NDBBQ192aWRlb19kYXNoaW5pdC5tcDQVAALIARIAFQIYOnBhc3N0aHJvdWdoX2V2ZXJzdG9yZS9HQnQzQ3g0R1dBcHlab3dDQUJXdTM3cE1yc2g5YnFfRUFBQUYVAgLIARIAKAAYABsCiAd1c2Vfb2lsATEScHJvZ3Jlc3NpdmVfcmVjaXBlATEVAAAmosjEttCHxAUVAigCQzMsF0BMap--dsi0GBJkYXNoX2Jhc2VsaW5lXzFfdjERAHX-B2XmnQEA&_nc_zt=28&oh=00_AfSoihtUx_trQHBpyDWWmK-MtvzvRfCiEsi5wQtr3232Fg&oe=6884405B'},\n",
       " {'id': '3646034101052658027_54927492788',\n",
       "  'shortcode': 'DKZULKINFFr',\n",
       "  'timestamp': 1748861315,\n",
       "  'like_count': 655,\n",
       "  'comment_count': 19,\n",
       "  'caption': 'تعرف واش شاري ولا مضحوك عليك سول البنك #المغرب #العقار #العقارات',\n",
       "  'media_type': 2,\n",
       "  'image_url': 'https://scontent.cdninstagram.com/v/t51.71878-15/503372676_693849996769710_2550899896690581885_n.jpg?stp=dst-jpg_e15_tt6&_nc_cat=105&ig_cache_key=MzY0NjAzNDEwMTA1MjY1ODAyNw%3D%3D.3-ccb1-7&ccb=1-7&_nc_sid=58cdad&efg=eyJ2ZW5jb2RlX3RhZyI6InhwaWRzLjY0MHgxMTM2LnNkciJ9&_nc_ohc=FW3gYdNNUYQQ7kNvwF73Fx5&_nc_oc=AdnGbVJtYsU-cGlZ5acYibMOTO4FGWrdzkFamiB7webTTFpTOtZ68DCuc5H--djmcEc&_nc_ad=z-m&_nc_cid=1736&_nc_zt=23&_nc_ht=scontent.cdninstagram.com&_nc_gid=xuJuk8BOEr31V9RYYppBjg&oh=00_AfStpmkSlAI4h7OkvWPczeBX9IbRJBXBUUUiY3rmR9gJCg&oe=68882B32',\n",
       "  'video_url': 'https://instagram.frba2-1.fna.fbcdn.net/o1/v/t2/f2/m86/AQMW4cr-gHl1MqPFQ6ATFJi_VKX_NuQ_fF_QWCKl7e-vgvVWUFg_brQnVfUrLrHyQC4dQuYjrFkmzUs70DM9SgyhbrCJJhjUt8RW3IE.mp4?_nc_cat=105&_nc_oc=Adm0uuEXRoOr8PF_pmnl_foWh5qWLpesfhtSgEz-v_BR75aF7e76R4dgPj_lUfEHbIQ&_nc_sid=5e9851&_nc_ht=instagram.frba2-1.fna.fbcdn.net&_nc_ohc=ob-9IXJPEngQ7kNvwGtbYoX&efg=eyJ2ZW5jb2RlX3RhZyI6Inhwdl9wcm9ncmVzc2l2ZS5JTlNUQUdSQU0uQ0xJUFMuQzMuNzIwLmRhc2hfYmFzZWxpbmVfMV92MSIsInhwdl9hc3NldF9pZCI6NDk0NTAxMjkyOTA1NzQ1OCwidmlfdXNlY2FzZV9pZCI6MTAwOTksImR1cmF0aW9uX3MiOjU5LCJ1cmxnZW5fc291cmNlIjoid3d3In0%3D&ccb=17-1&vs=b487282c0916634a&_nc_vs=HBksFQIYUmlnX3hwdl9yZWVsc19wZXJtYW5lbnRfc3JfcHJvZC85QzQ1OTFEMzlENjY4MUIwOUZBMDVGRDdERjZGMUJBOV92aWRlb19kYXNoaW5pdC5tcDQVAALIARIAFQIYOnBhc3N0aHJvdWdoX2V2ZXJzdG9yZS9HREotLWgwUHE0U1Q2WEVFQUgwaTM5RDJGbHhvYnFfRUFBQUYVAgLIARIAKAAYABsCiAd1c2Vfb2lsATEScHJvZ3Jlc3NpdmVfcmVjaXBlATEVAAAm5MresNHdyBEVAigCQzMsF0BNok3S8an8GBJkYXNoX2Jhc2VsaW5lXzFfdjERAHX-B2XmnQEA&_nc_zt=28&oh=00_AfSt8LvDBv2tjdIZ5Gr4H4maxGjlOHAsiQ0bWKllC9crsA&oe=6884271E'}]"
      ]
     },
     "execution_count": 15,
     "metadata": {},
     "output_type": "execute_result"
    }
   ],
   "source": [
    "posts"
   ]
  },
  {
   "cell_type": "markdown",
   "id": "7c45e157",
   "metadata": {},
   "source": [
    "download_image"
   ]
  },
  {
   "cell_type": "code",
   "execution_count": 16,
   "id": "9a35b394",
   "metadata": {},
   "outputs": [
    {
     "data": {
      "text/plain": [
       "'c:\\\\Users\\\\hafss\\\\OneDrive\\\\Desktop\\\\New folder (12)\\\\multi-agent-system-for-identity-revelalion-and-reporting\\\\notebooks\\\\profile_pic.jpg'"
      ]
     },
     "execution_count": 16,
     "metadata": {},
     "output_type": "execute_result"
    }
   ],
   "source": [
    "download_image(user_info['profile_pic_url'])"
   ]
  },
  {
   "cell_type": "code",
   "execution_count": null,
   "id": "e4844520",
   "metadata": {},
   "outputs": [],
   "source": []
  },
  {
   "cell_type": "code",
   "execution_count": null,
   "id": "dae975f1",
   "metadata": {},
   "outputs": [],
   "source": []
  }
 ],
 "metadata": {
  "kernelspec": {
   "display_name": "agent-env",
   "language": "python",
   "name": "python3"
  },
  "language_info": {
   "codemirror_mode": {
    "name": "ipython",
    "version": 3
   },
   "file_extension": ".py",
   "mimetype": "text/x-python",
   "name": "python",
   "nbconvert_exporter": "python",
   "pygments_lexer": "ipython3",
   "version": "3.11.5"
  }
 },
 "nbformat": 4,
 "nbformat_minor": 5
}
